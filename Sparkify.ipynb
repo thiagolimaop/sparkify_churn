{
 "cells": [
  {
   "cell_type": "markdown",
   "metadata": {},
   "source": [
    "# Sparkify - A churn analysis by predicting model\n",
    "\n",
    "This notebook uses a toy dataset (128MB) made by udacity to analysis churn for a supposed music app called sparkify. The dataset is a log for the events made by the users in the app."
   ]
  },
  {
   "cell_type": "code",
   "execution_count": 130,
   "metadata": {},
   "outputs": [],
   "source": [
    "# import libraries\n",
    "from pyspark.sql import SparkSession\n",
    "from pyspark.sql.types import StringType, IntegerType, DateType\n",
    "from pyspark.sql.functions import count, when, col, desc, asc, from_unixtime, datediff\n",
    "from pyspark.sql.functions import sum as Fsum\n",
    "from pyspark.ml.feature import StringIndexer, VectorAssembler, Normalizer, MinMaxScaler\n",
    "from matplotlib import pyplot as plt\n",
    "\n",
    "import datetime\n",
    "\n",
    "import numpy as np\n",
    "import pandas as pd\n",
    "import seaborn as sns\n",
    "\n",
    "%matplotlib inline"
   ]
  },
  {
   "cell_type": "code",
   "execution_count": 2,
   "metadata": {},
   "outputs": [],
   "source": [
    "# create a Spark session\n",
    "spark = SparkSession \\\n",
    "    .builder \\\n",
    "    .appName('Predicting churn') \\\n",
    "    .getOrCreate()"
   ]
  },
  {
   "cell_type": "code",
   "execution_count": 3,
   "metadata": {},
   "outputs": [
    {
     "data": {
      "text/plain": [
       "[('spark.app.id', 'local-1635796037238'),\n",
       " ('spark.app.name', 'Predicting churn'),\n",
       " ('spark.rdd.compress', 'True'),\n",
       " ('spark.driver.port', '38689'),\n",
       " ('spark.driver.host', 'c7b8708c71df'),\n",
       " ('spark.serializer.objectStreamReset', '100'),\n",
       " ('spark.master', 'local[*]'),\n",
       " ('spark.executor.id', 'driver'),\n",
       " ('spark.submit.deployMode', 'client'),\n",
       " ('spark.ui.showConsoleProgress', 'true')]"
      ]
     },
     "execution_count": 3,
     "metadata": {},
     "output_type": "execute_result"
    }
   ],
   "source": [
    "spark.sparkContext.getConf().getAll()"
   ]
  },
  {
   "cell_type": "markdown",
   "metadata": {},
   "source": [
    "# Load and Clean Dataset\n",
    "In this notebook, the mini-dataset file is `mini_sparkify_event_data.json`. Load and clean the dataset, checking for invalid or missing data - for example, records without userids or sessionids."
   ]
  },
  {
   "cell_type": "code",
   "execution_count": 4,
   "metadata": {},
   "outputs": [],
   "source": [
    "path = 'mini_sparkify_event_data.json'\n",
    "user_log = spark.read.json(path)"
   ]
  },
  {
   "cell_type": "markdown",
   "metadata": {},
   "source": [
    "# Exploratory Data Analysis\n",
    "\n",
    "### Define Churn\n",
    "\n",
    "Churn is defined in this case using the event “Cancellation Confirmation”. So let’s create a column to the user's ID and another to say if this user canceled the service of music streaming or not. "
   ]
  },
  {
   "cell_type": "code",
   "execution_count": 5,
   "metadata": {},
   "outputs": [
    {
     "name": "stdout",
     "output_type": "stream",
     "text": [
      "root\n",
      " |-- artist: string (nullable = true)\n",
      " |-- auth: string (nullable = true)\n",
      " |-- firstName: string (nullable = true)\n",
      " |-- gender: string (nullable = true)\n",
      " |-- itemInSession: long (nullable = true)\n",
      " |-- lastName: string (nullable = true)\n",
      " |-- length: double (nullable = true)\n",
      " |-- level: string (nullable = true)\n",
      " |-- location: string (nullable = true)\n",
      " |-- method: string (nullable = true)\n",
      " |-- page: string (nullable = true)\n",
      " |-- registration: long (nullable = true)\n",
      " |-- sessionId: long (nullable = true)\n",
      " |-- song: string (nullable = true)\n",
      " |-- status: long (nullable = true)\n",
      " |-- ts: long (nullable = true)\n",
      " |-- userAgent: string (nullable = true)\n",
      " |-- userId: string (nullable = true)\n",
      "\n"
     ]
    }
   ],
   "source": [
    "user_log.printSchema()"
   ]
  },
  {
   "cell_type": "code",
   "execution_count": 6,
   "metadata": {},
   "outputs": [],
   "source": [
    "user_log.createOrReplaceTempView('user_log_table')"
   ]
  },
  {
   "cell_type": "code",
   "execution_count": 7,
   "metadata": {},
   "outputs": [
    {
     "data": {
      "text/html": [
       "<div>\n",
       "<style scoped>\n",
       "    .dataframe tbody tr th:only-of-type {\n",
       "        vertical-align: middle;\n",
       "    }\n",
       "\n",
       "    .dataframe tbody tr th {\n",
       "        vertical-align: top;\n",
       "    }\n",
       "\n",
       "    .dataframe thead th {\n",
       "        text-align: right;\n",
       "    }\n",
       "</style>\n",
       "<table border=\"1\" class=\"dataframe\">\n",
       "  <thead>\n",
       "    <tr style=\"text-align: right;\">\n",
       "      <th></th>\n",
       "      <th>artist</th>\n",
       "      <th>auth</th>\n",
       "      <th>firstName</th>\n",
       "      <th>gender</th>\n",
       "      <th>itemInSession</th>\n",
       "      <th>lastName</th>\n",
       "      <th>length</th>\n",
       "      <th>level</th>\n",
       "      <th>location</th>\n",
       "      <th>method</th>\n",
       "      <th>page</th>\n",
       "      <th>registration</th>\n",
       "      <th>sessionId</th>\n",
       "      <th>song</th>\n",
       "      <th>status</th>\n",
       "      <th>ts</th>\n",
       "      <th>userAgent</th>\n",
       "      <th>userId</th>\n",
       "    </tr>\n",
       "  </thead>\n",
       "  <tbody>\n",
       "    <tr>\n",
       "      <th>0</th>\n",
       "      <td>Martha Tilston</td>\n",
       "      <td>Logged In</td>\n",
       "      <td>Colin</td>\n",
       "      <td>M</td>\n",
       "      <td>50</td>\n",
       "      <td>Freeman</td>\n",
       "      <td>277.89016</td>\n",
       "      <td>paid</td>\n",
       "      <td>Bakersfield, CA</td>\n",
       "      <td>PUT</td>\n",
       "      <td>NextSong</td>\n",
       "      <td>1538173362000</td>\n",
       "      <td>29</td>\n",
       "      <td>Rockpools</td>\n",
       "      <td>200</td>\n",
       "      <td>1538352117000</td>\n",
       "      <td>Mozilla/5.0 (Windows NT 6.1; WOW64; rv:31.0) G...</td>\n",
       "      <td>30</td>\n",
       "    </tr>\n",
       "    <tr>\n",
       "      <th>1</th>\n",
       "      <td>Five Iron Frenzy</td>\n",
       "      <td>Logged In</td>\n",
       "      <td>Micah</td>\n",
       "      <td>M</td>\n",
       "      <td>79</td>\n",
       "      <td>Long</td>\n",
       "      <td>236.09424</td>\n",
       "      <td>free</td>\n",
       "      <td>Boston-Cambridge-Newton, MA-NH</td>\n",
       "      <td>PUT</td>\n",
       "      <td>NextSong</td>\n",
       "      <td>1538331630000</td>\n",
       "      <td>8</td>\n",
       "      <td>Canada</td>\n",
       "      <td>200</td>\n",
       "      <td>1538352180000</td>\n",
       "      <td>\"Mozilla/5.0 (Windows NT 6.1; WOW64) AppleWebK...</td>\n",
       "      <td>9</td>\n",
       "    </tr>\n",
       "  </tbody>\n",
       "</table>\n",
       "</div>"
      ],
      "text/plain": [
       "             artist       auth firstName gender  itemInSession lastName  \\\n",
       "0    Martha Tilston  Logged In     Colin      M             50  Freeman   \n",
       "1  Five Iron Frenzy  Logged In     Micah      M             79     Long   \n",
       "\n",
       "      length level                        location method      page  \\\n",
       "0  277.89016  paid                 Bakersfield, CA    PUT  NextSong   \n",
       "1  236.09424  free  Boston-Cambridge-Newton, MA-NH    PUT  NextSong   \n",
       "\n",
       "    registration  sessionId       song  status             ts  \\\n",
       "0  1538173362000         29  Rockpools     200  1538352117000   \n",
       "1  1538331630000          8     Canada     200  1538352180000   \n",
       "\n",
       "                                           userAgent userId  \n",
       "0  Mozilla/5.0 (Windows NT 6.1; WOW64; rv:31.0) G...     30  \n",
       "1  \"Mozilla/5.0 (Windows NT 6.1; WOW64) AppleWebK...      9  "
      ]
     },
     "execution_count": 7,
     "metadata": {},
     "output_type": "execute_result"
    }
   ],
   "source": [
    "spark.sql('''\n",
    "            SELECT * \n",
    "            FROM user_log_table\n",
    "            LIMIT 2\n",
    "            '''\n",
    "         ).toPandas()"
   ]
  },
  {
   "cell_type": "code",
   "execution_count": 17,
   "metadata": {},
   "outputs": [
    {
     "data": {
      "text/html": [
       "<div>\n",
       "<style scoped>\n",
       "    .dataframe tbody tr th:only-of-type {\n",
       "        vertical-align: middle;\n",
       "    }\n",
       "\n",
       "    .dataframe tbody tr th {\n",
       "        vertical-align: top;\n",
       "    }\n",
       "\n",
       "    .dataframe thead th {\n",
       "        text-align: right;\n",
       "    }\n",
       "</style>\n",
       "<table border=\"1\" class=\"dataframe\">\n",
       "  <thead>\n",
       "    <tr style=\"text-align: right;\">\n",
       "      <th></th>\n",
       "      <th>userID</th>\n",
       "      <th>auth</th>\n",
       "      <th>level</th>\n",
       "      <th>location</th>\n",
       "      <th>page</th>\n",
       "      <th>song</th>\n",
       "      <th>status</th>\n",
       "    </tr>\n",
       "  </thead>\n",
       "  <tbody>\n",
       "    <tr>\n",
       "      <th>0</th>\n",
       "      <td>30</td>\n",
       "      <td>Logged In</td>\n",
       "      <td>paid</td>\n",
       "      <td>Bakersfield, CA</td>\n",
       "      <td>NextSong</td>\n",
       "      <td>Rockpools</td>\n",
       "      <td>200</td>\n",
       "    </tr>\n",
       "    <tr>\n",
       "      <th>1</th>\n",
       "      <td>30</td>\n",
       "      <td>Logged In</td>\n",
       "      <td>paid</td>\n",
       "      <td>Bakersfield, CA</td>\n",
       "      <td>NextSong</td>\n",
       "      <td>Time For Miracles</td>\n",
       "      <td>200</td>\n",
       "    </tr>\n",
       "    <tr>\n",
       "      <th>2</th>\n",
       "      <td>30</td>\n",
       "      <td>Logged In</td>\n",
       "      <td>paid</td>\n",
       "      <td>Bakersfield, CA</td>\n",
       "      <td>NextSong</td>\n",
       "      <td>Harder Better Faster Stronger</td>\n",
       "      <td>200</td>\n",
       "    </tr>\n",
       "    <tr>\n",
       "      <th>3</th>\n",
       "      <td>30</td>\n",
       "      <td>Logged In</td>\n",
       "      <td>paid</td>\n",
       "      <td>Bakersfield, CA</td>\n",
       "      <td>NextSong</td>\n",
       "      <td>Passengers (Old Album Version)</td>\n",
       "      <td>200</td>\n",
       "    </tr>\n",
       "    <tr>\n",
       "      <th>4</th>\n",
       "      <td>30</td>\n",
       "      <td>Logged In</td>\n",
       "      <td>paid</td>\n",
       "      <td>Bakersfield, CA</td>\n",
       "      <td>Add to Playlist</td>\n",
       "      <td>None</td>\n",
       "      <td>200</td>\n",
       "    </tr>\n",
       "    <tr>\n",
       "      <th>5</th>\n",
       "      <td>30</td>\n",
       "      <td>Logged In</td>\n",
       "      <td>paid</td>\n",
       "      <td>Bakersfield, CA</td>\n",
       "      <td>NextSong</td>\n",
       "      <td>Fuck Kitty</td>\n",
       "      <td>200</td>\n",
       "    </tr>\n",
       "    <tr>\n",
       "      <th>6</th>\n",
       "      <td>30</td>\n",
       "      <td>Logged In</td>\n",
       "      <td>paid</td>\n",
       "      <td>Bakersfield, CA</td>\n",
       "      <td>NextSong</td>\n",
       "      <td>Jade</td>\n",
       "      <td>200</td>\n",
       "    </tr>\n",
       "    <tr>\n",
       "      <th>7</th>\n",
       "      <td>30</td>\n",
       "      <td>Logged In</td>\n",
       "      <td>paid</td>\n",
       "      <td>Bakersfield, CA</td>\n",
       "      <td>NextSong</td>\n",
       "      <td>So-Called Friends</td>\n",
       "      <td>200</td>\n",
       "    </tr>\n",
       "    <tr>\n",
       "      <th>8</th>\n",
       "      <td>30</td>\n",
       "      <td>Logged In</td>\n",
       "      <td>paid</td>\n",
       "      <td>Bakersfield, CA</td>\n",
       "      <td>NextSong</td>\n",
       "      <td>Represent</td>\n",
       "      <td>200</td>\n",
       "    </tr>\n",
       "    <tr>\n",
       "      <th>9</th>\n",
       "      <td>30</td>\n",
       "      <td>Logged In</td>\n",
       "      <td>paid</td>\n",
       "      <td>Bakersfield, CA</td>\n",
       "      <td>NextSong</td>\n",
       "      <td>Here I Am</td>\n",
       "      <td>200</td>\n",
       "    </tr>\n",
       "    <tr>\n",
       "      <th>10</th>\n",
       "      <td>30</td>\n",
       "      <td>Logged In</td>\n",
       "      <td>paid</td>\n",
       "      <td>Bakersfield, CA</td>\n",
       "      <td>NextSong</td>\n",
       "      <td>Rebirthing (Album Version)</td>\n",
       "      <td>200</td>\n",
       "    </tr>\n",
       "    <tr>\n",
       "      <th>11</th>\n",
       "      <td>30</td>\n",
       "      <td>Logged In</td>\n",
       "      <td>paid</td>\n",
       "      <td>Bakersfield, CA</td>\n",
       "      <td>NextSong</td>\n",
       "      <td>Dog Days Are Over (Radio Edit)</td>\n",
       "      <td>200</td>\n",
       "    </tr>\n",
       "    <tr>\n",
       "      <th>12</th>\n",
       "      <td>30</td>\n",
       "      <td>Logged In</td>\n",
       "      <td>paid</td>\n",
       "      <td>Bakersfield, CA</td>\n",
       "      <td>NextSong</td>\n",
       "      <td>Tomorrow Is A Long Time</td>\n",
       "      <td>200</td>\n",
       "    </tr>\n",
       "    <tr>\n",
       "      <th>13</th>\n",
       "      <td>30</td>\n",
       "      <td>Logged In</td>\n",
       "      <td>paid</td>\n",
       "      <td>Bakersfield, CA</td>\n",
       "      <td>NextSong</td>\n",
       "      <td>Halloween Spooks</td>\n",
       "      <td>200</td>\n",
       "    </tr>\n",
       "    <tr>\n",
       "      <th>14</th>\n",
       "      <td>30</td>\n",
       "      <td>Logged In</td>\n",
       "      <td>paid</td>\n",
       "      <td>Bakersfield, CA</td>\n",
       "      <td>NextSong</td>\n",
       "      <td>Stronger</td>\n",
       "      <td>200</td>\n",
       "    </tr>\n",
       "    <tr>\n",
       "      <th>15</th>\n",
       "      <td>30</td>\n",
       "      <td>Logged In</td>\n",
       "      <td>paid</td>\n",
       "      <td>Bakersfield, CA</td>\n",
       "      <td>NextSong</td>\n",
       "      <td>Dis Iz Brick City</td>\n",
       "      <td>200</td>\n",
       "    </tr>\n",
       "    <tr>\n",
       "      <th>16</th>\n",
       "      <td>30</td>\n",
       "      <td>Logged In</td>\n",
       "      <td>paid</td>\n",
       "      <td>Bakersfield, CA</td>\n",
       "      <td>NextSong</td>\n",
       "      <td>Move Along</td>\n",
       "      <td>200</td>\n",
       "    </tr>\n",
       "    <tr>\n",
       "      <th>17</th>\n",
       "      <td>30</td>\n",
       "      <td>Logged In</td>\n",
       "      <td>paid</td>\n",
       "      <td>Bakersfield, CA</td>\n",
       "      <td>NextSong</td>\n",
       "      <td>Manhattan</td>\n",
       "      <td>200</td>\n",
       "    </tr>\n",
       "    <tr>\n",
       "      <th>18</th>\n",
       "      <td>30</td>\n",
       "      <td>Logged In</td>\n",
       "      <td>paid</td>\n",
       "      <td>Bakersfield, CA</td>\n",
       "      <td>NextSong</td>\n",
       "      <td>Undo</td>\n",
       "      <td>200</td>\n",
       "    </tr>\n",
       "    <tr>\n",
       "      <th>19</th>\n",
       "      <td>30</td>\n",
       "      <td>Logged In</td>\n",
       "      <td>paid</td>\n",
       "      <td>Bakersfield, CA</td>\n",
       "      <td>NextSong</td>\n",
       "      <td>The Big Gundown</td>\n",
       "      <td>200</td>\n",
       "    </tr>\n",
       "    <tr>\n",
       "      <th>20</th>\n",
       "      <td>30</td>\n",
       "      <td>Logged In</td>\n",
       "      <td>paid</td>\n",
       "      <td>Bakersfield, CA</td>\n",
       "      <td>NextSong</td>\n",
       "      <td>Black Bird</td>\n",
       "      <td>200</td>\n",
       "    </tr>\n",
       "    <tr>\n",
       "      <th>21</th>\n",
       "      <td>30</td>\n",
       "      <td>Logged In</td>\n",
       "      <td>paid</td>\n",
       "      <td>Bakersfield, CA</td>\n",
       "      <td>Thumbs Down</td>\n",
       "      <td>None</td>\n",
       "      <td>307</td>\n",
       "    </tr>\n",
       "    <tr>\n",
       "      <th>22</th>\n",
       "      <td>30</td>\n",
       "      <td>Logged In</td>\n",
       "      <td>paid</td>\n",
       "      <td>Bakersfield, CA</td>\n",
       "      <td>NextSong</td>\n",
       "      <td>Nausea</td>\n",
       "      <td>200</td>\n",
       "    </tr>\n",
       "    <tr>\n",
       "      <th>23</th>\n",
       "      <td>30</td>\n",
       "      <td>Logged In</td>\n",
       "      <td>paid</td>\n",
       "      <td>Bakersfield, CA</td>\n",
       "      <td>NextSong</td>\n",
       "      <td>Matricide</td>\n",
       "      <td>200</td>\n",
       "    </tr>\n",
       "    <tr>\n",
       "      <th>24</th>\n",
       "      <td>30</td>\n",
       "      <td>Logged In</td>\n",
       "      <td>paid</td>\n",
       "      <td>Bakersfield, CA</td>\n",
       "      <td>NextSong</td>\n",
       "      <td>Valerie</td>\n",
       "      <td>200</td>\n",
       "    </tr>\n",
       "    <tr>\n",
       "      <th>25</th>\n",
       "      <td>30</td>\n",
       "      <td>Logged In</td>\n",
       "      <td>paid</td>\n",
       "      <td>Bakersfield, CA</td>\n",
       "      <td>NextSong</td>\n",
       "      <td>Margarita</td>\n",
       "      <td>200</td>\n",
       "    </tr>\n",
       "    <tr>\n",
       "      <th>26</th>\n",
       "      <td>30</td>\n",
       "      <td>Logged In</td>\n",
       "      <td>paid</td>\n",
       "      <td>Bakersfield, CA</td>\n",
       "      <td>NextSong</td>\n",
       "      <td>Le Jardin d'Hiver</td>\n",
       "      <td>200</td>\n",
       "    </tr>\n",
       "    <tr>\n",
       "      <th>27</th>\n",
       "      <td>30</td>\n",
       "      <td>Logged In</td>\n",
       "      <td>paid</td>\n",
       "      <td>Bakersfield, CA</td>\n",
       "      <td>Thumbs Up</td>\n",
       "      <td>None</td>\n",
       "      <td>307</td>\n",
       "    </tr>\n",
       "    <tr>\n",
       "      <th>28</th>\n",
       "      <td>30</td>\n",
       "      <td>Logged In</td>\n",
       "      <td>paid</td>\n",
       "      <td>Bakersfield, CA</td>\n",
       "      <td>NextSong</td>\n",
       "      <td>Soon As I Get Home(Album Version)</td>\n",
       "      <td>200</td>\n",
       "    </tr>\n",
       "    <tr>\n",
       "      <th>29</th>\n",
       "      <td>30</td>\n",
       "      <td>Logged In</td>\n",
       "      <td>paid</td>\n",
       "      <td>Bakersfield, CA</td>\n",
       "      <td>Thumbs Up</td>\n",
       "      <td>None</td>\n",
       "      <td>307</td>\n",
       "    </tr>\n",
       "    <tr>\n",
       "      <th>30</th>\n",
       "      <td>30</td>\n",
       "      <td>Logged In</td>\n",
       "      <td>paid</td>\n",
       "      <td>Bakersfield, CA</td>\n",
       "      <td>NextSong</td>\n",
       "      <td>Vamos a la Playa</td>\n",
       "      <td>200</td>\n",
       "    </tr>\n",
       "    <tr>\n",
       "      <th>31</th>\n",
       "      <td>30</td>\n",
       "      <td>Logged In</td>\n",
       "      <td>paid</td>\n",
       "      <td>Bakersfield, CA</td>\n",
       "      <td>NextSong</td>\n",
       "      <td>Perfecta</td>\n",
       "      <td>200</td>\n",
       "    </tr>\n",
       "    <tr>\n",
       "      <th>32</th>\n",
       "      <td>30</td>\n",
       "      <td>Logged In</td>\n",
       "      <td>paid</td>\n",
       "      <td>Bakersfield, CA</td>\n",
       "      <td>NextSong</td>\n",
       "      <td>Requiem</td>\n",
       "      <td>200</td>\n",
       "    </tr>\n",
       "    <tr>\n",
       "      <th>33</th>\n",
       "      <td>30</td>\n",
       "      <td>Logged In</td>\n",
       "      <td>paid</td>\n",
       "      <td>Bakersfield, CA</td>\n",
       "      <td>NextSong</td>\n",
       "      <td>Who Can Compare</td>\n",
       "      <td>200</td>\n",
       "    </tr>\n",
       "    <tr>\n",
       "      <th>34</th>\n",
       "      <td>30</td>\n",
       "      <td>Logged In</td>\n",
       "      <td>paid</td>\n",
       "      <td>Bakersfield, CA</td>\n",
       "      <td>NextSong</td>\n",
       "      <td>240 Years Before Your Time</td>\n",
       "      <td>200</td>\n",
       "    </tr>\n",
       "    <tr>\n",
       "      <th>35</th>\n",
       "      <td>30</td>\n",
       "      <td>Logged In</td>\n",
       "      <td>paid</td>\n",
       "      <td>Bakersfield, CA</td>\n",
       "      <td>NextSong</td>\n",
       "      <td>Rosa Pastel</td>\n",
       "      <td>200</td>\n",
       "    </tr>\n",
       "    <tr>\n",
       "      <th>36</th>\n",
       "      <td>30</td>\n",
       "      <td>Logged In</td>\n",
       "      <td>paid</td>\n",
       "      <td>Bakersfield, CA</td>\n",
       "      <td>Roll Advert</td>\n",
       "      <td>None</td>\n",
       "      <td>200</td>\n",
       "    </tr>\n",
       "    <tr>\n",
       "      <th>37</th>\n",
       "      <td>30</td>\n",
       "      <td>Logged In</td>\n",
       "      <td>paid</td>\n",
       "      <td>Bakersfield, CA</td>\n",
       "      <td>NextSong</td>\n",
       "      <td>I'm Ready (Album Version)</td>\n",
       "      <td>200</td>\n",
       "    </tr>\n",
       "    <tr>\n",
       "      <th>38</th>\n",
       "      <td>30</td>\n",
       "      <td>Logged In</td>\n",
       "      <td>paid</td>\n",
       "      <td>Bakersfield, CA</td>\n",
       "      <td>NextSong</td>\n",
       "      <td>No Other Saviour</td>\n",
       "      <td>200</td>\n",
       "    </tr>\n",
       "    <tr>\n",
       "      <th>39</th>\n",
       "      <td>30</td>\n",
       "      <td>Logged In</td>\n",
       "      <td>paid</td>\n",
       "      <td>Bakersfield, CA</td>\n",
       "      <td>NextSong</td>\n",
       "      <td>Hints</td>\n",
       "      <td>200</td>\n",
       "    </tr>\n",
       "  </tbody>\n",
       "</table>\n",
       "</div>"
      ],
      "text/plain": [
       "   userID       auth level         location             page  \\\n",
       "0      30  Logged In  paid  Bakersfield, CA         NextSong   \n",
       "1      30  Logged In  paid  Bakersfield, CA         NextSong   \n",
       "2      30  Logged In  paid  Bakersfield, CA         NextSong   \n",
       "3      30  Logged In  paid  Bakersfield, CA         NextSong   \n",
       "4      30  Logged In  paid  Bakersfield, CA  Add to Playlist   \n",
       "5      30  Logged In  paid  Bakersfield, CA         NextSong   \n",
       "6      30  Logged In  paid  Bakersfield, CA         NextSong   \n",
       "7      30  Logged In  paid  Bakersfield, CA         NextSong   \n",
       "8      30  Logged In  paid  Bakersfield, CA         NextSong   \n",
       "9      30  Logged In  paid  Bakersfield, CA         NextSong   \n",
       "10     30  Logged In  paid  Bakersfield, CA         NextSong   \n",
       "11     30  Logged In  paid  Bakersfield, CA         NextSong   \n",
       "12     30  Logged In  paid  Bakersfield, CA         NextSong   \n",
       "13     30  Logged In  paid  Bakersfield, CA         NextSong   \n",
       "14     30  Logged In  paid  Bakersfield, CA         NextSong   \n",
       "15     30  Logged In  paid  Bakersfield, CA         NextSong   \n",
       "16     30  Logged In  paid  Bakersfield, CA         NextSong   \n",
       "17     30  Logged In  paid  Bakersfield, CA         NextSong   \n",
       "18     30  Logged In  paid  Bakersfield, CA         NextSong   \n",
       "19     30  Logged In  paid  Bakersfield, CA         NextSong   \n",
       "20     30  Logged In  paid  Bakersfield, CA         NextSong   \n",
       "21     30  Logged In  paid  Bakersfield, CA      Thumbs Down   \n",
       "22     30  Logged In  paid  Bakersfield, CA         NextSong   \n",
       "23     30  Logged In  paid  Bakersfield, CA         NextSong   \n",
       "24     30  Logged In  paid  Bakersfield, CA         NextSong   \n",
       "25     30  Logged In  paid  Bakersfield, CA         NextSong   \n",
       "26     30  Logged In  paid  Bakersfield, CA         NextSong   \n",
       "27     30  Logged In  paid  Bakersfield, CA        Thumbs Up   \n",
       "28     30  Logged In  paid  Bakersfield, CA         NextSong   \n",
       "29     30  Logged In  paid  Bakersfield, CA        Thumbs Up   \n",
       "30     30  Logged In  paid  Bakersfield, CA         NextSong   \n",
       "31     30  Logged In  paid  Bakersfield, CA         NextSong   \n",
       "32     30  Logged In  paid  Bakersfield, CA         NextSong   \n",
       "33     30  Logged In  paid  Bakersfield, CA         NextSong   \n",
       "34     30  Logged In  paid  Bakersfield, CA         NextSong   \n",
       "35     30  Logged In  paid  Bakersfield, CA         NextSong   \n",
       "36     30  Logged In  paid  Bakersfield, CA      Roll Advert   \n",
       "37     30  Logged In  paid  Bakersfield, CA         NextSong   \n",
       "38     30  Logged In  paid  Bakersfield, CA         NextSong   \n",
       "39     30  Logged In  paid  Bakersfield, CA         NextSong   \n",
       "\n",
       "                                 song  status  \n",
       "0                           Rockpools     200  \n",
       "1                   Time For Miracles     200  \n",
       "2       Harder Better Faster Stronger     200  \n",
       "3      Passengers (Old Album Version)     200  \n",
       "4                                None     200  \n",
       "5                          Fuck Kitty     200  \n",
       "6                                Jade     200  \n",
       "7                   So-Called Friends     200  \n",
       "8                           Represent     200  \n",
       "9                           Here I Am     200  \n",
       "10         Rebirthing (Album Version)     200  \n",
       "11     Dog Days Are Over (Radio Edit)     200  \n",
       "12            Tomorrow Is A Long Time     200  \n",
       "13                   Halloween Spooks     200  \n",
       "14                           Stronger     200  \n",
       "15                  Dis Iz Brick City     200  \n",
       "16                         Move Along     200  \n",
       "17                          Manhattan     200  \n",
       "18                               Undo     200  \n",
       "19                    The Big Gundown     200  \n",
       "20                         Black Bird     200  \n",
       "21                               None     307  \n",
       "22                             Nausea     200  \n",
       "23                          Matricide     200  \n",
       "24                            Valerie     200  \n",
       "25                          Margarita     200  \n",
       "26                  Le Jardin d'Hiver     200  \n",
       "27                               None     307  \n",
       "28  Soon As I Get Home(Album Version)     200  \n",
       "29                               None     307  \n",
       "30                   Vamos a la Playa     200  \n",
       "31                           Perfecta     200  \n",
       "32                            Requiem     200  \n",
       "33                    Who Can Compare     200  \n",
       "34         240 Years Before Your Time     200  \n",
       "35                        Rosa Pastel     200  \n",
       "36                               None     200  \n",
       "37          I'm Ready (Album Version)     200  \n",
       "38                   No Other Saviour     200  \n",
       "39                              Hints     200  "
      ]
     },
     "execution_count": 17,
     "metadata": {},
     "output_type": "execute_result"
    }
   ],
   "source": [
    "spark.sql('''\n",
    "            SELECT userID, auth, level, location, page, song, status\n",
    "            FROM user_log_table\n",
    "            WHERE userID = 30\n",
    "            LIMIT 40\n",
    "            '''\n",
    "         ).toPandas()"
   ]
  },
  {
   "cell_type": "code",
   "execution_count": 11,
   "metadata": {},
   "outputs": [
    {
     "data": {
      "text/plain": [
       "[Row(page='Cancel'),\n",
       " Row(page='Submit Downgrade'),\n",
       " Row(page='Thumbs Down'),\n",
       " Row(page='Home'),\n",
       " Row(page='Downgrade'),\n",
       " Row(page='Roll Advert'),\n",
       " Row(page='Logout'),\n",
       " Row(page='Save Settings'),\n",
       " Row(page='Cancellation Confirmation'),\n",
       " Row(page='About'),\n",
       " Row(page='Submit Registration'),\n",
       " Row(page='Settings'),\n",
       " Row(page='Login'),\n",
       " Row(page='Register'),\n",
       " Row(page='Add to Playlist'),\n",
       " Row(page='Add Friend'),\n",
       " Row(page='NextSong'),\n",
       " Row(page='Thumbs Up'),\n",
       " Row(page='Help'),\n",
       " Row(page='Upgrade'),\n",
       " Row(page='Error'),\n",
       " Row(page='Submit Upgrade')]"
      ]
     },
     "execution_count": 11,
     "metadata": {},
     "output_type": "execute_result"
    }
   ],
   "source": [
    "# Displaying all the possible events a user could do\n",
    "spark.sql('''\n",
    "            SELECT DISTINCT(page)\n",
    "            FROM user_log_table\n",
    "            '''\n",
    "         ).collect()"
   ]
  },
  {
   "cell_type": "code",
   "execution_count": 12,
   "metadata": {},
   "outputs": [],
   "source": [
    "is_churn = spark.sql('''\n",
    "                    SELECT userID, SUM(isChurn) AS isChurn\n",
    "                    FROM (\n",
    "                        SELECT userID,\n",
    "                            CASE WHEN page = \"Cancellation Confirmation\" THEN 1 ELSE 0 END AS isChurn\n",
    "                        FROM user_log_table\n",
    "                        )\n",
    "                    GROUP BY 1\n",
    "                ''')"
   ]
  },
  {
   "cell_type": "code",
   "execution_count": 13,
   "metadata": {},
   "outputs": [
    {
     "data": {
      "text/html": [
       "<div>\n",
       "<style scoped>\n",
       "    .dataframe tbody tr th:only-of-type {\n",
       "        vertical-align: middle;\n",
       "    }\n",
       "\n",
       "    .dataframe tbody tr th {\n",
       "        vertical-align: top;\n",
       "    }\n",
       "\n",
       "    .dataframe thead th {\n",
       "        text-align: right;\n",
       "    }\n",
       "</style>\n",
       "<table border=\"1\" class=\"dataframe\">\n",
       "  <thead>\n",
       "    <tr style=\"text-align: right;\">\n",
       "      <th></th>\n",
       "      <th>userID</th>\n",
       "      <th>isChurn</th>\n",
       "    </tr>\n",
       "  </thead>\n",
       "  <tbody>\n",
       "    <tr>\n",
       "      <th>0</th>\n",
       "      <td>100010</td>\n",
       "      <td>0</td>\n",
       "    </tr>\n",
       "    <tr>\n",
       "      <th>1</th>\n",
       "      <td>200002</td>\n",
       "      <td>0</td>\n",
       "    </tr>\n",
       "    <tr>\n",
       "      <th>2</th>\n",
       "      <td>125</td>\n",
       "      <td>1</td>\n",
       "    </tr>\n",
       "    <tr>\n",
       "      <th>3</th>\n",
       "      <td>51</td>\n",
       "      <td>1</td>\n",
       "    </tr>\n",
       "    <tr>\n",
       "      <th>4</th>\n",
       "      <td>124</td>\n",
       "      <td>0</td>\n",
       "    </tr>\n",
       "  </tbody>\n",
       "</table>\n",
       "</div>"
      ],
      "text/plain": [
       "   userID  isChurn\n",
       "0  100010        0\n",
       "1  200002        0\n",
       "2     125        1\n",
       "3      51        1\n",
       "4     124        0"
      ]
     },
     "execution_count": 13,
     "metadata": {},
     "output_type": "execute_result"
    }
   ],
   "source": [
    "is_churn.toPandas().head()"
   ]
  },
  {
   "cell_type": "markdown",
   "metadata": {},
   "source": [
    "### Explore Data\n",
    "Let's do some exploratory data analysis to observe the behavior for users who stayed vs users who churned."
   ]
  },
  {
   "cell_type": "code",
   "execution_count": 14,
   "metadata": {},
   "outputs": [
    {
     "name": "stdout",
     "output_type": "stream",
     "text": [
      "+--------+\n",
      "|count(1)|\n",
      "+--------+\n",
      "|  286500|\n",
      "+--------+\n",
      "\n"
     ]
    }
   ],
   "source": [
    "# Total log registers\n",
    "spark.sql('''\n",
    "            SELECT COUNT(*) \n",
    "            FROM user_log_table\n",
    "            '''\n",
    "         ).show()"
   ]
  },
  {
   "cell_type": "code",
   "execution_count": 15,
   "metadata": {},
   "outputs": [
    {
     "name": "stdout",
     "output_type": "stream",
     "text": [
      "+----------------------+\n",
      "|count(DISTINCT userID)|\n",
      "+----------------------+\n",
      "|                   226|\n",
      "+----------------------+\n",
      "\n"
     ]
    }
   ],
   "source": [
    "# Total of unique users\n",
    "spark.sql('''\n",
    "            SELECT COUNT(DISTINCT(userID)) \n",
    "            FROM user_log_table\n",
    "            '''\n",
    "         ).show()"
   ]
  },
  {
   "cell_type": "code",
   "execution_count": 16,
   "metadata": {},
   "outputs": [
    {
     "name": "stdout",
     "output_type": "stream",
     "text": [
      "+----------+\n",
      "|      auth|\n",
      "+----------+\n",
      "|Logged Out|\n",
      "| Cancelled|\n",
      "|     Guest|\n",
      "| Logged In|\n",
      "+----------+\n",
      "\n"
     ]
    }
   ],
   "source": [
    "# Display all types of auth\n",
    "spark.sql('''\n",
    "            SELECT DISTINCT(auth) \n",
    "            FROM user_log_table\n",
    "            '''\n",
    "         ).show()"
   ]
  },
  {
   "cell_type": "code",
   "execution_count": 18,
   "metadata": {},
   "outputs": [
    {
     "data": {
      "text/html": [
       "<div>\n",
       "<style scoped>\n",
       "    .dataframe tbody tr th:only-of-type {\n",
       "        vertical-align: middle;\n",
       "    }\n",
       "\n",
       "    .dataframe tbody tr th {\n",
       "        vertical-align: top;\n",
       "    }\n",
       "\n",
       "    .dataframe thead th {\n",
       "        text-align: right;\n",
       "    }\n",
       "</style>\n",
       "<table border=\"1\" class=\"dataframe\">\n",
       "  <thead>\n",
       "    <tr style=\"text-align: right;\">\n",
       "      <th></th>\n",
       "      <th>userID</th>\n",
       "      <th>auth</th>\n",
       "      <th>level</th>\n",
       "      <th>location</th>\n",
       "      <th>page</th>\n",
       "      <th>song</th>\n",
       "      <th>status</th>\n",
       "    </tr>\n",
       "  </thead>\n",
       "  <tbody>\n",
       "    <tr>\n",
       "      <th>0</th>\n",
       "      <td></td>\n",
       "      <td>Guest</td>\n",
       "      <td>free</td>\n",
       "      <td>None</td>\n",
       "      <td>Error</td>\n",
       "      <td>None</td>\n",
       "      <td>404</td>\n",
       "    </tr>\n",
       "    <tr>\n",
       "      <th>1</th>\n",
       "      <td></td>\n",
       "      <td>Guest</td>\n",
       "      <td>free</td>\n",
       "      <td>None</td>\n",
       "      <td>Home</td>\n",
       "      <td>None</td>\n",
       "      <td>200</td>\n",
       "    </tr>\n",
       "    <tr>\n",
       "      <th>2</th>\n",
       "      <td></td>\n",
       "      <td>Guest</td>\n",
       "      <td>free</td>\n",
       "      <td>None</td>\n",
       "      <td>Register</td>\n",
       "      <td>None</td>\n",
       "      <td>200</td>\n",
       "    </tr>\n",
       "    <tr>\n",
       "      <th>3</th>\n",
       "      <td></td>\n",
       "      <td>Guest</td>\n",
       "      <td>free</td>\n",
       "      <td>None</td>\n",
       "      <td>Help</td>\n",
       "      <td>None</td>\n",
       "      <td>200</td>\n",
       "    </tr>\n",
       "    <tr>\n",
       "      <th>4</th>\n",
       "      <td></td>\n",
       "      <td>Guest</td>\n",
       "      <td>free</td>\n",
       "      <td>None</td>\n",
       "      <td>Home</td>\n",
       "      <td>None</td>\n",
       "      <td>200</td>\n",
       "    </tr>\n",
       "    <tr>\n",
       "      <th>5</th>\n",
       "      <td></td>\n",
       "      <td>Guest</td>\n",
       "      <td>free</td>\n",
       "      <td>None</td>\n",
       "      <td>About</td>\n",
       "      <td>None</td>\n",
       "      <td>200</td>\n",
       "    </tr>\n",
       "    <tr>\n",
       "      <th>6</th>\n",
       "      <td></td>\n",
       "      <td>Guest</td>\n",
       "      <td>free</td>\n",
       "      <td>None</td>\n",
       "      <td>Register</td>\n",
       "      <td>None</td>\n",
       "      <td>200</td>\n",
       "    </tr>\n",
       "    <tr>\n",
       "      <th>7</th>\n",
       "      <td></td>\n",
       "      <td>Guest</td>\n",
       "      <td>free</td>\n",
       "      <td>None</td>\n",
       "      <td>Home</td>\n",
       "      <td>None</td>\n",
       "      <td>200</td>\n",
       "    </tr>\n",
       "    <tr>\n",
       "      <th>8</th>\n",
       "      <td></td>\n",
       "      <td>Guest</td>\n",
       "      <td>free</td>\n",
       "      <td>None</td>\n",
       "      <td>Register</td>\n",
       "      <td>None</td>\n",
       "      <td>200</td>\n",
       "    </tr>\n",
       "    <tr>\n",
       "      <th>9</th>\n",
       "      <td></td>\n",
       "      <td>Guest</td>\n",
       "      <td>free</td>\n",
       "      <td>None</td>\n",
       "      <td>Help</td>\n",
       "      <td>None</td>\n",
       "      <td>200</td>\n",
       "    </tr>\n",
       "    <tr>\n",
       "      <th>10</th>\n",
       "      <td></td>\n",
       "      <td>Guest</td>\n",
       "      <td>free</td>\n",
       "      <td>None</td>\n",
       "      <td>Home</td>\n",
       "      <td>None</td>\n",
       "      <td>200</td>\n",
       "    </tr>\n",
       "    <tr>\n",
       "      <th>11</th>\n",
       "      <td></td>\n",
       "      <td>Guest</td>\n",
       "      <td>free</td>\n",
       "      <td>None</td>\n",
       "      <td>Help</td>\n",
       "      <td>None</td>\n",
       "      <td>200</td>\n",
       "    </tr>\n",
       "    <tr>\n",
       "      <th>12</th>\n",
       "      <td></td>\n",
       "      <td>Guest</td>\n",
       "      <td>free</td>\n",
       "      <td>None</td>\n",
       "      <td>Home</td>\n",
       "      <td>None</td>\n",
       "      <td>200</td>\n",
       "    </tr>\n",
       "    <tr>\n",
       "      <th>13</th>\n",
       "      <td></td>\n",
       "      <td>Guest</td>\n",
       "      <td>free</td>\n",
       "      <td>None</td>\n",
       "      <td>Help</td>\n",
       "      <td>None</td>\n",
       "      <td>200</td>\n",
       "    </tr>\n",
       "    <tr>\n",
       "      <th>14</th>\n",
       "      <td></td>\n",
       "      <td>Guest</td>\n",
       "      <td>free</td>\n",
       "      <td>None</td>\n",
       "      <td>Home</td>\n",
       "      <td>None</td>\n",
       "      <td>200</td>\n",
       "    </tr>\n",
       "    <tr>\n",
       "      <th>15</th>\n",
       "      <td></td>\n",
       "      <td>Guest</td>\n",
       "      <td>free</td>\n",
       "      <td>None</td>\n",
       "      <td>About</td>\n",
       "      <td>None</td>\n",
       "      <td>200</td>\n",
       "    </tr>\n",
       "    <tr>\n",
       "      <th>16</th>\n",
       "      <td></td>\n",
       "      <td>Guest</td>\n",
       "      <td>free</td>\n",
       "      <td>None</td>\n",
       "      <td>About</td>\n",
       "      <td>None</td>\n",
       "      <td>200</td>\n",
       "    </tr>\n",
       "    <tr>\n",
       "      <th>17</th>\n",
       "      <td></td>\n",
       "      <td>Guest</td>\n",
       "      <td>free</td>\n",
       "      <td>None</td>\n",
       "      <td>Home</td>\n",
       "      <td>None</td>\n",
       "      <td>200</td>\n",
       "    </tr>\n",
       "    <tr>\n",
       "      <th>18</th>\n",
       "      <td></td>\n",
       "      <td>Guest</td>\n",
       "      <td>free</td>\n",
       "      <td>None</td>\n",
       "      <td>Help</td>\n",
       "      <td>None</td>\n",
       "      <td>200</td>\n",
       "    </tr>\n",
       "    <tr>\n",
       "      <th>19</th>\n",
       "      <td></td>\n",
       "      <td>Guest</td>\n",
       "      <td>free</td>\n",
       "      <td>None</td>\n",
       "      <td>Home</td>\n",
       "      <td>None</td>\n",
       "      <td>200</td>\n",
       "    </tr>\n",
       "  </tbody>\n",
       "</table>\n",
       "</div>"
      ],
      "text/plain": [
       "   userID   auth level location      page  song  status\n",
       "0          Guest  free     None     Error  None     404\n",
       "1          Guest  free     None      Home  None     200\n",
       "2          Guest  free     None  Register  None     200\n",
       "3          Guest  free     None      Help  None     200\n",
       "4          Guest  free     None      Home  None     200\n",
       "5          Guest  free     None     About  None     200\n",
       "6          Guest  free     None  Register  None     200\n",
       "7          Guest  free     None      Home  None     200\n",
       "8          Guest  free     None  Register  None     200\n",
       "9          Guest  free     None      Help  None     200\n",
       "10         Guest  free     None      Home  None     200\n",
       "11         Guest  free     None      Help  None     200\n",
       "12         Guest  free     None      Home  None     200\n",
       "13         Guest  free     None      Help  None     200\n",
       "14         Guest  free     None      Home  None     200\n",
       "15         Guest  free     None     About  None     200\n",
       "16         Guest  free     None     About  None     200\n",
       "17         Guest  free     None      Home  None     200\n",
       "18         Guest  free     None      Help  None     200\n",
       "19         Guest  free     None      Home  None     200"
      ]
     },
     "execution_count": 18,
     "metadata": {},
     "output_type": "execute_result"
    }
   ],
   "source": [
    "# Understanding the log of Guest users\n",
    "spark.sql('''\n",
    "            SELECT userID, auth, level, location, page, song, status\n",
    "            FROM user_log_table\n",
    "            WHERE auth = \"Guest\"\n",
    "            LIMIT 20\n",
    "            '''\n",
    "         ).toPandas()"
   ]
  },
  {
   "cell_type": "code",
   "execution_count": 19,
   "metadata": {},
   "outputs": [
    {
     "name": "stdout",
     "output_type": "stream",
     "text": [
      "+-------------------+\n",
      "|               page|\n",
      "+-------------------+\n",
      "|               Home|\n",
      "|              About|\n",
      "|Submit Registration|\n",
      "|           Register|\n",
      "|               Help|\n",
      "|              Error|\n",
      "+-------------------+\n",
      "\n"
     ]
    }
   ],
   "source": [
    "# Display all pages allowed to access by Guest users\n",
    "spark.sql('''\n",
    "            SELECT DISTINCT(page) \n",
    "            FROM user_log_table\n",
    "            WHERE auth = \"Guest\"\n",
    "            '''\n",
    "         ).show()"
   ]
  },
  {
   "cell_type": "markdown",
   "metadata": {},
   "source": [
    "The userID field is empty for Guest users, and we can see that this type of user can't use the full services available. So lt's clear the data set, dropping all records without userId and sessionId, since one identifies the user and the other is used by HTTP protocol to network communications, being extremely necessary to provide services for the logged users."
   ]
  },
  {
   "cell_type": "code",
   "execution_count": 20,
   "metadata": {},
   "outputs": [
    {
     "name": "stdout",
     "output_type": "stream",
     "text": [
      "+--------+\n",
      "|count(1)|\n",
      "+--------+\n",
      "|  286500|\n",
      "+--------+\n",
      "\n"
     ]
    }
   ],
   "source": [
    "# Total registers before cleaning\n",
    "spark.sql('''\n",
    "            SELECT COUNT(*) \n",
    "            FROM user_log_table\n",
    "            '''\n",
    "         ).show()"
   ]
  },
  {
   "cell_type": "code",
   "execution_count": 21,
   "metadata": {},
   "outputs": [
    {
     "name": "stdout",
     "output_type": "stream",
     "text": [
      "+--------+\n",
      "|count(1)|\n",
      "+--------+\n",
      "|  278154|\n",
      "+--------+\n",
      "\n"
     ]
    }
   ],
   "source": [
    "# Total registers after cleaning\n",
    "spark.sql('''\n",
    "            SELECT COUNT(*) \n",
    "            FROM user_log_table\n",
    "            WHERE userID <> '' AND sessionID IS NOT NULL\n",
    "            '''\n",
    "         ).show()"
   ]
  },
  {
   "cell_type": "code",
   "execution_count": 22,
   "metadata": {},
   "outputs": [],
   "source": [
    "valid_log = spark.sql('''\n",
    "                        SELECT * \n",
    "                        FROM user_log_table\n",
    "                        WHERE userID <> '' AND sessionID IS NOT NULL\n",
    "                        '''\n",
    "                     )\n",
    "valid_log.createOrReplaceTempView('clean_user_log_table')"
   ]
  },
  {
   "cell_type": "code",
   "execution_count": 24,
   "metadata": {},
   "outputs": [
    {
     "name": "stdout",
     "output_type": "stream",
     "text": [
      "+--------+\n",
      "|count(1)|\n",
      "+--------+\n",
      "|      52|\n",
      "+--------+\n",
      "\n"
     ]
    }
   ],
   "source": [
    "# How many users canceled the streaming music service in the period?\n",
    "is_churn.createOrReplaceTempView('churn_user_table')\n",
    "is_churn = spark.sql('''\n",
    "                        SELECT * \n",
    "                        FROM churn_user_table\n",
    "                        WHERE userID <> ''\n",
    "                        '''\n",
    "                     )\n",
    "\n",
    "is_churn.createOrReplaceTempView('churn_user_table')\n",
    "spark.sql('''\n",
    "            SELECT COUNT(*)\n",
    "            FROM churn_user_table\n",
    "            WHERE isChurn = 1\n",
    "            '''\n",
    "         ).show()"
   ]
  },
  {
   "cell_type": "code",
   "execution_count": 25,
   "metadata": {},
   "outputs": [
    {
     "name": "stdout",
     "output_type": "stream",
     "text": [
      "+--------+\n",
      "|count(1)|\n",
      "+--------+\n",
      "|     225|\n",
      "+--------+\n",
      "\n"
     ]
    }
   ],
   "source": [
    "# Total distinct users in the period\n",
    "spark.sql('''\n",
    "            SELECT COUNT(*)\n",
    "            FROM churn_user_table\n",
    "            '''\n",
    "         ).show()"
   ]
  },
  {
   "cell_type": "code",
   "execution_count": 26,
   "metadata": {},
   "outputs": [
    {
     "name": "stdout",
     "output_type": "stream",
     "text": [
      "+--------+\n",
      "|count(1)|\n",
      "+--------+\n",
      "|       5|\n",
      "+--------+\n",
      "\n"
     ]
    }
   ],
   "source": [
    "# Total new users in the period\n",
    "spark.sql('''\n",
    "            SELECT COUNT(*)\n",
    "            FROM user_log_table\n",
    "            WHERE page = \"Submit Registration\"\n",
    "            '''\n",
    "         ).show()"
   ]
  },
  {
   "cell_type": "markdown",
   "metadata": {},
   "source": [
    "Sparkify lost much more users per day than it gained in the period."
   ]
  },
  {
   "cell_type": "code",
   "execution_count": 27,
   "metadata": {},
   "outputs": [],
   "source": [
    "# Convert timestamp field in datetime\n",
    "user_log = user_log.withColumn('occurred_at', from_unixtime((col('ts')/1000), 'yyyy-MM-dd HH:mm:ss'))\n",
    "user_log.createOrReplaceTempView('user_log_table')\n",
    "\n",
    "new_x_churn = spark.sql('''\n",
    "            SELECT DATE_TRUNC(\"day\", occurred_at) AS day,\n",
    "                SUM(CASE WHEN page = \"Submit Registration\" THEN 1 ELSE 0 END) AS newUsers,\n",
    "                SUM(CASE WHEN page = \"Cancellation Confirmation\" THEN 1 ELSE 0 END) AS churnUsers\n",
    "            FROM user_log_table\n",
    "            GROUP BY 1\n",
    "            ORDER BY 1\n",
    "            '''\n",
    "         ).toPandas()"
   ]
  },
  {
   "cell_type": "code",
   "execution_count": 28,
   "metadata": {},
   "outputs": [
    {
     "data": {
      "image/png": "[encoded data removed]",
      "text/plain": [
       "<matplotlib.figure.Figure at 0x7fbc0f0bfe80>"
      ]
     },
     "metadata": {
      "needs_background": "light"
     },
     "output_type": "display_data"
    }
   ],
   "source": [
    "plt.plot(new_x_churn['day'], new_x_churn['churnUsers'], label = \"Churn users\")\n",
    "plt.plot(new_x_churn['day'], new_x_churn['newUsers'], label = \"New users\")\n",
    "plt.title('Gain x Loss')\n",
    "plt.ylabel('Number of users')\n",
    "plt.xticks(rotation=90)\n",
    "plt.legend()\n",
    "plt.show()"
   ]
  },
  {
   "cell_type": "code",
   "execution_count": 29,
   "metadata": {},
   "outputs": [
    {
     "name": "stdout",
     "output_type": "stream",
     "text": [
      "+-----+\n",
      "|level|\n",
      "+-----+\n",
      "| free|\n",
      "| paid|\n",
      "+-----+\n",
      "\n"
     ]
    }
   ],
   "source": [
    "spark.sql('''\n",
    "            SELECT DISTINCT level\n",
    "            FROM clean_user_log_table\n",
    "            '''\n",
    "         ).show()"
   ]
  },
  {
   "cell_type": "markdown",
   "metadata": {},
   "source": [
    "How are curves for active users in the app for free and paid ones by each day?"
   ]
  },
  {
   "cell_type": "code",
   "execution_count": 30,
   "metadata": {},
   "outputs": [],
   "source": [
    "# Convert timestamp field in datetime\n",
    "valid_log = valid_log.withColumn('occurred_at', from_unixtime((col('ts')/1000), 'yyyy-MM-dd HH:mm:ss'))\n",
    "valid_log.createOrReplaceTempView('clean_user_log_table')"
   ]
  },
  {
   "cell_type": "code",
   "execution_count": 31,
   "metadata": {},
   "outputs": [],
   "source": [
    "paid_users = spark.sql('''\n",
    "            SELECT DATE_TRUNC(\"day\", occurred_at) AS day,\n",
    "                COUNT(DISTINCT userID) AS paidUsers\n",
    "            FROM clean_user_log_table\n",
    "            WHERE level = \"paid\"\n",
    "            GROUP BY 1\n",
    "            ORDER BY 1\n",
    "            '''\n",
    "         ).toPandas()\n",
    "\n",
    "free_users = spark.sql('''\n",
    "            SELECT DATE_TRUNC(\"day\", occurred_at) AS day,\n",
    "                COUNT(DISTINCT userID) AS freeUsers\n",
    "            FROM clean_user_log_table\n",
    "            WHERE level = \"free\"\n",
    "            GROUP BY 1\n",
    "            ORDER BY 1\n",
    "            '''\n",
    "         ).toPandas()"
   ]
  },
  {
   "cell_type": "code",
   "execution_count": 32,
   "metadata": {},
   "outputs": [
    {
     "data": {
      "image/png": "[encoded data removed]",
      "text/plain": [
       "<matplotlib.figure.Figure at 0x7fbc0cfc9438>"
      ]
     },
     "metadata": {
      "needs_background": "light"
     },
     "output_type": "display_data"
    }
   ],
   "source": [
    "# plotting the curves for active users in the app for free and paid ones by each day\n",
    "plt.plot(paid_users['day'], paid_users['paidUsers'], label = \"Paid users\")\n",
    "plt.plot(free_users['day'], free_users['freeUsers'], label = \"Free users\")\n",
    "plt.title('Active users by day for level')\n",
    "plt.ylabel('Active users')\n",
    "plt.xticks(rotation=90)\n",
    "plt.legend()\n",
    "plt.show()"
   ]
  },
  {
   "cell_type": "markdown",
   "metadata": {},
   "source": [
    "The number of active free users declines over time in the app. Could these free users be becoming paid users?"
   ]
  },
  {
   "cell_type": "code",
   "execution_count": 33,
   "metadata": {},
   "outputs": [],
   "source": [
    "upgrade_amt = spark.sql('''\n",
    "            SELECT DATE_TRUNC('day', occurred_at) AS day,\n",
    "                COUNT(DISTINCT userID) AS upgrade_amt\n",
    "            FROM clean_user_log_table\n",
    "            WHERE page = \"Submit Upgrade\"\n",
    "            GROUP BY 1\n",
    "            ORDER BY 1\n",
    "            '''\n",
    "         ).toPandas()\n",
    "\n",
    "downgrade_amt = spark.sql('''\n",
    "            SELECT DATE_TRUNC('day', occurred_at) AS day,\n",
    "                COUNT(DISTINCT userID) AS downgrade_amt\n",
    "            FROM clean_user_log_table\n",
    "            WHERE page = \"Submit Downgrade\"\n",
    "            GROUP BY 1\n",
    "            ORDER BY 1\n",
    "            '''\n",
    "         ).toPandas()"
   ]
  },
  {
   "cell_type": "code",
   "execution_count": 34,
   "metadata": {},
   "outputs": [
    {
     "data": {
      "image/png": "[encoded data removed]",
      "text/plain": [
       "<matplotlib.figure.Figure at 0x7fbc0cfe30b8>"
      ]
     },
     "metadata": {
      "needs_background": "light"
     },
     "output_type": "display_data"
    }
   ],
   "source": [
    "# plotting the curves for upgrade and downgrade plans by each day\n",
    "plt.plot(upgrade_amt['day'], upgrade_amt['upgrade_amt'], label = \"Upgrades amount\")\n",
    "plt.plot(downgrade_amt['day'], downgrade_amt['downgrade_amt'], label = \"Downgrades amount\")\n",
    "plt.title('Changing plans by day')\n",
    "plt.ylabel('Users who changed plans')\n",
    "plt.xticks(rotation=90)\n",
    "plt.legend()\n",
    "plt.show()"
   ]
  },
  {
   "cell_type": "markdown",
   "metadata": {},
   "source": [
    "The number of plans upgraded  by day is very expressive until near October 29, which explains the higher number of paid users compared to free ones close to this date and beyond. The number of upgrades is much higher than the downgrades, which is great too. Considering the two groups we have: users who canceled the streaming music service and users who stayed. How many of the users are free and paid by each of these groups?"
   ]
  },
  {
   "cell_type": "code",
   "execution_count": 35,
   "metadata": {},
   "outputs": [],
   "source": [
    "level_churn = spark.sql('''\n",
    "            SELECT DISTINCT(a.userID), b.lastAccess, a.level, c.isChurn\n",
    "            FROM clean_user_log_table AS a\n",
    "            RIGHT JOIN (\n",
    "                SELECT userID,\n",
    "                    MAX(occurred_at) lastAccess\n",
    "                FROM clean_user_log_table\n",
    "                GROUP BY 1\n",
    "            ) AS b\n",
    "            ON a.userID = b.userID AND a.occurred_at = b.lastAccess\n",
    "            JOIN churn_user_table c\n",
    "            ON c.userID = a.userID\n",
    "            ORDER BY 1\n",
    "            '''\n",
    "         )"
   ]
  },
  {
   "cell_type": "code",
   "execution_count": 36,
   "metadata": {},
   "outputs": [
    {
     "data": {
      "text/html": [
       "<div>\n",
       "<style scoped>\n",
       "    .dataframe tbody tr th:only-of-type {\n",
       "        vertical-align: middle;\n",
       "    }\n",
       "\n",
       "    .dataframe tbody tr th {\n",
       "        vertical-align: top;\n",
       "    }\n",
       "\n",
       "    .dataframe thead th {\n",
       "        text-align: right;\n",
       "    }\n",
       "</style>\n",
       "<table border=\"1\" class=\"dataframe\">\n",
       "  <thead>\n",
       "    <tr style=\"text-align: right;\">\n",
       "      <th></th>\n",
       "      <th>userID</th>\n",
       "      <th>lastAccess</th>\n",
       "      <th>level</th>\n",
       "      <th>isChurn</th>\n",
       "    </tr>\n",
       "  </thead>\n",
       "  <tbody>\n",
       "    <tr>\n",
       "      <th>0</th>\n",
       "      <td>10</td>\n",
       "      <td>2018-11-19 12:49:48</td>\n",
       "      <td>paid</td>\n",
       "      <td>0</td>\n",
       "    </tr>\n",
       "    <tr>\n",
       "      <th>1</th>\n",
       "      <td>100</td>\n",
       "      <td>2018-11-30 14:15:49</td>\n",
       "      <td>paid</td>\n",
       "      <td>0</td>\n",
       "    </tr>\n",
       "    <tr>\n",
       "      <th>2</th>\n",
       "      <td>100001</td>\n",
       "      <td>2018-10-02 16:36:45</td>\n",
       "      <td>free</td>\n",
       "      <td>1</td>\n",
       "    </tr>\n",
       "    <tr>\n",
       "      <th>3</th>\n",
       "      <td>100002</td>\n",
       "      <td>2018-12-03 01:11:16</td>\n",
       "      <td>paid</td>\n",
       "      <td>0</td>\n",
       "    </tr>\n",
       "    <tr>\n",
       "      <th>4</th>\n",
       "      <td>100003</td>\n",
       "      <td>2018-10-11 16:19:41</td>\n",
       "      <td>free</td>\n",
       "      <td>1</td>\n",
       "    </tr>\n",
       "    <tr>\n",
       "      <th>5</th>\n",
       "      <td>100004</td>\n",
       "      <td>2018-11-29 02:37:45</td>\n",
       "      <td>paid</td>\n",
       "      <td>0</td>\n",
       "    </tr>\n",
       "    <tr>\n",
       "      <th>6</th>\n",
       "      <td>100005</td>\n",
       "      <td>2018-10-19 17:57:05</td>\n",
       "      <td>free</td>\n",
       "      <td>1</td>\n",
       "    </tr>\n",
       "    <tr>\n",
       "      <th>7</th>\n",
       "      <td>100006</td>\n",
       "      <td>2018-10-05 15:24:30</td>\n",
       "      <td>free</td>\n",
       "      <td>1</td>\n",
       "    </tr>\n",
       "    <tr>\n",
       "      <th>8</th>\n",
       "      <td>100007</td>\n",
       "      <td>2018-11-29 11:45:09</td>\n",
       "      <td>paid</td>\n",
       "      <td>1</td>\n",
       "    </tr>\n",
       "    <tr>\n",
       "      <th>9</th>\n",
       "      <td>100008</td>\n",
       "      <td>2018-11-27 16:13:39</td>\n",
       "      <td>free</td>\n",
       "      <td>0</td>\n",
       "    </tr>\n",
       "    <tr>\n",
       "      <th>10</th>\n",
       "      <td>100009</td>\n",
       "      <td>2018-10-27 03:31:44</td>\n",
       "      <td>free</td>\n",
       "      <td>1</td>\n",
       "    </tr>\n",
       "    <tr>\n",
       "      <th>11</th>\n",
       "      <td>100010</td>\n",
       "      <td>2018-11-21 18:12:32</td>\n",
       "      <td>free</td>\n",
       "      <td>0</td>\n",
       "    </tr>\n",
       "    <tr>\n",
       "      <th>12</th>\n",
       "      <td>100011</td>\n",
       "      <td>2018-10-01 18:04:45</td>\n",
       "      <td>free</td>\n",
       "      <td>1</td>\n",
       "    </tr>\n",
       "    <tr>\n",
       "      <th>13</th>\n",
       "      <td>100012</td>\n",
       "      <td>2018-11-01 19:35:00</td>\n",
       "      <td>free</td>\n",
       "      <td>1</td>\n",
       "    </tr>\n",
       "    <tr>\n",
       "      <th>14</th>\n",
       "      <td>100013</td>\n",
       "      <td>2018-11-02 18:53:36</td>\n",
       "      <td>paid</td>\n",
       "      <td>1</td>\n",
       "    </tr>\n",
       "    <tr>\n",
       "      <th>15</th>\n",
       "      <td>100014</td>\n",
       "      <td>2018-11-20 19:04:09</td>\n",
       "      <td>paid</td>\n",
       "      <td>1</td>\n",
       "    </tr>\n",
       "    <tr>\n",
       "      <th>16</th>\n",
       "      <td>100015</td>\n",
       "      <td>2018-11-24 15:35:53</td>\n",
       "      <td>paid</td>\n",
       "      <td>1</td>\n",
       "    </tr>\n",
       "    <tr>\n",
       "      <th>17</th>\n",
       "      <td>100016</td>\n",
       "      <td>2018-11-27 16:20:47</td>\n",
       "      <td>free</td>\n",
       "      <td>0</td>\n",
       "    </tr>\n",
       "    <tr>\n",
       "      <th>18</th>\n",
       "      <td>100017</td>\n",
       "      <td>2018-10-20 19:14:07</td>\n",
       "      <td>free</td>\n",
       "      <td>1</td>\n",
       "    </tr>\n",
       "    <tr>\n",
       "      <th>19</th>\n",
       "      <td>100018</td>\n",
       "      <td>2018-11-28 04:12:40</td>\n",
       "      <td>free</td>\n",
       "      <td>0</td>\n",
       "    </tr>\n",
       "  </tbody>\n",
       "</table>\n",
       "</div>"
      ],
      "text/plain": [
       "    userID           lastAccess level  isChurn\n",
       "0       10  2018-11-19 12:49:48  paid        0\n",
       "1      100  2018-11-30 14:15:49  paid        0\n",
       "2   100001  2018-10-02 16:36:45  free        1\n",
       "3   100002  2018-12-03 01:11:16  paid        0\n",
       "4   100003  2018-10-11 16:19:41  free        1\n",
       "5   100004  2018-11-29 02:37:45  paid        0\n",
       "6   100005  2018-10-19 17:57:05  free        1\n",
       "7   100006  2018-10-05 15:24:30  free        1\n",
       "8   100007  2018-11-29 11:45:09  paid        1\n",
       "9   100008  2018-11-27 16:13:39  free        0\n",
       "10  100009  2018-10-27 03:31:44  free        1\n",
       "11  100010  2018-11-21 18:12:32  free        0\n",
       "12  100011  2018-10-01 18:04:45  free        1\n",
       "13  100012  2018-11-01 19:35:00  free        1\n",
       "14  100013  2018-11-02 18:53:36  paid        1\n",
       "15  100014  2018-11-20 19:04:09  paid        1\n",
       "16  100015  2018-11-24 15:35:53  paid        1\n",
       "17  100016  2018-11-27 16:20:47  free        0\n",
       "18  100017  2018-10-20 19:14:07  free        1\n",
       "19  100018  2018-11-28 04:12:40  free        0"
      ]
     },
     "execution_count": 36,
     "metadata": {},
     "output_type": "execute_result"
    }
   ],
   "source": [
    "level_churn.toPandas().head(20)"
   ]
  },
  {
   "cell_type": "code",
   "execution_count": 37,
   "metadata": {},
   "outputs": [
    {
     "data": {
      "text/html": [
       "<div>\n",
       "<style scoped>\n",
       "    .dataframe tbody tr th:only-of-type {\n",
       "        vertical-align: middle;\n",
       "    }\n",
       "\n",
       "    .dataframe tbody tr th {\n",
       "        vertical-align: top;\n",
       "    }\n",
       "\n",
       "    .dataframe thead th {\n",
       "        text-align: right;\n",
       "    }\n",
       "</style>\n",
       "<table border=\"1\" class=\"dataframe\">\n",
       "  <thead>\n",
       "    <tr style=\"text-align: right;\">\n",
       "      <th></th>\n",
       "      <th>isChurn</th>\n",
       "      <th>paid</th>\n",
       "      <th>free</th>\n",
       "    </tr>\n",
       "  </thead>\n",
       "  <tbody>\n",
       "    <tr>\n",
       "      <th>0</th>\n",
       "      <td>0</td>\n",
       "      <td>114</td>\n",
       "      <td>59</td>\n",
       "    </tr>\n",
       "    <tr>\n",
       "      <th>1</th>\n",
       "      <td>1</td>\n",
       "      <td>31</td>\n",
       "      <td>21</td>\n",
       "    </tr>\n",
       "  </tbody>\n",
       "</table>\n",
       "</div>"
      ],
      "text/plain": [
       "   isChurn  paid  free\n",
       "0        0   114    59\n",
       "1        1    31    21"
      ]
     },
     "execution_count": 37,
     "metadata": {},
     "output_type": "execute_result"
    }
   ],
   "source": [
    "# Counting how many users paid and free are in the two groups?\n",
    "level_churn.createOrReplaceTempView('level_churn_table')\n",
    "level_df = spark.sql('''\n",
    "            SELECT isChurn, SUM(paid) AS paid, SUM(free) as free\n",
    "            FROM (\n",
    "                SELECT userID, isChurn,\n",
    "                        (CASE WHEN level = \"paid\" THEN 1 ELSE 0 END) AS paid,                    \n",
    "                        (CASE WHEN level = \"free\" THEN 1 ELSE 0 END) AS free\n",
    "                FROM level_churn_table)\n",
    "            GROUP BY 1\n",
    "            '''\n",
    "         ).toPandas()\n",
    "level_df"
   ]
  },
  {
   "cell_type": "code",
   "execution_count": 38,
   "metadata": {},
   "outputs": [
    {
     "data": {
      "text/html": [
       "<div>\n",
       "<style scoped>\n",
       "    .dataframe tbody tr th:only-of-type {\n",
       "        vertical-align: middle;\n",
       "    }\n",
       "\n",
       "    .dataframe tbody tr th {\n",
       "        vertical-align: top;\n",
       "    }\n",
       "\n",
       "    .dataframe thead th {\n",
       "        text-align: right;\n",
       "    }\n",
       "</style>\n",
       "<table border=\"1\" class=\"dataframe\">\n",
       "  <thead>\n",
       "    <tr style=\"text-align: right;\">\n",
       "      <th></th>\n",
       "      <th>paid</th>\n",
       "      <th>free</th>\n",
       "    </tr>\n",
       "  </thead>\n",
       "  <tbody>\n",
       "    <tr>\n",
       "      <th>Stayed</th>\n",
       "      <td>65.895954</td>\n",
       "      <td>34.104046</td>\n",
       "    </tr>\n",
       "    <tr>\n",
       "      <th>Churned</th>\n",
       "      <td>58.490566</td>\n",
       "      <td>39.622642</td>\n",
       "    </tr>\n",
       "  </tbody>\n",
       "</table>\n",
       "</div>"
      ],
      "text/plain": [
       "              paid       free\n",
       "Stayed   65.895954  34.104046\n",
       "Churned  58.490566  39.622642"
      ]
     },
     "execution_count": 38,
     "metadata": {},
     "output_type": "execute_result"
    }
   ],
   "source": [
    "# Converting theses values in percentage\n",
    "level_df.loc[0] = level_df.loc[0] * 100 / np.sum(level_df.loc[0])\n",
    "level_df.loc[1] = level_df.loc[1] * 100 / np.sum(level_df.loc[1])\n",
    "level_df.drop('isChurn', axis=1, inplace=True)\n",
    "level_df.set_index(pd.Index(['Stayed', 'Churned']), inplace=True)\n",
    "level_df"
   ]
  },
  {
   "cell_type": "code",
   "execution_count": 39,
   "metadata": {},
   "outputs": [
    {
     "data": {
      "image/png": "[encoded data removed]",
      "text/plain": [
       "<matplotlib.figure.Figure at 0x7fbc0cfed080>"
      ]
     },
     "metadata": {
      "needs_background": "light"
     },
     "output_type": "display_data"
    }
   ],
   "source": [
    "level_df[['paid', 'free']].plot(kind='bar', title='Distribution by level')\n",
    "plt.ylabel('Tier Proportion (in %)');"
   ]
  },
  {
   "cell_type": "markdown",
   "metadata": {},
   "source": [
    "We can see that free users are bit more susceptible to churn than paid users. Could the advertising average by session be related to it? First, let's use this feature in our data model! "
   ]
  },
  {
   "cell_type": "code",
   "execution_count": 41,
   "metadata": {},
   "outputs": [],
   "source": [
    "model_data = spark.sql('''\n",
    "                            SELECT userID, level, isChurn\n",
    "                            FROM level_churn_table\n",
    "                        '''\n",
    "                      )\n",
    "model_data.createOrReplaceTempView('model_data')"
   ]
  },
  {
   "cell_type": "code",
   "execution_count": 42,
   "metadata": {},
   "outputs": [
    {
     "data": {
      "text/html": [
       "<div>\n",
       "<style scoped>\n",
       "    .dataframe tbody tr th:only-of-type {\n",
       "        vertical-align: middle;\n",
       "    }\n",
       "\n",
       "    .dataframe tbody tr th {\n",
       "        vertical-align: top;\n",
       "    }\n",
       "\n",
       "    .dataframe thead th {\n",
       "        text-align: right;\n",
       "    }\n",
       "</style>\n",
       "<table border=\"1\" class=\"dataframe\">\n",
       "  <thead>\n",
       "    <tr style=\"text-align: right;\">\n",
       "      <th></th>\n",
       "      <th>userID</th>\n",
       "      <th>advertising</th>\n",
       "      <th>level</th>\n",
       "      <th>isChurn</th>\n",
       "    </tr>\n",
       "  </thead>\n",
       "  <tbody>\n",
       "    <tr>\n",
       "      <th>0</th>\n",
       "      <td>100022</td>\n",
       "      <td>115</td>\n",
       "      <td>free</td>\n",
       "      <td>1</td>\n",
       "    </tr>\n",
       "    <tr>\n",
       "      <th>1</th>\n",
       "      <td>100015</td>\n",
       "      <td>69</td>\n",
       "      <td>paid</td>\n",
       "      <td>1</td>\n",
       "    </tr>\n",
       "    <tr>\n",
       "      <th>2</th>\n",
       "      <td>200020</td>\n",
       "      <td>69</td>\n",
       "      <td>free</td>\n",
       "      <td>1</td>\n",
       "    </tr>\n",
       "    <tr>\n",
       "      <th>3</th>\n",
       "      <td>87</td>\n",
       "      <td>50</td>\n",
       "      <td>paid</td>\n",
       "      <td>1</td>\n",
       "    </tr>\n",
       "    <tr>\n",
       "      <th>4</th>\n",
       "      <td>54</td>\n",
       "      <td>47</td>\n",
       "      <td>paid</td>\n",
       "      <td>1</td>\n",
       "    </tr>\n",
       "    <tr>\n",
       "      <th>5</th>\n",
       "      <td>100009</td>\n",
       "      <td>42</td>\n",
       "      <td>free</td>\n",
       "      <td>1</td>\n",
       "    </tr>\n",
       "    <tr>\n",
       "      <th>6</th>\n",
       "      <td>100013</td>\n",
       "      <td>39</td>\n",
       "      <td>paid</td>\n",
       "      <td>1</td>\n",
       "    </tr>\n",
       "    <tr>\n",
       "      <th>7</th>\n",
       "      <td>100012</td>\n",
       "      <td>38</td>\n",
       "      <td>free</td>\n",
       "      <td>1</td>\n",
       "    </tr>\n",
       "    <tr>\n",
       "      <th>8</th>\n",
       "      <td>200018</td>\n",
       "      <td>32</td>\n",
       "      <td>free</td>\n",
       "      <td>1</td>\n",
       "    </tr>\n",
       "    <tr>\n",
       "      <th>9</th>\n",
       "      <td>100021</td>\n",
       "      <td>30</td>\n",
       "      <td>free</td>\n",
       "      <td>1</td>\n",
       "    </tr>\n",
       "    <tr>\n",
       "      <th>10</th>\n",
       "      <td>100025</td>\n",
       "      <td>30</td>\n",
       "      <td>free</td>\n",
       "      <td>1</td>\n",
       "    </tr>\n",
       "    <tr>\n",
       "      <th>11</th>\n",
       "      <td>121</td>\n",
       "      <td>28</td>\n",
       "      <td>paid</td>\n",
       "      <td>1</td>\n",
       "    </tr>\n",
       "    <tr>\n",
       "      <th>12</th>\n",
       "      <td>200024</td>\n",
       "      <td>27</td>\n",
       "      <td>paid</td>\n",
       "      <td>1</td>\n",
       "    </tr>\n",
       "    <tr>\n",
       "      <th>13</th>\n",
       "      <td>200011</td>\n",
       "      <td>27</td>\n",
       "      <td>free</td>\n",
       "      <td>1</td>\n",
       "    </tr>\n",
       "    <tr>\n",
       "      <th>14</th>\n",
       "      <td>28</td>\n",
       "      <td>26</td>\n",
       "      <td>paid</td>\n",
       "      <td>1</td>\n",
       "    </tr>\n",
       "    <tr>\n",
       "      <th>15</th>\n",
       "      <td>53</td>\n",
       "      <td>25</td>\n",
       "      <td>paid</td>\n",
       "      <td>1</td>\n",
       "    </tr>\n",
       "    <tr>\n",
       "      <th>16</th>\n",
       "      <td>29</td>\n",
       "      <td>22</td>\n",
       "      <td>paid</td>\n",
       "      <td>1</td>\n",
       "    </tr>\n",
       "    <tr>\n",
       "      <th>17</th>\n",
       "      <td>200015</td>\n",
       "      <td>22</td>\n",
       "      <td>free</td>\n",
       "      <td>1</td>\n",
       "    </tr>\n",
       "    <tr>\n",
       "      <th>18</th>\n",
       "      <td>12</td>\n",
       "      <td>21</td>\n",
       "      <td>paid</td>\n",
       "      <td>1</td>\n",
       "    </tr>\n",
       "    <tr>\n",
       "      <th>19</th>\n",
       "      <td>100005</td>\n",
       "      <td>18</td>\n",
       "      <td>free</td>\n",
       "      <td>1</td>\n",
       "    </tr>\n",
       "  </tbody>\n",
       "</table>\n",
       "</div>"
      ],
      "text/plain": [
       "    userID  advertising level  isChurn\n",
       "0   100022          115  free        1\n",
       "1   100015           69  paid        1\n",
       "2   200020           69  free        1\n",
       "3       87           50  paid        1\n",
       "4       54           47  paid        1\n",
       "5   100009           42  free        1\n",
       "6   100013           39  paid        1\n",
       "7   100012           38  free        1\n",
       "8   200018           32  free        1\n",
       "9   100021           30  free        1\n",
       "10  100025           30  free        1\n",
       "11     121           28  paid        1\n",
       "12  200024           27  paid        1\n",
       "13  200011           27  free        1\n",
       "14      28           26  paid        1\n",
       "15      53           25  paid        1\n",
       "16      29           22  paid        1\n",
       "17  200015           22  free        1\n",
       "18      12           21  paid        1\n",
       "19  100005           18  free        1"
      ]
     },
     "execution_count": 42,
     "metadata": {},
     "output_type": "execute_result"
    }
   ],
   "source": [
    "spark.sql('''\n",
    "            SELECT a.userID, a.advertising, b.level, b.isChurn\n",
    "            FROM (\n",
    "                SELECT userID,\n",
    "                        SUM(CASE WHEN page = \"Roll Advert\" THEN 1 ELSE 0 END) AS advertising\n",
    "                FROM clean_user_log_table\n",
    "                GROUP BY 1\n",
    "                ) AS a\n",
    "            JOIN level_churn_table AS b\n",
    "            ON a.userID = b.userID\n",
    "            ORDER BY 4 DESC, 2 DESC\n",
    "            '''\n",
    "         ).toPandas().head(20)"
   ]
  },
  {
   "cell_type": "markdown",
   "metadata": {},
   "source": [
    "Since a user could downgrade or upgrade the service, the same user could have two phases in the log: the free and paid, whereas the “canceled confirmation” could happen in one of these phases. So, let’s separate the answer in these two phases: free and paid."
   ]
  },
  {
   "cell_type": "code",
   "execution_count": 43,
   "metadata": {},
   "outputs": [],
   "source": [
    "free_advertising = spark.sql('''\n",
    "            SELECT userID, AVG(advertising) avgFreeAdvertising, \n",
    "                    MAX(lastSessionDate) lastFreeAccess, SUM(isChurn) isChurn\n",
    "            FROM (\n",
    "                SELECT userID, sessionID,\n",
    "                     SUM(CASE WHEN page = \"Roll Advert\" THEN 1 ELSE 0 END) AS advertising,\n",
    "                     MAX(occurred_at) lastSessionDate,\n",
    "                     SUM(CASE WHEN page = \"Cancellation Confirmation\" THEN 1 ELSE 0 END) AS isChurn\n",
    "                FROM clean_user_log_table\n",
    "                WHERE level = \"free\"\n",
    "                GROUP BY 1, 2\n",
    "                )\n",
    "            GROUP BY 1\n",
    "            ORDER BY 3 DESC, 2 DESC\n",
    "            ''')"
   ]
  },
  {
   "cell_type": "code",
   "execution_count": 44,
   "metadata": {},
   "outputs": [
    {
     "data": {
      "image/png": "[encoded data removed]",
      "text/plain": [
       "<matplotlib.figure.Figure at 0x7fbc0c6e9358>"
      ]
     },
     "metadata": {
      "needs_background": "light"
     },
     "output_type": "display_data"
    }
   ],
   "source": [
    "# visualize the distribution of advertising average by session of free users for both groups\n",
    "sns.boxplot(y=\"avgFreeAdvertising\", x=\"isChurn\", data=free_advertising.toPandas())\n",
    "plt.title('Advertising average by session of free users')\n",
    "plt.ylabel('Advertising average')\n",
    "plt.show()"
   ]
  },
  {
   "cell_type": "code",
   "execution_count": 45,
   "metadata": {},
   "outputs": [],
   "source": [
    "paid_advertising = spark.sql('''\n",
    "            SELECT userID, AVG(advertising) avgPaidAdvertising, \n",
    "                    MAX(lastSessionDate) lastPaidAccess, SUM(isChurn) isChurn\n",
    "            FROM (\n",
    "                SELECT userID, sessionID,\n",
    "                     SUM(CASE WHEN page = \"Roll Advert\" THEN 1 ELSE 0 END) AS advertising,\n",
    "                     MAX(occurred_at) lastSessionDate,\n",
    "                     SUM(CASE WHEN page = \"Cancellation Confirmation\" THEN 1 ELSE 0 END) AS isChurn\n",
    "                FROM clean_user_log_table\n",
    "                WHERE level = \"paid\"\n",
    "                GROUP BY 1, 2\n",
    "                )\n",
    "            GROUP BY 1\n",
    "            ORDER BY 3 DESC, 2 DESC\n",
    "            ''')"
   ]
  },
  {
   "cell_type": "code",
   "execution_count": 46,
   "metadata": {},
   "outputs": [
    {
     "data": {
      "image/png": "[encoded data removed]",
      "text/plain": [
       "<matplotlib.figure.Figure at 0x7fbc0c6df9b0>"
      ]
     },
     "metadata": {
      "needs_background": "light"
     },
     "output_type": "display_data"
    }
   ],
   "source": [
    "# visualize the distribution of advertising average by session of paid users for both groups\n",
    "sns.boxplot(y=\"avgPaidAdvertising\", x=\"isChurn\", data=paid_advertising.toPandas())\n",
    "plt.title('Advertising average by session of paid users')\n",
    "plt.ylabel('Advertising average')\n",
    "plt.show()"
   ]
  },
  {
   "cell_type": "markdown",
   "metadata": {},
   "source": [
    "The distributions seem to be very different for both levels (paid and free), which could be a good indicator for our model. But before adding this measure to our model data, it’s necessary to treat it to get just the advertising for the last period level, i. e, if the user was free and upgraded to a paid account, we have to use the advertising average just for the paid period."
   ]
  },
  {
   "cell_type": "code",
   "execution_count": 47,
   "metadata": {},
   "outputs": [],
   "source": [
    "free_advertising.createOrReplaceTempView('free_advertising')\n",
    "paid_advertising.createOrReplaceTempView('paid_advertising')\n",
    "advertising = spark.sql('''\n",
    "            SELECT \n",
    "                (CASE WHEN p.userID IS NOT NULL THEN p.userID ELSE f.userID END) AS userID, \n",
    "                (CASE WHEN lastPaidAccess IS NULL THEN avgFreeAdvertising\n",
    "                    WHEN lastFreeAccess IS NULL THEN avgPaidAdvertising\n",
    "                    WHEN lastPaidAccess > lastFreeAccess THEN avgPaidAdvertising \n",
    "                    ELSE avgFreeAdvertising END) AS advertising\n",
    "            FROM paid_advertising AS p\n",
    "            FULL OUTER JOIN free_advertising AS f\n",
    "            ON p.userID = f.userID\n",
    "            ORDER BY 1\n",
    "            ''').toPandas()"
   ]
  },
  {
   "cell_type": "code",
   "execution_count": 48,
   "metadata": {},
   "outputs": [],
   "source": [
    "model_data = model_data.toPandas()\n",
    "model_data = model_data.set_index('userID')\n",
    "advertising = model_data.join(advertising.set_index('userID'))"
   ]
  },
  {
   "cell_type": "code",
   "execution_count": 49,
   "metadata": {},
   "outputs": [
    {
     "data": {
      "image/png": "[encoded data removed]",
      "text/plain": [
       "<matplotlib.figure.Figure at 0x7fbc0cfc9cf8>"
      ]
     },
     "metadata": {
      "needs_background": "light"
     },
     "output_type": "display_data"
    }
   ],
   "source": [
    "# visualize the distribution of advertising average by session of paid users for both groups\n",
    "sns.boxplot(y=\"advertising\", x=\"isChurn\", data=advertising)\n",
    "plt.title('Advertising average by session')\n",
    "plt.ylabel('Advertising average')\n",
    "plt.show()"
   ]
  },
  {
   "cell_type": "markdown",
   "metadata": {},
   "source": [
    "Now with the advertising average isolated, it’s cleaner the effect of advertising on churned users. Let’s add this measure to our data model and find out if “Submit downgrade” could be either related to churn. "
   ]
  },
  {
   "cell_type": "code",
   "execution_count": 50,
   "metadata": {},
   "outputs": [],
   "source": [
    "model_data = advertising"
   ]
  },
  {
   "cell_type": "code",
   "execution_count": 51,
   "metadata": {},
   "outputs": [],
   "source": [
    "downgrade = spark.sql('''\n",
    "                SELECT userID,\n",
    "                    CASE WHEN downgradeAmt > 0 THEN 1 ELSE 0 END AS isDowngraded,\n",
    "                    isChurn\n",
    "                FROM (\n",
    "                    SELECT userID,\n",
    "                         SUM(CASE WHEN page = \"Submit Downgrade\" THEN 1 ELSE 0 END) AS downgradeAmt,\n",
    "                         SUM(CASE WHEN page = \"Cancellation Confirmation\" THEN 1 ELSE 0 END) AS isChurn\n",
    "                    FROM clean_user_log_table\n",
    "                    GROUP BY 1\n",
    "                )\n",
    "                ORDER BY 3 DESC, 2 DESC\n",
    "            '''\n",
    "        ).toPandas()"
   ]
  },
  {
   "cell_type": "code",
   "execution_count": 52,
   "metadata": {},
   "outputs": [
    {
     "data": {
      "text/html": [
       "<div>\n",
       "<style scoped>\n",
       "    .dataframe tbody tr th:only-of-type {\n",
       "        vertical-align: middle;\n",
       "    }\n",
       "\n",
       "    .dataframe tbody tr th {\n",
       "        vertical-align: top;\n",
       "    }\n",
       "\n",
       "    .dataframe thead th {\n",
       "        text-align: right;\n",
       "    }\n",
       "</style>\n",
       "<table border=\"1\" class=\"dataframe\">\n",
       "  <thead>\n",
       "    <tr style=\"text-align: right;\">\n",
       "      <th></th>\n",
       "      <th>Not Downgrade</th>\n",
       "      <th>Downgrade</th>\n",
       "    </tr>\n",
       "  </thead>\n",
       "  <tbody>\n",
       "    <tr>\n",
       "      <th>Stayed</th>\n",
       "      <td>133</td>\n",
       "      <td>43</td>\n",
       "    </tr>\n",
       "    <tr>\n",
       "      <th>Churned</th>\n",
       "      <td>40</td>\n",
       "      <td>9</td>\n",
       "    </tr>\n",
       "  </tbody>\n",
       "</table>\n",
       "</div>"
      ],
      "text/plain": [
       "         Not Downgrade  Downgrade\n",
       "Stayed             133         43\n",
       "Churned             40          9"
      ]
     },
     "execution_count": 52,
     "metadata": {},
     "output_type": "execute_result"
    }
   ],
   "source": [
    "values = [[downgrade.query('isDowngraded == 0 & isChurn == 0').shape[0],\n",
    "           downgrade.query('isDowngraded == 0 & isChurn == 1').shape[0]],\n",
    "          [downgrade.query('isDowngraded == 1 & isChurn == 0').shape[0],\n",
    "           downgrade.query('isDowngraded == 1 & isChurn == 1').shape[0]]]\n",
    "downgrade = pd.DataFrame(values, index=['Stayed', 'Churned'], columns=['Not Downgrade', 'Downgrade'])\n",
    "downgrade"
   ]
  },
  {
   "cell_type": "code",
   "execution_count": 53,
   "metadata": {},
   "outputs": [
    {
     "data": {
      "text/html": [
       "<div>\n",
       "<style scoped>\n",
       "    .dataframe tbody tr th:only-of-type {\n",
       "        vertical-align: middle;\n",
       "    }\n",
       "\n",
       "    .dataframe tbody tr th {\n",
       "        vertical-align: top;\n",
       "    }\n",
       "\n",
       "    .dataframe thead th {\n",
       "        text-align: right;\n",
       "    }\n",
       "</style>\n",
       "<table border=\"1\" class=\"dataframe\">\n",
       "  <thead>\n",
       "    <tr style=\"text-align: right;\">\n",
       "      <th></th>\n",
       "      <th>Not Downgrade</th>\n",
       "      <th>Downgrade</th>\n",
       "    </tr>\n",
       "  </thead>\n",
       "  <tbody>\n",
       "    <tr>\n",
       "      <th>Stayed</th>\n",
       "      <td>75.568182</td>\n",
       "      <td>24.431818</td>\n",
       "    </tr>\n",
       "    <tr>\n",
       "      <th>Churned</th>\n",
       "      <td>81.632653</td>\n",
       "      <td>18.367347</td>\n",
       "    </tr>\n",
       "  </tbody>\n",
       "</table>\n",
       "</div>"
      ],
      "text/plain": [
       "         Not Downgrade  Downgrade\n",
       "Stayed       75.568182  24.431818\n",
       "Churned      81.632653  18.367347"
      ]
     },
     "execution_count": 53,
     "metadata": {},
     "output_type": "execute_result"
    }
   ],
   "source": [
    "downgrade.loc['Stayed'] = downgrade.loc['Stayed'] * 100 / np.sum(downgrade.loc['Stayed'])\n",
    "downgrade.loc['Churned'] = downgrade.loc['Churned'] * 100 / np.sum(downgrade.loc['Churned'])\n",
    "downgrade"
   ]
  },
  {
   "cell_type": "code",
   "execution_count": 54,
   "metadata": {},
   "outputs": [
    {
     "data": {
      "image/png": "[encoded data removed]",
      "text/plain": [
       "<matplotlib.figure.Figure at 0x7fbc0d02e2b0>"
      ]
     },
     "metadata": {
      "needs_background": "light"
     },
     "output_type": "display_data"
    }
   ],
   "source": [
    "# visualize the distribution of downgrade page access average by session of paid users for both groups\n",
    "downgrade[['Not Downgrade', 'Downgrade']].plot(kind='bar', title='Distribution by downgrade Subimition')\n",
    "plt.ylabel('Tier Proportion (in %)');"
   ]
  },
  {
   "cell_type": "markdown",
   "metadata": {},
   "source": [
    "The proportions for stayed and churned users are very close to who downgraded or not. So, this measure can't be a good indicator for our data model. Could the Thumbs up or Thumbs down action average by session be interpreted as a good indicator for our model?"
   ]
  },
  {
   "cell_type": "code",
   "execution_count": 55,
   "metadata": {},
   "outputs": [],
   "source": [
    "thumbs_up = spark.sql('''\n",
    "                SELECT userID, AVG(thumbsUpAmt) avgThumbsUp, SUM(isChurn) isChurn\n",
    "                FROM (\n",
    "                    SELECT userID, sessionID,\n",
    "                         SUM(CASE WHEN page = \"Thumbs Up\" THEN 1 ELSE 0 END) AS thumbsUpAmt,\n",
    "                         SUM(CASE WHEN page = \"Cancellation Confirmation\" THEN 1 ELSE 0 END) AS isChurn\n",
    "                    FROM clean_user_log_table\n",
    "                    GROUP BY 1, 2\n",
    "                    )\n",
    "                GROUP BY 1\n",
    "                ORDER BY 3 DESC, 2 DESC\n",
    "            '''\n",
    "        ).toPandas()"
   ]
  },
  {
   "cell_type": "code",
   "execution_count": 56,
   "metadata": {},
   "outputs": [
    {
     "data": {
      "image/png": "[encoded data removed]",
      "text/plain": [
       "<matplotlib.figure.Figure at 0x7fbc0c720198>"
      ]
     },
     "metadata": {
      "needs_background": "light"
     },
     "output_type": "display_data"
    }
   ],
   "source": [
    "# visualize the distribution of thumbs up average by session for each user for both groups\n",
    "sns.boxplot(y=\"avgThumbsUp\", x=\"isChurn\", data=thumbs_up)\n",
    "plt.title('Thumbs up average by session for each user')\n",
    "plt.ylabel('Thumbs up average')\n",
    "plt.show()"
   ]
  },
  {
   "cell_type": "markdown",
   "metadata": {},
   "source": [
    "The difference between the two distributions seems to strengthen the thumbs up average by session as a good indicator for our model. Let’s add this measure to our data model and find out if “Thumbs down” could be so good as “Thumbs up”."
   ]
  },
  {
   "cell_type": "code",
   "execution_count": 57,
   "metadata": {},
   "outputs": [],
   "source": [
    "model_data = model_data.join(thumbs_up[['userID', 'avgThumbsUp']].set_index('userID'))"
   ]
  },
  {
   "cell_type": "code",
   "execution_count": 58,
   "metadata": {},
   "outputs": [],
   "source": [
    "thumbs_down = spark.sql('''\n",
    "                SELECT userID, AVG(thumbsDownAmt) avgThumbsDown, SUM(isChurn) isChurn\n",
    "                FROM (\n",
    "                    SELECT userID, sessionID,\n",
    "                         SUM(CASE WHEN page = \"Thumbs Down\" THEN 1 ELSE 0 END) AS thumbsDownAmt,\n",
    "                         SUM(CASE WHEN page = \"Cancellation Confirmation\" THEN 1 ELSE 0 END) AS isChurn\n",
    "                    FROM clean_user_log_table\n",
    "                    GROUP BY 1, 2\n",
    "                    )\n",
    "                GROUP BY 1\n",
    "                ORDER BY 3 DESC, 2 DESC\n",
    "            '''\n",
    "        ).toPandas()"
   ]
  },
  {
   "cell_type": "code",
   "execution_count": 59,
   "metadata": {},
   "outputs": [
    {
     "data": {
      "image/png": "[encoded data removed]",
      "text/plain": [
       "<matplotlib.figure.Figure at 0x7fbc0c6b27b8>"
      ]
     },
     "metadata": {
      "needs_background": "light"
     },
     "output_type": "display_data"
    }
   ],
   "source": [
    "# visualize the distribution of thumbs down average by session for each user for both groups\n",
    "sns.boxplot(y=\"avgThumbsDown\", x=\"isChurn\", data=thumbs_down)\n",
    "plt.title('Thumbs down average by session for each user')\n",
    "plt.ylabel('Thumbs down average')\n",
    "plt.show()"
   ]
  },
  {
   "cell_type": "markdown",
   "metadata": {},
   "source": [
    "We don’t have strong arguments to use these measures as indicators for our model. But if we assume that users who really like this streaming music service and his song recommendations, would accumulate a Thumbs up proportion much greater than Thumbs down. Wouldn't you think?"
   ]
  },
  {
   "cell_type": "code",
   "execution_count": 60,
   "metadata": {},
   "outputs": [],
   "source": [
    "proportion_thumbsDown = spark.sql('''\n",
    "                SELECT userID, (thumbsDownAmt / (thumbsUpAmt + thumbsDownAmt)) thumbsDownProportion, isChurn\n",
    "                FROM (\n",
    "                    SELECT userID,\n",
    "                         SUM(CASE WHEN page = \"Thumbs Up\" THEN 1 ELSE 0 END) AS thumbsUpAmt,\n",
    "                         SUM(CASE WHEN page = \"Thumbs Down\" THEN 1 ELSE 0 END) AS thumbsDownAmt,\n",
    "                         SUM(CASE WHEN page = \"Cancellation Confirmation\" THEN 1 ELSE 0 END) AS isChurn\n",
    "                    FROM clean_user_log_table\n",
    "                    GROUP BY 1\n",
    "                    )\n",
    "                ORDER BY 3 DESC, 2 DESC\n",
    "            '''\n",
    "        ).toPandas()"
   ]
  },
  {
   "cell_type": "code",
   "execution_count": 61,
   "metadata": {},
   "outputs": [
    {
     "data": {
      "image/png": "[encoded data removed]",
      "text/plain": [
       "<matplotlib.figure.Figure at 0x7fbc0c6250b8>"
      ]
     },
     "metadata": {
      "needs_background": "light"
     },
     "output_type": "display_data"
    }
   ],
   "source": [
    "# visualize the distribution of thumbs down proportion by both groups\n",
    "sns.boxplot(y=\"thumbsDownProportion\", x=\"isChurn\", data=proportion_thumbsDown)\n",
    "plt.title('Distribution for thumbs down proportion')\n",
    "plt.ylabel('Thumbs down proportion')\n",
    "plt.show()"
   ]
  },
  {
   "cell_type": "markdown",
   "metadata": {},
   "source": [
    "Thumbs down proportion plot shows us a huge difference between the two distributions, which could be favorable for our model. Let's analyze the average songs played per session."
   ]
  },
  {
   "cell_type": "code",
   "execution_count": 62,
   "metadata": {},
   "outputs": [],
   "source": [
    "model_data = model_data.join(proportion_thumbsDown[['userID', 'thumbsDownProportion']].set_index('userID'))"
   ]
  },
  {
   "cell_type": "code",
   "execution_count": 63,
   "metadata": {},
   "outputs": [],
   "source": [
    "num_songs_by_session = spark.sql('''\n",
    "            SELECT userID, AVG(numSongs) avgNumSongs, SUM(isChurn) isChurn\n",
    "            FROM (\n",
    "                SELECT userID, sessionID,\n",
    "                    SUM(CASE WHEN page = \"NextSong\" THEN 1 ELSE 0 END) AS numSongs,\n",
    "                    SUM(CASE WHEN page = \"Cancellation Confirmation\" THEN 1 ELSE 0 END) AS isChurn\n",
    "                FROM clean_user_log_table\n",
    "                GROUP BY 1, 2)\n",
    "            GROUP BY 1\n",
    "            ORDER BY 3, 2 DESC\n",
    "            '''\n",
    "         ).toPandas()"
   ]
  },
  {
   "cell_type": "code",
   "execution_count": 64,
   "metadata": {},
   "outputs": [
    {
     "data": {
      "image/png": "[encoded data removed]",
      "text/plain": [
       "<matplotlib.figure.Figure at 0x7fbc0c5a0240>"
      ]
     },
     "metadata": {
      "needs_background": "light"
     },
     "output_type": "display_data"
    }
   ],
   "source": [
    "# visualize the distribution of average songs played per session by both groups\n",
    "sns.boxplot(y=\"avgNumSongs\", x=\"isChurn\", data=num_songs_by_session)\n",
    "plt.title('Distribution average songs played per session')\n",
    "plt.ylabel('Average songs played')\n",
    "plt.show()"
   ]
  },
  {
   "cell_type": "code",
   "execution_count": 65,
   "metadata": {},
   "outputs": [],
   "source": [
    "model_data = model_data.join(num_songs_by_session[['userID', 'avgNumSongs']].set_index('userID'))"
   ]
  },
  {
   "cell_type": "markdown",
   "metadata": {},
   "source": [
    "Could the average time spent per session for the users be a good indicator for our predictive model?"
   ]
  },
  {
   "cell_type": "code",
   "execution_count": 66,
   "metadata": {},
   "outputs": [],
   "source": [
    "session_duration = spark.sql('''\n",
    "            SELECT userID, avg(session_duration) avgSessionDuration, SUM(isChurn) isChurn\n",
    "            FROM (\n",
    "                SELECT userID, sessionID, MIN(occurred_at) initial_time, MAX(occurred_at) final_time,\n",
    "                    (UNIX_TIMESTAMP(MAX(occurred_at)) - UNIX_TIMESTAMP(MIN(occurred_at))) session_duration,\n",
    "                    SUM(CASE WHEN page = \"Cancellation Confirmation\" THEN 1 ELSE 0 END) AS isChurn\n",
    "                FROM clean_user_log_table\n",
    "                GROUP BY 1, 2\n",
    "                )\n",
    "            GROUP BY 1\n",
    "            ORDER BY 3, 2 DESC\n",
    "            '''\n",
    "         ).toPandas()"
   ]
  },
  {
   "cell_type": "code",
   "execution_count": 67,
   "metadata": {},
   "outputs": [
    {
     "data": {
      "image/png": "[encoded data removed]",
      "text/plain": [
       "<matplotlib.figure.Figure at 0x7fbc0c51ef98>"
      ]
     },
     "metadata": {
      "needs_background": "light"
     },
     "output_type": "display_data"
    }
   ],
   "source": [
    "# visualize the distribution of session duration for both groups\n",
    "sns.boxplot(y=\"avgSessionDuration\", x=\"isChurn\", data=session_duration)\n",
    "plt.title('Distribution of session duration')\n",
    "plt.ylabel('Session duration')\n",
    "plt.show()"
   ]
  },
  {
   "cell_type": "code",
   "execution_count": 68,
   "metadata": {},
   "outputs": [],
   "source": [
    "model_data = model_data.join(session_duration[['userID', 'avgSessionDuration']].set_index('userID'))"
   ]
  },
  {
   "cell_type": "markdown",
   "metadata": {},
   "source": [
    "Could the number of songs added to playlist per session by the users be a good indicator for our predictive model?"
   ]
  },
  {
   "cell_type": "code",
   "execution_count": 69,
   "metadata": {},
   "outputs": [],
   "source": [
    "num_playlist_addition_by_session = spark.sql('''\n",
    "            SELECT userID, AVG(numPlaylistAddition) avgNumPlaylistAddition, SUM(isChurn) isChurn\n",
    "            FROM (\n",
    "                SELECT userID, sessionID,\n",
    "                    SUM(CASE WHEN page = \"Add to Playlist\" THEN 1 ELSE 0 END) AS numPlaylistAddition,\n",
    "                    SUM(CASE WHEN page = \"Cancellation Confirmation\" THEN 1 ELSE 0 END) AS isChurn\n",
    "                FROM clean_user_log_table\n",
    "                GROUP BY 1, 2)\n",
    "            GROUP BY 1\n",
    "            ORDER BY 3 DESC, 2 DESC\n",
    "            '''\n",
    "         ).toPandas()"
   ]
  },
  {
   "cell_type": "code",
   "execution_count": 70,
   "metadata": {},
   "outputs": [
    {
     "data": {
      "image/png": "[encoded data removed]",
      "text/plain": [
       "<matplotlib.figure.Figure at 0x7fbc0c503278>"
      ]
     },
     "metadata": {
      "needs_background": "light"
     },
     "output_type": "display_data"
    }
   ],
   "source": [
    "# visualize the distribution of average songs added to playlist per session by both groups\n",
    "sns.boxplot(y=\"avgNumPlaylistAddition\", x=\"isChurn\", data=num_playlist_addition_by_session)\n",
    "plt.title('Distribution of average songs added to playlist by session')\n",
    "plt.ylabel('Average songs added to playlist')\n",
    "plt.show()"
   ]
  },
  {
   "cell_type": "code",
   "execution_count": 71,
   "metadata": {},
   "outputs": [],
   "source": [
    "model_data = model_data.join(num_playlist_addition_by_session[['userID', 'avgNumPlaylistAddition']].set_index('userID'))"
   ]
  },
  {
   "cell_type": "markdown",
   "metadata": {},
   "source": [
    "Could the average friends added per session by the users be a good indicator for our predictive model?"
   ]
  },
  {
   "cell_type": "code",
   "execution_count": 72,
   "metadata": {},
   "outputs": [],
   "source": [
    "num_friends_added_by_session = spark.sql('''\n",
    "            SELECT userID, AVG(numFriendsAdded) avgNumFriendsAdded, SUM(isChurn) isChurn\n",
    "            FROM (\n",
    "                SELECT userID, sessionID,\n",
    "                    SUM(CASE WHEN page = \"Add Friend\" THEN 1 ELSE 0 END) AS numFriendsAdded,\n",
    "                    SUM(CASE WHEN page = \"Cancellation Confirmation\" THEN 1 ELSE 0 END) AS isChurn\n",
    "                FROM clean_user_log_table\n",
    "                GROUP BY 1, 2)\n",
    "            GROUP BY 1\n",
    "            ORDER BY 3 DESC, 2 DESC\n",
    "            '''\n",
    "         ).toPandas()"
   ]
  },
  {
   "cell_type": "code",
   "execution_count": 73,
   "metadata": {},
   "outputs": [
    {
     "data": {
      "image/png": "[encoded data removed]",
      "text/plain": [
       "<matplotlib.figure.Figure at 0x7fbc0c486dd8>"
      ]
     },
     "metadata": {
      "needs_background": "light"
     },
     "output_type": "display_data"
    }
   ],
   "source": [
    "# visualize the distribution of average friends added per session by both groups\n",
    "sns.boxplot(y=\"avgNumFriendsAdded\", x=\"isChurn\", data=num_friends_added_by_session)\n",
    "plt.title('Distribution of average friends added by session')\n",
    "plt.ylabel('Average friends added')\n",
    "plt.show()"
   ]
  },
  {
   "cell_type": "code",
   "execution_count": 74,
   "metadata": {},
   "outputs": [],
   "source": [
    "model_data = model_data.join(num_friends_added_by_session[['userID', 'avgNumFriendsAdded']].set_index('userID'))"
   ]
  },
  {
   "cell_type": "markdown",
   "metadata": {},
   "source": [
    "Could the average time between two sessions be a good indicator for our predictive model?"
   ]
  },
  {
   "cell_type": "code",
   "execution_count": 135,
   "metadata": {},
   "outputs": [],
   "source": [
    "session_duration = spark.sql('''\n",
    "            SELECT userID, AVG(timeBetweenSessions) avgTimeBetweenSessions, SUM(isChurn) isChurn\n",
    "            FROM (\n",
    "                SELECT userID, sessionID, initial_time, final_time, isChurn,\n",
    "                    UNIX_TIMESTAMP(LEAD(initial_time) OVER (PARTITION BY userID ORDER BY initial_time)) - UNIX_TIMESTAMP(final_time) AS timeBetweenSessions\n",
    "                FROM (\n",
    "                    SELECT userID, sessionID, MIN(occurred_at) initial_time, MAX(occurred_at) final_time,\n",
    "                        SUM(CASE WHEN page = \"Cancellation Confirmation\" THEN 1 ELSE 0 END) AS isChurn\n",
    "                    FROM clean_user_log_table\n",
    "                    GROUP BY 1, 2\n",
    "                    )\n",
    "                ORDER BY 1, 3\n",
    "                )\n",
    "            GROUP BY 1\n",
    "            ORDER BY 3, 2 DESC\n",
    "            '''\n",
    "         ).toPandas()"
   ]
  },
  {
   "cell_type": "code",
   "execution_count": 76,
   "metadata": {},
   "outputs": [
    {
     "data": {
      "image/png": "[encoded data removed]",
      "text/plain": [
       "<matplotlib.figure.Figure at 0x7fbc0c4e41d0>"
      ]
     },
     "metadata": {
      "needs_background": "light"
     },
     "output_type": "display_data"
    }
   ],
   "source": [
    "# visualize the distribution of average time between two sessions by both groups\n",
    "sns.boxplot(y=\"avgTimeBetweenSessions\", x=\"isChurn\", data=session_duration)\n",
    "plt.title('Distribution of average time between two sessions')\n",
    "plt.ylabel('Average time between two sessions')\n",
    "plt.show()"
   ]
  },
  {
   "cell_type": "code",
   "execution_count": 77,
   "metadata": {},
   "outputs": [],
   "source": [
    "model_data = model_data.join(session_duration[['userID', 'avgTimeBetweenSessions']].set_index('userID'))"
   ]
  },
  {
   "cell_type": "code",
   "execution_count": 78,
   "metadata": {},
   "outputs": [
    {
     "data": {
      "text/html": [
       "<div>\n",
       "<style scoped>\n",
       "    .dataframe tbody tr th:only-of-type {\n",
       "        vertical-align: middle;\n",
       "    }\n",
       "\n",
       "    .dataframe tbody tr th {\n",
       "        vertical-align: top;\n",
       "    }\n",
       "\n",
       "    .dataframe thead th {\n",
       "        text-align: right;\n",
       "    }\n",
       "</style>\n",
       "<table border=\"1\" class=\"dataframe\">\n",
       "  <thead>\n",
       "    <tr style=\"text-align: right;\">\n",
       "      <th></th>\n",
       "      <th>gender</th>\n",
       "    </tr>\n",
       "  </thead>\n",
       "  <tbody>\n",
       "    <tr>\n",
       "      <th>0</th>\n",
       "      <td>F</td>\n",
       "    </tr>\n",
       "    <tr>\n",
       "      <th>1</th>\n",
       "      <td>M</td>\n",
       "    </tr>\n",
       "  </tbody>\n",
       "</table>\n",
       "</div>"
      ],
      "text/plain": [
       "  gender\n",
       "0      F\n",
       "1      M"
      ]
     },
     "execution_count": 78,
     "metadata": {},
     "output_type": "execute_result"
    }
   ],
   "source": [
    "spark.sql('''\n",
    "            SELECT DISTINCT(gender)\n",
    "            FROM clean_user_log_table\n",
    "            '''\n",
    "         ).toPandas()"
   ]
  },
  {
   "cell_type": "markdown",
   "metadata": {},
   "source": [
    "Could gender be a good indicator for our predictive model?"
   ]
  },
  {
   "cell_type": "code",
   "execution_count": 79,
   "metadata": {},
   "outputs": [
    {
     "data": {
      "text/html": [
       "<div>\n",
       "<style scoped>\n",
       "    .dataframe tbody tr th:only-of-type {\n",
       "        vertical-align: middle;\n",
       "    }\n",
       "\n",
       "    .dataframe tbody tr th {\n",
       "        vertical-align: top;\n",
       "    }\n",
       "\n",
       "    .dataframe thead th {\n",
       "        text-align: right;\n",
       "    }\n",
       "</style>\n",
       "<table border=\"1\" class=\"dataframe\">\n",
       "  <thead>\n",
       "    <tr style=\"text-align: right;\">\n",
       "      <th></th>\n",
       "      <th>isChurn</th>\n",
       "      <th>male</th>\n",
       "      <th>female</th>\n",
       "    </tr>\n",
       "  </thead>\n",
       "  <tbody>\n",
       "    <tr>\n",
       "      <th>0</th>\n",
       "      <td>0</td>\n",
       "      <td>89</td>\n",
       "      <td>84</td>\n",
       "    </tr>\n",
       "    <tr>\n",
       "      <th>1</th>\n",
       "      <td>1</td>\n",
       "      <td>32</td>\n",
       "      <td>20</td>\n",
       "    </tr>\n",
       "  </tbody>\n",
       "</table>\n",
       "</div>"
      ],
      "text/plain": [
       "   isChurn  male  female\n",
       "0        0    89      84\n",
       "1        1    32      20"
      ]
     },
     "execution_count": 79,
     "metadata": {},
     "output_type": "execute_result"
    }
   ],
   "source": [
    "# Counting how many users paid and free are in the two groups?\n",
    "genre_df = spark.sql('''\n",
    "            SELECT isChurn, SUM(isMale) AS male, COUNT(*) - SUM(isMale) AS female\n",
    "            FROM (\n",
    "                SELECT userID,\n",
    "                        CASE WHEN gender = \"M\" THEN 1 ELSE 0 END isMale,\n",
    "                        SUM(CASE WHEN page = \"Cancellation Confirmation\" THEN 1 ELSE 0 END) AS isChurn\n",
    "                FROM clean_user_log_table\n",
    "                GROUP BY 1, 2\n",
    "            )\n",
    "            GROUP BY 1\n",
    "            '''\n",
    "         ).toPandas()\n",
    "genre_df"
   ]
  },
  {
   "cell_type": "code",
   "execution_count": 80,
   "metadata": {},
   "outputs": [
    {
     "data": {
      "text/html": [
       "<div>\n",
       "<style scoped>\n",
       "    .dataframe tbody tr th:only-of-type {\n",
       "        vertical-align: middle;\n",
       "    }\n",
       "\n",
       "    .dataframe tbody tr th {\n",
       "        vertical-align: top;\n",
       "    }\n",
       "\n",
       "    .dataframe thead th {\n",
       "        text-align: right;\n",
       "    }\n",
       "</style>\n",
       "<table border=\"1\" class=\"dataframe\">\n",
       "  <thead>\n",
       "    <tr style=\"text-align: right;\">\n",
       "      <th></th>\n",
       "      <th>male</th>\n",
       "      <th>female</th>\n",
       "    </tr>\n",
       "  </thead>\n",
       "  <tbody>\n",
       "    <tr>\n",
       "      <th>Stayed</th>\n",
       "      <td>51.445087</td>\n",
       "      <td>48.554913</td>\n",
       "    </tr>\n",
       "    <tr>\n",
       "      <th>Canceled</th>\n",
       "      <td>60.377358</td>\n",
       "      <td>37.735849</td>\n",
       "    </tr>\n",
       "  </tbody>\n",
       "</table>\n",
       "</div>"
      ],
      "text/plain": [
       "               male     female\n",
       "Stayed    51.445087  48.554913\n",
       "Canceled  60.377358  37.735849"
      ]
     },
     "execution_count": 80,
     "metadata": {},
     "output_type": "execute_result"
    }
   ],
   "source": [
    "# Converting theses values in percentage\n",
    "genre_df.loc[0] = genre_df.loc[0] * 100 / np.sum(genre_df.loc[0])\n",
    "genre_df.loc[1] = genre_df.loc[1] * 100 / np.sum(genre_df.loc[1])\n",
    "genre_df.drop('isChurn', axis=1, inplace=True)\n",
    "genre_df.set_index(pd.Index(['Stayed', 'Canceled']), inplace=True)\n",
    "genre_df"
   ]
  },
  {
   "cell_type": "code",
   "execution_count": 81,
   "metadata": {},
   "outputs": [
    {
     "data": {
      "image/png": "[encoded data removed]",
      "text/plain": [
       "<matplotlib.figure.Figure at 0x7fbc0c483278>"
      ]
     },
     "metadata": {
      "needs_background": "light"
     },
     "output_type": "display_data"
    }
   ],
   "source": [
    "genre_df[['male', 'female']].plot(kind='bar', title='Distribution by gender')\n",
    "plt.ylabel('Tier Proportion (in %)');"
   ]
  },
  {
   "cell_type": "code",
   "execution_count": 82,
   "metadata": {},
   "outputs": [],
   "source": [
    "genre = spark.sql('''\n",
    "                SELECT userID,\n",
    "                        gender,\n",
    "                        SUM(CASE WHEN page = \"Cancellation Confirmation\" THEN 1 ELSE 0 END) AS isChurn\n",
    "                FROM clean_user_log_table\n",
    "                GROUP BY 1, 2\n",
    "            '''\n",
    "         ).toPandas()"
   ]
  },
  {
   "cell_type": "code",
   "execution_count": 83,
   "metadata": {},
   "outputs": [],
   "source": [
    "model_data = model_data.join(genre[['userID', 'gender']].set_index('userID'))"
   ]
  },
  {
   "cell_type": "markdown",
   "metadata": {},
   "source": [
    "# Feature Engineering\n",
    "Once you've familiarized yourself with the data, build out the features you find promising to train your model on. To work with the full dataset, you can follow the following steps.\n",
    "- Write a script to extract the necessary features from the smaller subset of data\n",
    "- Ensure that your script is scalable, using the best practices discussed in Lesson 3\n",
    "- Try your script on the full data set, debugging your script if necessary\n",
    "\n",
    "If you are working in the classroom workspace, you can just extract features based on the small subset of data contained here. Be sure to transfer over this work to the larger dataset when you work on your Spark cluster."
   ]
  },
  {
   "cell_type": "code",
   "execution_count": 105,
   "metadata": {},
   "outputs": [
    {
     "data": {
      "text/html": [
       "<div>\n",
       "<style scoped>\n",
       "    .dataframe tbody tr th:only-of-type {\n",
       "        vertical-align: middle;\n",
       "    }\n",
       "\n",
       "    .dataframe tbody tr th {\n",
       "        vertical-align: top;\n",
       "    }\n",
       "\n",
       "    .dataframe thead th {\n",
       "        text-align: right;\n",
       "    }\n",
       "</style>\n",
       "<table border=\"1\" class=\"dataframe\">\n",
       "  <thead>\n",
       "    <tr style=\"text-align: right;\">\n",
       "      <th></th>\n",
       "      <th>isChurn</th>\n",
       "      <th>advertising</th>\n",
       "      <th>avgThumbsUp</th>\n",
       "      <th>thumbsDownProportion</th>\n",
       "      <th>avgNumSongs</th>\n",
       "      <th>avgSessionDuration</th>\n",
       "      <th>avgNumPlaylistAddition</th>\n",
       "      <th>avgNumFriendsAdded</th>\n",
       "      <th>avgTimeBetweenSessions</th>\n",
       "    </tr>\n",
       "  </thead>\n",
       "  <tbody>\n",
       "    <tr>\n",
       "      <th>count</th>\n",
       "      <td>225.000000</td>\n",
       "      <td>225.000000</td>\n",
       "      <td>225.000000</td>\n",
       "      <td>221.000000</td>\n",
       "      <td>225.000000</td>\n",
       "      <td>225.000000</td>\n",
       "      <td>225.000000</td>\n",
       "      <td>225.000000</td>\n",
       "      <td>2.100000e+02</td>\n",
       "    </tr>\n",
       "    <tr>\n",
       "      <th>mean</th>\n",
       "      <td>0.231111</td>\n",
       "      <td>1.247396</td>\n",
       "      <td>3.735060</td>\n",
       "      <td>0.176896</td>\n",
       "      <td>69.002331</td>\n",
       "      <td>17289.959044</td>\n",
       "      <td>1.929065</td>\n",
       "      <td>1.373669</td>\n",
       "      <td>4.689066e+05</td>\n",
       "    </tr>\n",
       "    <tr>\n",
       "      <th>std</th>\n",
       "      <td>0.422483</td>\n",
       "      <td>2.114283</td>\n",
       "      <td>2.325835</td>\n",
       "      <td>0.121938</td>\n",
       "      <td>42.320954</td>\n",
       "      <td>10610.546683</td>\n",
       "      <td>1.277232</td>\n",
       "      <td>0.940729</td>\n",
       "      <td>4.678903e+05</td>\n",
       "    </tr>\n",
       "    <tr>\n",
       "      <th>min</th>\n",
       "      <td>0.000000</td>\n",
       "      <td>0.000000</td>\n",
       "      <td>0.000000</td>\n",
       "      <td>0.000000</td>\n",
       "      <td>3.000000</td>\n",
       "      <td>420.000000</td>\n",
       "      <td>0.000000</td>\n",
       "      <td>0.000000</td>\n",
       "      <td>2.871433e+04</td>\n",
       "    </tr>\n",
       "    <tr>\n",
       "      <th>25%</th>\n",
       "      <td>0.000000</td>\n",
       "      <td>0.000000</td>\n",
       "      <td>2.000000</td>\n",
       "      <td>0.105263</td>\n",
       "      <td>35.857143</td>\n",
       "      <td>9682.625000</td>\n",
       "      <td>1.000000</td>\n",
       "      <td>0.750000</td>\n",
       "      <td>2.054402e+05</td>\n",
       "    </tr>\n",
       "    <tr>\n",
       "      <th>50%</th>\n",
       "      <td>0.000000</td>\n",
       "      <td>0.166667</td>\n",
       "      <td>3.500000</td>\n",
       "      <td>0.156250</td>\n",
       "      <td>64.200000</td>\n",
       "      <td>15924.250000</td>\n",
       "      <td>1.800000</td>\n",
       "      <td>1.250000</td>\n",
       "      <td>3.190955e+05</td>\n",
       "    </tr>\n",
       "    <tr>\n",
       "      <th>75%</th>\n",
       "      <td>0.000000</td>\n",
       "      <td>2.000000</td>\n",
       "      <td>5.000000</td>\n",
       "      <td>0.215517</td>\n",
       "      <td>91.714286</td>\n",
       "      <td>22889.000000</td>\n",
       "      <td>2.617647</td>\n",
       "      <td>1.800000</td>\n",
       "      <td>5.976158e+05</td>\n",
       "    </tr>\n",
       "    <tr>\n",
       "      <th>max</th>\n",
       "      <td>1.000000</td>\n",
       "      <td>14.000000</td>\n",
       "      <td>13.777778</td>\n",
       "      <td>1.000000</td>\n",
       "      <td>286.666667</td>\n",
       "      <td>70794.000000</td>\n",
       "      <td>8.000000</td>\n",
       "      <td>4.666667</td>\n",
       "      <td>3.831080e+06</td>\n",
       "    </tr>\n",
       "  </tbody>\n",
       "</table>\n",
       "</div>"
      ],
      "text/plain": [
       "          isChurn  advertising  avgThumbsUp  thumbsDownProportion  \\\n",
       "count  225.000000   225.000000   225.000000            221.000000   \n",
       "mean     0.231111     1.247396     3.735060              0.176896   \n",
       "std      0.422483     2.114283     2.325835              0.121938   \n",
       "min      0.000000     0.000000     0.000000              0.000000   \n",
       "25%      0.000000     0.000000     2.000000              0.105263   \n",
       "50%      0.000000     0.166667     3.500000              0.156250   \n",
       "75%      0.000000     2.000000     5.000000              0.215517   \n",
       "max      1.000000    14.000000    13.777778              1.000000   \n",
       "\n",
       "       avgNumSongs  avgSessionDuration  avgNumPlaylistAddition  \\\n",
       "count   225.000000          225.000000              225.000000   \n",
       "mean     69.002331        17289.959044                1.929065   \n",
       "std      42.320954        10610.546683                1.277232   \n",
       "min       3.000000          420.000000                0.000000   \n",
       "25%      35.857143         9682.625000                1.000000   \n",
       "50%      64.200000        15924.250000                1.800000   \n",
       "75%      91.714286        22889.000000                2.617647   \n",
       "max     286.666667        70794.000000                8.000000   \n",
       "\n",
       "       avgNumFriendsAdded  avgTimeBetweenSessions  \n",
       "count          225.000000            2.100000e+02  \n",
       "mean             1.373669            4.689066e+05  \n",
       "std              0.940729            4.678903e+05  \n",
       "min              0.000000            2.871433e+04  \n",
       "25%              0.750000            2.054402e+05  \n",
       "50%              1.250000            3.190955e+05  \n",
       "75%              1.800000            5.976158e+05  \n",
       "max              4.666667            3.831080e+06  "
      ]
     },
     "execution_count": 105,
     "metadata": {},
     "output_type": "execute_result"
    }
   ],
   "source": [
    "model_data.describe()"
   ]
  },
  {
   "cell_type": "code",
   "execution_count": 142,
   "metadata": {},
   "outputs": [
    {
     "data": {
      "text/plain": [
       "level                     0\n",
       "isChurn                   0\n",
       "advertising               0\n",
       "avgThumbsUp               0\n",
       "thumbsDownProportion      4\n",
       "avgNumSongs               0\n",
       "avgSessionDuration        0\n",
       "avgNumPlaylistAddition    0\n",
       "avgNumFriendsAdded        0\n",
       "avgTimeBetweenSessions    0\n",
       "gender                    0\n",
       "dtype: int64"
      ]
     },
     "execution_count": 142,
     "metadata": {},
     "output_type": "execute_result"
    }
   ],
   "source": [
    "# Checking for nan values\n",
    "model_data.isna().sum()"
   ]
  },
  {
   "cell_type": "code",
   "execution_count": 143,
   "metadata": {},
   "outputs": [],
   "source": [
    "# Fill nan for 0, since: \n",
    "# 1. Who haven't time between session is a user who have just one session\n",
    "# 2. Who haven't thumbs down proportion is because the user didn't gave any thumbs\n",
    "model_data['avgTimeBetweenSessions'] = model_data['avgTimeBetweenSessions'].fillna(0)\n",
    "model_data['thumbsDownProportion'] = model_data['thumbsDownProportion'].fillna(0)"
   ]
  },
  {
   "cell_type": "code",
   "execution_count": 144,
   "metadata": {},
   "outputs": [
    {
     "name": "stdout",
     "output_type": "stream",
     "text": [
      "+-----+-------+-------------------+------------------+--------------------+------------------+------------------+----------------------+------------------+----------------------+------+\n",
      "|level|isChurn|        advertising|       avgThumbsUp|thumbsDownProportion|       avgNumSongs|avgSessionDuration|avgNumPlaylistAddition|avgNumFriendsAdded|avgTimeBetweenSessions|gender|\n",
      "+-----+-------+-------------------+------------------+--------------------+------------------+------------------+----------------------+------------------+----------------------+------+\n",
      "| paid|      0|0.16666666666666666| 6.166666666666667|  0.0975609756097561|112.16666666666667|27584.833333333332|                   1.5|               2.0|              700211.8|     M|\n",
      "| paid|      0|0.13793103448275862| 4.228571428571429| 0.15428571428571428| 76.62857142857143| 18991.14285714286|    1.7428571428571429|               1.4|     130294.0294117647|     M|\n",
      "| free|      1|                3.5|               2.0|                 0.2|             33.25|            8889.5|                  0.75|               0.5|    28714.333333333332|     F|\n",
      "| paid|      0|               0.75|              1.25|                 0.0|             48.75|           12071.0|                  1.25|              0.25|    1570582.3333333333|     F|\n",
      "| free|      1|                4.5|               1.5|                 0.0|              25.5|            5947.0|                   1.0|               0.0|              162467.0|     F|\n",
      "| paid|      0| 0.7777777777777778|1.6666666666666667|  0.2391304347826087|44.857142857142854|11159.190476190477|    1.0952380952380953|0.9047619047619048|             234494.35|     F|\n",
      "| free|      1|                3.6|               1.4|                 0.3|              30.8|            7211.2|                   0.6|               0.6|              382188.5|     M|\n",
      "| free|      1|                3.0|               2.0|                 0.5|              26.0|            5606.0|                   1.0|               4.0|                   0.0|     F|\n",
      "| paid|      1| 0.5555555555555556| 2.111111111111111|                0.24|              47.0|11364.666666666666|                   1.0|1.8888888888888888|              615528.0|     F|\n",
      "| free|      0|                4.5| 6.166666666666667| 0.13953488372093023|128.66666666666666|31695.166666666668|                   5.0|2.8333333333333335|              808676.8|     F|\n",
      "| free|      1|              5.125|               2.3| 0.25806451612903225|              51.8|           12717.7|                   1.2|               0.7|    234395.11111111112|     M|\n",
      "| free|      0|  7.428571428571429|2.4285714285714284| 0.22727272727272727|39.285714285714285|            9269.0|                   1.0|0.5714285714285714|              625922.5|     F|\n",
      "| free|      1|                2.0|               0.0|                 1.0|              11.0|            2663.0|                   2.0|               0.0|                   0.0|     M|\n",
      "| free|      1|  5.285714285714286|2.5714285714285716|  0.3333333333333333|              68.0|16286.285714285714|    1.7142857142857142|0.2857142857142857|              400136.0|     M|\n",
      "| paid|      1| 0.8333333333333334|2.7857142857142856|  0.2777777777777778| 80.78571428571429|19799.928571428572|    2.2142857142857144|               2.0|    184965.46153846153|     F|\n",
      "| paid|      1| 0.3333333333333333|2.8333333333333335|                0.15|42.833333333333336|11088.833333333334|    1.1666666666666667|               1.0|              699396.0|     M|\n",
      "| paid|      1|0.42857142857142855|2.9166666666666665| 0.18604651162790697| 66.66666666666667|16715.666666666668|    1.8333333333333333|1.1666666666666667|    403909.63636363635|     F|\n",
      "| free|      0|                5.0|             3.125| 0.16666666666666666|             66.25|          15924.25|                  0.75|             1.625|     685669.5714285715|     M|\n",
      "| free|      1|               14.0|               2.0|  0.3333333333333333|              52.0|           11956.0|                   1.0|               0.0|                   0.0|     M|\n",
      "| free|      0| 12.666666666666666|2.1904761904761907| 0.16363636363636364|47.714285714285715|11591.238095238095|    1.4761904761904763|1.0952380952380953|              219565.8|     M|\n",
      "+-----+-------+-------------------+------------------+--------------------+------------------+------------------+----------------------+------------------+----------------------+------+\n",
      "only showing top 20 rows\n",
      "\n"
     ]
    }
   ],
   "source": [
    "model_df = spark.createDataFrame(model_data.values.tolist(), list(model_data.columns))\n",
    "model_df.show()"
   ]
  },
  {
   "cell_type": "code",
   "execution_count": 149,
   "metadata": {},
   "outputs": [],
   "source": [
    "from pyspark.ml import Pipeline\n",
    "\n",
    "indexer_gender = StringIndexer(inputCol='gender', outputCol='gender_index')\n",
    "indexer_level = StringIndexer(inputCol='level', outputCol='level_index')\n",
    "vec_assembler = VectorAssembler(inputCols=['level_index', \n",
    "                                          'advertising', \n",
    "                                          'avgThumbsUp',\n",
    "                                          'thumbsDownProportion', \n",
    "                                          'avgNumSongs', \n",
    "                                          'avgSessionDuration',\n",
    "                                          'avgNumPlaylistAddition', \n",
    "                                          'avgNumFriendsAdded',\n",
    "                                          'avgTimeBetweenSessions', \n",
    "                                          'gender_index'],\n",
    "                           outputCol='features')\n",
    "\n",
    "min_max_scaler = MinMaxScaler(inputCol=\"features\", outputCol=\"scaledFeatures\")\n",
    "\n",
    "pipeline = Pipeline(stages=[indexer_gender, indexer_level, vec_assembler, min_max_scaler])\n",
    "model_fit = pipeline.fit(model_df).transform(model_df)"
   ]
  },
  {
   "cell_type": "code",
   "execution_count": 150,
   "metadata": {},
   "outputs": [
    {
     "data": {
      "text/plain": [
       "[Row(level='paid', isChurn=0, advertising=0.16666666666666666, avgThumbsUp=6.166666666666667, thumbsDownProportion=0.0975609756097561, avgNumSongs=112.16666666666667, avgSessionDuration=27584.833333333332, avgNumPlaylistAddition=1.5, avgNumFriendsAdded=2.0, avgTimeBetweenSessions=700211.8, gender='M', gender_index=0.0, level_index=0.0, features=DenseVector([0.0, 0.1667, 6.1667, 0.0976, 112.1667, 27584.8333, 1.5, 2.0, 700211.8, 0.0]), scaledFeatures=DenseVector([0.0, 0.0119, 0.4476, 0.0976, 0.3848, 0.386, 0.1875, 0.4286, 0.1828, 0.0])),\n",
       " Row(level='paid', isChurn=0, advertising=0.13793103448275862, avgThumbsUp=4.228571428571429, thumbsDownProportion=0.15428571428571428, avgNumSongs=76.62857142857143, avgSessionDuration=18991.14285714286, avgNumPlaylistAddition=1.7428571428571429, avgNumFriendsAdded=1.4, avgTimeBetweenSessions=130294.0294117647, gender='M', gender_index=0.0, level_index=0.0, features=DenseVector([0.0, 0.1379, 4.2286, 0.1543, 76.6286, 18991.1429, 1.7429, 1.4, 130294.0294, 0.0]), scaledFeatures=DenseVector([0.0, 0.0099, 0.3069, 0.1543, 0.2596, 0.2639, 0.2179, 0.3, 0.034, 0.0]))]"
      ]
     },
     "execution_count": 150,
     "metadata": {},
     "output_type": "execute_result"
    }
   ],
   "source": [
    "model_fit.head(2)"
   ]
  },
  {
   "cell_type": "code",
   "execution_count": 153,
   "metadata": {},
   "outputs": [
    {
     "data": {
      "text/plain": [
       "[Row(isChurn=0, features=DenseVector([0.0, 0.1667, 6.1667, 0.0976, 112.1667, 27584.8333, 1.5, 2.0, 700211.8, 0.0])),\n",
       " Row(isChurn=0, features=DenseVector([0.0, 0.1379, 4.2286, 0.1543, 76.6286, 18991.1429, 1.7429, 1.4, 130294.0294, 0.0]))]"
      ]
     },
     "execution_count": 153,
     "metadata": {},
     "output_type": "execute_result"
    }
   ],
   "source": [
    "data = model_fit.select(\"isChurn\", \"features\")\n",
    "data.head(2)"
   ]
  },
  {
   "cell_type": "markdown",
   "metadata": {},
   "source": [
    "# Modeling\n",
    "Split the full dataset into train, test, and validation sets. Test out several of the machine learning methods you learned. Evaluate the accuracy of the various models, tuning parameters as necessary. Determine your winning model based on test accuracy and report results on the validation set. Since the churned users are a fairly small subset, I suggest using F1 score as the metric to optimize."
   ]
  },
  {
   "cell_type": "code",
   "execution_count": null,
   "metadata": {},
   "outputs": [],
   "source": [
    "# Split this data between train, validation and test sets\n",
    "train, test = model_data.randomSplit([0.8, 0.2], seed=42)\n",
    "\n"
   ]
  },
  {
   "cell_type": "markdown",
   "metadata": {},
   "source": [
    "# Final Steps\n",
    "Clean up your code, adding comments and renaming variables to make the code easier to read and maintain. Refer to the Spark Project Overview page and Data Scientist Capstone Project Rubric to make sure you are including all components of the capstone project and meet all expectations. Remember, this includes thorough documentation in a README file in a Github repository, as well as a web app or blog post."
   ]
  },
  {
   "cell_type": "code",
   "execution_count": null,
   "metadata": {},
   "outputs": [],
   "source": []
  }
 ],
 "metadata": {
  "kernelspec": {
   "display_name": "Python 3",
   "language": "python",
   "name": "python3"
  },
  "language_info": {
   "codemirror_mode": {
    "name": "ipython",
    "version": 3
   },
   "file_extension": ".py",
   "mimetype": "text/x-python",
   "name": "python",
   "nbconvert_exporter": "python",
   "pygments_lexer": "ipython3",
   "version": "3.6.3"
  }
 },
 "nbformat": 4,
 "nbformat_minor": 2
}
