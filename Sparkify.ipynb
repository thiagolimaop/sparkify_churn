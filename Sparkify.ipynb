{
 "cells": [
  {
   "cell_type": "markdown",
   "metadata": {},
   "source": [
    "# Sparkify - A churn analysis by predicting model\n",
    "\n",
    "This notebook uses a toy dataset (128MB) made by udacity to analysis churn for a supposed music app called sparkify. The dataset is a log for the events made by the users in the app."
   ]
  },
  {
   "cell_type": "code",
   "execution_count": 1,
   "metadata": {},
   "outputs": [],
   "source": [
    "# import libraries\n",
    "from pyspark.sql import SparkSession\n",
    "from pyspark.sql.types import StringType, IntegerType, DateType, Row, ArrayType\n",
    "from pyspark.sql.functions import count, when, col, desc, asc, from_unixtime, datediff\n",
    "from pyspark.sql.functions import sum as Fsum\n",
    "from pyspark.ml.feature import StringIndexer, VectorAssembler, Normalizer, MinMaxScaler\n",
    "from pyspark.ml.linalg import DenseVector, SparseVector\n",
    "from matplotlib import pyplot as plt\n",
    "\n",
    "from sklearn.base import BaseEstimator, TransformerMixin\n",
    "\n",
    "from pyspark.ml import Pipeline\n",
    "from pyspark.ml.classification import LogisticRegression, RandomForestClassifier, GBTClassifier\n",
    "from pyspark.ml.evaluation import MulticlassClassificationEvaluator\n",
    "from pyspark.ml.tuning import CrossValidator, ParamGridBuilder\n",
    "\n",
    "import datetime\n",
    "\n",
    "import numpy as np\n",
    "import pandas as pd\n",
    "import seaborn as sns\n",
    "\n",
    "%matplotlib inline"
   ]
  },
  {
   "cell_type": "code",
   "execution_count": 2,
   "metadata": {},
   "outputs": [],
   "source": [
    "# create a Spark session\n",
    "spark = SparkSession \\\n",
    "    .builder \\\n",
    "    .appName('Predicting churn') \\\n",
    "    .getOrCreate()"
   ]
  },
  {
   "cell_type": "code",
   "execution_count": 3,
   "metadata": {},
   "outputs": [
    {
     "data": {
      "text/plain": [
       "[('spark.app.name', 'Predicting churn'),\n",
       " ('spark.driver.port', '42101'),\n",
       " ('spark.rdd.compress', 'True'),\n",
       " ('spark.driver.host', '40902522fc83'),\n",
       " ('spark.serializer.objectStreamReset', '100'),\n",
       " ('spark.master', 'local[*]'),\n",
       " ('spark.executor.id', 'driver'),\n",
       " ('spark.submit.deployMode', 'client'),\n",
       " ('spark.ui.showConsoleProgress', 'true'),\n",
       " ('spark.app.id', 'local-1637613726948')]"
      ]
     },
     "execution_count": 3,
     "metadata": {},
     "output_type": "execute_result"
    }
   ],
   "source": [
    "spark.sparkContext.getConf().getAll()"
   ]
  },
  {
   "cell_type": "markdown",
   "metadata": {},
   "source": [
    "# Load and Clean Dataset\n",
    "In this notebook, the mini-dataset file is `mini_sparkify_event_data.json`. Load and clean the dataset, checking for invalid or missing data - for example, records without userids or sessionids."
   ]
  },
  {
   "cell_type": "code",
   "execution_count": 4,
   "metadata": {},
   "outputs": [],
   "source": [
    "path = 'mini_sparkify_event_data.json'\n",
    "user_log = spark.read.json(path)"
   ]
  },
  {
   "cell_type": "markdown",
   "metadata": {},
   "source": [
    "# Exploratory Data Analysis\n",
    "\n",
    "### Define Churn\n",
    "\n",
    "Churn is defined in this case using the event “Cancellation Confirmation”. So let’s create a column to the user's ID and another to say if this user canceled the service of music streaming or not. "
   ]
  },
  {
   "cell_type": "code",
   "execution_count": 5,
   "metadata": {},
   "outputs": [
    {
     "name": "stdout",
     "output_type": "stream",
     "text": [
      "root\n",
      " |-- artist: string (nullable = true)\n",
      " |-- auth: string (nullable = true)\n",
      " |-- firstName: string (nullable = true)\n",
      " |-- gender: string (nullable = true)\n",
      " |-- itemInSession: long (nullable = true)\n",
      " |-- lastName: string (nullable = true)\n",
      " |-- length: double (nullable = true)\n",
      " |-- level: string (nullable = true)\n",
      " |-- location: string (nullable = true)\n",
      " |-- method: string (nullable = true)\n",
      " |-- page: string (nullable = true)\n",
      " |-- registration: long (nullable = true)\n",
      " |-- sessionId: long (nullable = true)\n",
      " |-- song: string (nullable = true)\n",
      " |-- status: long (nullable = true)\n",
      " |-- ts: long (nullable = true)\n",
      " |-- userAgent: string (nullable = true)\n",
      " |-- userId: string (nullable = true)\n",
      "\n"
     ]
    }
   ],
   "source": [
    "user_log.printSchema()"
   ]
  },
  {
   "cell_type": "code",
   "execution_count": 6,
   "metadata": {},
   "outputs": [],
   "source": [
    "user_log.createOrReplaceTempView('user_log_table')"
   ]
  },
  {
   "cell_type": "code",
   "execution_count": 7,
   "metadata": {},
   "outputs": [
    {
     "data": {
      "text/html": [
       "<div>\n",
       "<style scoped>\n",
       "    .dataframe tbody tr th:only-of-type {\n",
       "        vertical-align: middle;\n",
       "    }\n",
       "\n",
       "    .dataframe tbody tr th {\n",
       "        vertical-align: top;\n",
       "    }\n",
       "\n",
       "    .dataframe thead th {\n",
       "        text-align: right;\n",
       "    }\n",
       "</style>\n",
       "<table border=\"1\" class=\"dataframe\">\n",
       "  <thead>\n",
       "    <tr style=\"text-align: right;\">\n",
       "      <th></th>\n",
       "      <th>artist</th>\n",
       "      <th>auth</th>\n",
       "      <th>firstName</th>\n",
       "      <th>gender</th>\n",
       "      <th>itemInSession</th>\n",
       "      <th>lastName</th>\n",
       "      <th>length</th>\n",
       "      <th>level</th>\n",
       "      <th>location</th>\n",
       "      <th>method</th>\n",
       "      <th>page</th>\n",
       "      <th>registration</th>\n",
       "      <th>sessionId</th>\n",
       "      <th>song</th>\n",
       "      <th>status</th>\n",
       "      <th>ts</th>\n",
       "      <th>userAgent</th>\n",
       "      <th>userId</th>\n",
       "    </tr>\n",
       "  </thead>\n",
       "  <tbody>\n",
       "    <tr>\n",
       "      <th>0</th>\n",
       "      <td>Martha Tilston</td>\n",
       "      <td>Logged In</td>\n",
       "      <td>Colin</td>\n",
       "      <td>M</td>\n",
       "      <td>50</td>\n",
       "      <td>Freeman</td>\n",
       "      <td>277.89016</td>\n",
       "      <td>paid</td>\n",
       "      <td>Bakersfield, CA</td>\n",
       "      <td>PUT</td>\n",
       "      <td>NextSong</td>\n",
       "      <td>1538173362000</td>\n",
       "      <td>29</td>\n",
       "      <td>Rockpools</td>\n",
       "      <td>200</td>\n",
       "      <td>1538352117000</td>\n",
       "      <td>Mozilla/5.0 (Windows NT 6.1; WOW64; rv:31.0) G...</td>\n",
       "      <td>30</td>\n",
       "    </tr>\n",
       "    <tr>\n",
       "      <th>1</th>\n",
       "      <td>Five Iron Frenzy</td>\n",
       "      <td>Logged In</td>\n",
       "      <td>Micah</td>\n",
       "      <td>M</td>\n",
       "      <td>79</td>\n",
       "      <td>Long</td>\n",
       "      <td>236.09424</td>\n",
       "      <td>free</td>\n",
       "      <td>Boston-Cambridge-Newton, MA-NH</td>\n",
       "      <td>PUT</td>\n",
       "      <td>NextSong</td>\n",
       "      <td>1538331630000</td>\n",
       "      <td>8</td>\n",
       "      <td>Canada</td>\n",
       "      <td>200</td>\n",
       "      <td>1538352180000</td>\n",
       "      <td>\"Mozilla/5.0 (Windows NT 6.1; WOW64) AppleWebK...</td>\n",
       "      <td>9</td>\n",
       "    </tr>\n",
       "  </tbody>\n",
       "</table>\n",
       "</div>"
      ],
      "text/plain": [
       "             artist       auth firstName gender  itemInSession lastName  \\\n",
       "0    Martha Tilston  Logged In     Colin      M             50  Freeman   \n",
       "1  Five Iron Frenzy  Logged In     Micah      M             79     Long   \n",
       "\n",
       "      length level                        location method      page  \\\n",
       "0  277.89016  paid                 Bakersfield, CA    PUT  NextSong   \n",
       "1  236.09424  free  Boston-Cambridge-Newton, MA-NH    PUT  NextSong   \n",
       "\n",
       "    registration  sessionId       song  status             ts  \\\n",
       "0  1538173362000         29  Rockpools     200  1538352117000   \n",
       "1  1538331630000          8     Canada     200  1538352180000   \n",
       "\n",
       "                                           userAgent userId  \n",
       "0  Mozilla/5.0 (Windows NT 6.1; WOW64; rv:31.0) G...     30  \n",
       "1  \"Mozilla/5.0 (Windows NT 6.1; WOW64) AppleWebK...      9  "
      ]
     },
     "execution_count": 7,
     "metadata": {},
     "output_type": "execute_result"
    }
   ],
   "source": [
    "spark.sql('''\n",
    "            SELECT * \n",
    "            FROM user_log_table\n",
    "            LIMIT 2\n",
    "            '''\n",
    "         ).toPandas()"
   ]
  },
  {
   "cell_type": "code",
   "execution_count": 8,
   "metadata": {},
   "outputs": [
    {
     "data": {
      "text/html": [
       "<div>\n",
       "<style scoped>\n",
       "    .dataframe tbody tr th:only-of-type {\n",
       "        vertical-align: middle;\n",
       "    }\n",
       "\n",
       "    .dataframe tbody tr th {\n",
       "        vertical-align: top;\n",
       "    }\n",
       "\n",
       "    .dataframe thead th {\n",
       "        text-align: right;\n",
       "    }\n",
       "</style>\n",
       "<table border=\"1\" class=\"dataframe\">\n",
       "  <thead>\n",
       "    <tr style=\"text-align: right;\">\n",
       "      <th></th>\n",
       "      <th>userID</th>\n",
       "      <th>auth</th>\n",
       "      <th>level</th>\n",
       "      <th>location</th>\n",
       "      <th>page</th>\n",
       "      <th>song</th>\n",
       "      <th>status</th>\n",
       "    </tr>\n",
       "  </thead>\n",
       "  <tbody>\n",
       "    <tr>\n",
       "      <th>0</th>\n",
       "      <td>30</td>\n",
       "      <td>Logged In</td>\n",
       "      <td>paid</td>\n",
       "      <td>Bakersfield, CA</td>\n",
       "      <td>NextSong</td>\n",
       "      <td>Rockpools</td>\n",
       "      <td>200</td>\n",
       "    </tr>\n",
       "    <tr>\n",
       "      <th>1</th>\n",
       "      <td>30</td>\n",
       "      <td>Logged In</td>\n",
       "      <td>paid</td>\n",
       "      <td>Bakersfield, CA</td>\n",
       "      <td>NextSong</td>\n",
       "      <td>Time For Miracles</td>\n",
       "      <td>200</td>\n",
       "    </tr>\n",
       "    <tr>\n",
       "      <th>2</th>\n",
       "      <td>30</td>\n",
       "      <td>Logged In</td>\n",
       "      <td>paid</td>\n",
       "      <td>Bakersfield, CA</td>\n",
       "      <td>NextSong</td>\n",
       "      <td>Harder Better Faster Stronger</td>\n",
       "      <td>200</td>\n",
       "    </tr>\n",
       "    <tr>\n",
       "      <th>3</th>\n",
       "      <td>30</td>\n",
       "      <td>Logged In</td>\n",
       "      <td>paid</td>\n",
       "      <td>Bakersfield, CA</td>\n",
       "      <td>NextSong</td>\n",
       "      <td>Passengers (Old Album Version)</td>\n",
       "      <td>200</td>\n",
       "    </tr>\n",
       "    <tr>\n",
       "      <th>4</th>\n",
       "      <td>30</td>\n",
       "      <td>Logged In</td>\n",
       "      <td>paid</td>\n",
       "      <td>Bakersfield, CA</td>\n",
       "      <td>Add to Playlist</td>\n",
       "      <td>None</td>\n",
       "      <td>200</td>\n",
       "    </tr>\n",
       "    <tr>\n",
       "      <th>5</th>\n",
       "      <td>30</td>\n",
       "      <td>Logged In</td>\n",
       "      <td>paid</td>\n",
       "      <td>Bakersfield, CA</td>\n",
       "      <td>NextSong</td>\n",
       "      <td>Fuck Kitty</td>\n",
       "      <td>200</td>\n",
       "    </tr>\n",
       "    <tr>\n",
       "      <th>6</th>\n",
       "      <td>30</td>\n",
       "      <td>Logged In</td>\n",
       "      <td>paid</td>\n",
       "      <td>Bakersfield, CA</td>\n",
       "      <td>NextSong</td>\n",
       "      <td>Jade</td>\n",
       "      <td>200</td>\n",
       "    </tr>\n",
       "    <tr>\n",
       "      <th>7</th>\n",
       "      <td>30</td>\n",
       "      <td>Logged In</td>\n",
       "      <td>paid</td>\n",
       "      <td>Bakersfield, CA</td>\n",
       "      <td>NextSong</td>\n",
       "      <td>So-Called Friends</td>\n",
       "      <td>200</td>\n",
       "    </tr>\n",
       "    <tr>\n",
       "      <th>8</th>\n",
       "      <td>30</td>\n",
       "      <td>Logged In</td>\n",
       "      <td>paid</td>\n",
       "      <td>Bakersfield, CA</td>\n",
       "      <td>NextSong</td>\n",
       "      <td>Represent</td>\n",
       "      <td>200</td>\n",
       "    </tr>\n",
       "    <tr>\n",
       "      <th>9</th>\n",
       "      <td>30</td>\n",
       "      <td>Logged In</td>\n",
       "      <td>paid</td>\n",
       "      <td>Bakersfield, CA</td>\n",
       "      <td>NextSong</td>\n",
       "      <td>Here I Am</td>\n",
       "      <td>200</td>\n",
       "    </tr>\n",
       "    <tr>\n",
       "      <th>10</th>\n",
       "      <td>30</td>\n",
       "      <td>Logged In</td>\n",
       "      <td>paid</td>\n",
       "      <td>Bakersfield, CA</td>\n",
       "      <td>NextSong</td>\n",
       "      <td>Rebirthing (Album Version)</td>\n",
       "      <td>200</td>\n",
       "    </tr>\n",
       "    <tr>\n",
       "      <th>11</th>\n",
       "      <td>30</td>\n",
       "      <td>Logged In</td>\n",
       "      <td>paid</td>\n",
       "      <td>Bakersfield, CA</td>\n",
       "      <td>NextSong</td>\n",
       "      <td>Dog Days Are Over (Radio Edit)</td>\n",
       "      <td>200</td>\n",
       "    </tr>\n",
       "    <tr>\n",
       "      <th>12</th>\n",
       "      <td>30</td>\n",
       "      <td>Logged In</td>\n",
       "      <td>paid</td>\n",
       "      <td>Bakersfield, CA</td>\n",
       "      <td>NextSong</td>\n",
       "      <td>Tomorrow Is A Long Time</td>\n",
       "      <td>200</td>\n",
       "    </tr>\n",
       "    <tr>\n",
       "      <th>13</th>\n",
       "      <td>30</td>\n",
       "      <td>Logged In</td>\n",
       "      <td>paid</td>\n",
       "      <td>Bakersfield, CA</td>\n",
       "      <td>NextSong</td>\n",
       "      <td>Halloween Spooks</td>\n",
       "      <td>200</td>\n",
       "    </tr>\n",
       "    <tr>\n",
       "      <th>14</th>\n",
       "      <td>30</td>\n",
       "      <td>Logged In</td>\n",
       "      <td>paid</td>\n",
       "      <td>Bakersfield, CA</td>\n",
       "      <td>NextSong</td>\n",
       "      <td>Stronger</td>\n",
       "      <td>200</td>\n",
       "    </tr>\n",
       "    <tr>\n",
       "      <th>15</th>\n",
       "      <td>30</td>\n",
       "      <td>Logged In</td>\n",
       "      <td>paid</td>\n",
       "      <td>Bakersfield, CA</td>\n",
       "      <td>NextSong</td>\n",
       "      <td>Dis Iz Brick City</td>\n",
       "      <td>200</td>\n",
       "    </tr>\n",
       "    <tr>\n",
       "      <th>16</th>\n",
       "      <td>30</td>\n",
       "      <td>Logged In</td>\n",
       "      <td>paid</td>\n",
       "      <td>Bakersfield, CA</td>\n",
       "      <td>NextSong</td>\n",
       "      <td>Move Along</td>\n",
       "      <td>200</td>\n",
       "    </tr>\n",
       "    <tr>\n",
       "      <th>17</th>\n",
       "      <td>30</td>\n",
       "      <td>Logged In</td>\n",
       "      <td>paid</td>\n",
       "      <td>Bakersfield, CA</td>\n",
       "      <td>NextSong</td>\n",
       "      <td>Manhattan</td>\n",
       "      <td>200</td>\n",
       "    </tr>\n",
       "    <tr>\n",
       "      <th>18</th>\n",
       "      <td>30</td>\n",
       "      <td>Logged In</td>\n",
       "      <td>paid</td>\n",
       "      <td>Bakersfield, CA</td>\n",
       "      <td>NextSong</td>\n",
       "      <td>Undo</td>\n",
       "      <td>200</td>\n",
       "    </tr>\n",
       "    <tr>\n",
       "      <th>19</th>\n",
       "      <td>30</td>\n",
       "      <td>Logged In</td>\n",
       "      <td>paid</td>\n",
       "      <td>Bakersfield, CA</td>\n",
       "      <td>NextSong</td>\n",
       "      <td>The Big Gundown</td>\n",
       "      <td>200</td>\n",
       "    </tr>\n",
       "    <tr>\n",
       "      <th>20</th>\n",
       "      <td>30</td>\n",
       "      <td>Logged In</td>\n",
       "      <td>paid</td>\n",
       "      <td>Bakersfield, CA</td>\n",
       "      <td>NextSong</td>\n",
       "      <td>Black Bird</td>\n",
       "      <td>200</td>\n",
       "    </tr>\n",
       "    <tr>\n",
       "      <th>21</th>\n",
       "      <td>30</td>\n",
       "      <td>Logged In</td>\n",
       "      <td>paid</td>\n",
       "      <td>Bakersfield, CA</td>\n",
       "      <td>Thumbs Down</td>\n",
       "      <td>None</td>\n",
       "      <td>307</td>\n",
       "    </tr>\n",
       "    <tr>\n",
       "      <th>22</th>\n",
       "      <td>30</td>\n",
       "      <td>Logged In</td>\n",
       "      <td>paid</td>\n",
       "      <td>Bakersfield, CA</td>\n",
       "      <td>NextSong</td>\n",
       "      <td>Nausea</td>\n",
       "      <td>200</td>\n",
       "    </tr>\n",
       "    <tr>\n",
       "      <th>23</th>\n",
       "      <td>30</td>\n",
       "      <td>Logged In</td>\n",
       "      <td>paid</td>\n",
       "      <td>Bakersfield, CA</td>\n",
       "      <td>NextSong</td>\n",
       "      <td>Matricide</td>\n",
       "      <td>200</td>\n",
       "    </tr>\n",
       "    <tr>\n",
       "      <th>24</th>\n",
       "      <td>30</td>\n",
       "      <td>Logged In</td>\n",
       "      <td>paid</td>\n",
       "      <td>Bakersfield, CA</td>\n",
       "      <td>NextSong</td>\n",
       "      <td>Valerie</td>\n",
       "      <td>200</td>\n",
       "    </tr>\n",
       "    <tr>\n",
       "      <th>25</th>\n",
       "      <td>30</td>\n",
       "      <td>Logged In</td>\n",
       "      <td>paid</td>\n",
       "      <td>Bakersfield, CA</td>\n",
       "      <td>NextSong</td>\n",
       "      <td>Margarita</td>\n",
       "      <td>200</td>\n",
       "    </tr>\n",
       "    <tr>\n",
       "      <th>26</th>\n",
       "      <td>30</td>\n",
       "      <td>Logged In</td>\n",
       "      <td>paid</td>\n",
       "      <td>Bakersfield, CA</td>\n",
       "      <td>NextSong</td>\n",
       "      <td>Le Jardin d'Hiver</td>\n",
       "      <td>200</td>\n",
       "    </tr>\n",
       "    <tr>\n",
       "      <th>27</th>\n",
       "      <td>30</td>\n",
       "      <td>Logged In</td>\n",
       "      <td>paid</td>\n",
       "      <td>Bakersfield, CA</td>\n",
       "      <td>Thumbs Up</td>\n",
       "      <td>None</td>\n",
       "      <td>307</td>\n",
       "    </tr>\n",
       "    <tr>\n",
       "      <th>28</th>\n",
       "      <td>30</td>\n",
       "      <td>Logged In</td>\n",
       "      <td>paid</td>\n",
       "      <td>Bakersfield, CA</td>\n",
       "      <td>NextSong</td>\n",
       "      <td>Soon As I Get Home(Album Version)</td>\n",
       "      <td>200</td>\n",
       "    </tr>\n",
       "    <tr>\n",
       "      <th>29</th>\n",
       "      <td>30</td>\n",
       "      <td>Logged In</td>\n",
       "      <td>paid</td>\n",
       "      <td>Bakersfield, CA</td>\n",
       "      <td>Thumbs Up</td>\n",
       "      <td>None</td>\n",
       "      <td>307</td>\n",
       "    </tr>\n",
       "    <tr>\n",
       "      <th>30</th>\n",
       "      <td>30</td>\n",
       "      <td>Logged In</td>\n",
       "      <td>paid</td>\n",
       "      <td>Bakersfield, CA</td>\n",
       "      <td>NextSong</td>\n",
       "      <td>Vamos a la Playa</td>\n",
       "      <td>200</td>\n",
       "    </tr>\n",
       "    <tr>\n",
       "      <th>31</th>\n",
       "      <td>30</td>\n",
       "      <td>Logged In</td>\n",
       "      <td>paid</td>\n",
       "      <td>Bakersfield, CA</td>\n",
       "      <td>NextSong</td>\n",
       "      <td>Perfecta</td>\n",
       "      <td>200</td>\n",
       "    </tr>\n",
       "    <tr>\n",
       "      <th>32</th>\n",
       "      <td>30</td>\n",
       "      <td>Logged In</td>\n",
       "      <td>paid</td>\n",
       "      <td>Bakersfield, CA</td>\n",
       "      <td>NextSong</td>\n",
       "      <td>Requiem</td>\n",
       "      <td>200</td>\n",
       "    </tr>\n",
       "    <tr>\n",
       "      <th>33</th>\n",
       "      <td>30</td>\n",
       "      <td>Logged In</td>\n",
       "      <td>paid</td>\n",
       "      <td>Bakersfield, CA</td>\n",
       "      <td>NextSong</td>\n",
       "      <td>Who Can Compare</td>\n",
       "      <td>200</td>\n",
       "    </tr>\n",
       "    <tr>\n",
       "      <th>34</th>\n",
       "      <td>30</td>\n",
       "      <td>Logged In</td>\n",
       "      <td>paid</td>\n",
       "      <td>Bakersfield, CA</td>\n",
       "      <td>NextSong</td>\n",
       "      <td>240 Years Before Your Time</td>\n",
       "      <td>200</td>\n",
       "    </tr>\n",
       "    <tr>\n",
       "      <th>35</th>\n",
       "      <td>30</td>\n",
       "      <td>Logged In</td>\n",
       "      <td>paid</td>\n",
       "      <td>Bakersfield, CA</td>\n",
       "      <td>NextSong</td>\n",
       "      <td>Rosa Pastel</td>\n",
       "      <td>200</td>\n",
       "    </tr>\n",
       "    <tr>\n",
       "      <th>36</th>\n",
       "      <td>30</td>\n",
       "      <td>Logged In</td>\n",
       "      <td>paid</td>\n",
       "      <td>Bakersfield, CA</td>\n",
       "      <td>Roll Advert</td>\n",
       "      <td>None</td>\n",
       "      <td>200</td>\n",
       "    </tr>\n",
       "    <tr>\n",
       "      <th>37</th>\n",
       "      <td>30</td>\n",
       "      <td>Logged In</td>\n",
       "      <td>paid</td>\n",
       "      <td>Bakersfield, CA</td>\n",
       "      <td>NextSong</td>\n",
       "      <td>I'm Ready (Album Version)</td>\n",
       "      <td>200</td>\n",
       "    </tr>\n",
       "    <tr>\n",
       "      <th>38</th>\n",
       "      <td>30</td>\n",
       "      <td>Logged In</td>\n",
       "      <td>paid</td>\n",
       "      <td>Bakersfield, CA</td>\n",
       "      <td>NextSong</td>\n",
       "      <td>No Other Saviour</td>\n",
       "      <td>200</td>\n",
       "    </tr>\n",
       "    <tr>\n",
       "      <th>39</th>\n",
       "      <td>30</td>\n",
       "      <td>Logged In</td>\n",
       "      <td>paid</td>\n",
       "      <td>Bakersfield, CA</td>\n",
       "      <td>NextSong</td>\n",
       "      <td>Hints</td>\n",
       "      <td>200</td>\n",
       "    </tr>\n",
       "  </tbody>\n",
       "</table>\n",
       "</div>"
      ],
      "text/plain": [
       "   userID       auth level         location             page  \\\n",
       "0      30  Logged In  paid  Bakersfield, CA         NextSong   \n",
       "1      30  Logged In  paid  Bakersfield, CA         NextSong   \n",
       "2      30  Logged In  paid  Bakersfield, CA         NextSong   \n",
       "3      30  Logged In  paid  Bakersfield, CA         NextSong   \n",
       "4      30  Logged In  paid  Bakersfield, CA  Add to Playlist   \n",
       "5      30  Logged In  paid  Bakersfield, CA         NextSong   \n",
       "6      30  Logged In  paid  Bakersfield, CA         NextSong   \n",
       "7      30  Logged In  paid  Bakersfield, CA         NextSong   \n",
       "8      30  Logged In  paid  Bakersfield, CA         NextSong   \n",
       "9      30  Logged In  paid  Bakersfield, CA         NextSong   \n",
       "10     30  Logged In  paid  Bakersfield, CA         NextSong   \n",
       "11     30  Logged In  paid  Bakersfield, CA         NextSong   \n",
       "12     30  Logged In  paid  Bakersfield, CA         NextSong   \n",
       "13     30  Logged In  paid  Bakersfield, CA         NextSong   \n",
       "14     30  Logged In  paid  Bakersfield, CA         NextSong   \n",
       "15     30  Logged In  paid  Bakersfield, CA         NextSong   \n",
       "16     30  Logged In  paid  Bakersfield, CA         NextSong   \n",
       "17     30  Logged In  paid  Bakersfield, CA         NextSong   \n",
       "18     30  Logged In  paid  Bakersfield, CA         NextSong   \n",
       "19     30  Logged In  paid  Bakersfield, CA         NextSong   \n",
       "20     30  Logged In  paid  Bakersfield, CA         NextSong   \n",
       "21     30  Logged In  paid  Bakersfield, CA      Thumbs Down   \n",
       "22     30  Logged In  paid  Bakersfield, CA         NextSong   \n",
       "23     30  Logged In  paid  Bakersfield, CA         NextSong   \n",
       "24     30  Logged In  paid  Bakersfield, CA         NextSong   \n",
       "25     30  Logged In  paid  Bakersfield, CA         NextSong   \n",
       "26     30  Logged In  paid  Bakersfield, CA         NextSong   \n",
       "27     30  Logged In  paid  Bakersfield, CA        Thumbs Up   \n",
       "28     30  Logged In  paid  Bakersfield, CA         NextSong   \n",
       "29     30  Logged In  paid  Bakersfield, CA        Thumbs Up   \n",
       "30     30  Logged In  paid  Bakersfield, CA         NextSong   \n",
       "31     30  Logged In  paid  Bakersfield, CA         NextSong   \n",
       "32     30  Logged In  paid  Bakersfield, CA         NextSong   \n",
       "33     30  Logged In  paid  Bakersfield, CA         NextSong   \n",
       "34     30  Logged In  paid  Bakersfield, CA         NextSong   \n",
       "35     30  Logged In  paid  Bakersfield, CA         NextSong   \n",
       "36     30  Logged In  paid  Bakersfield, CA      Roll Advert   \n",
       "37     30  Logged In  paid  Bakersfield, CA         NextSong   \n",
       "38     30  Logged In  paid  Bakersfield, CA         NextSong   \n",
       "39     30  Logged In  paid  Bakersfield, CA         NextSong   \n",
       "\n",
       "                                 song  status  \n",
       "0                           Rockpools     200  \n",
       "1                   Time For Miracles     200  \n",
       "2       Harder Better Faster Stronger     200  \n",
       "3      Passengers (Old Album Version)     200  \n",
       "4                                None     200  \n",
       "5                          Fuck Kitty     200  \n",
       "6                                Jade     200  \n",
       "7                   So-Called Friends     200  \n",
       "8                           Represent     200  \n",
       "9                           Here I Am     200  \n",
       "10         Rebirthing (Album Version)     200  \n",
       "11     Dog Days Are Over (Radio Edit)     200  \n",
       "12            Tomorrow Is A Long Time     200  \n",
       "13                   Halloween Spooks     200  \n",
       "14                           Stronger     200  \n",
       "15                  Dis Iz Brick City     200  \n",
       "16                         Move Along     200  \n",
       "17                          Manhattan     200  \n",
       "18                               Undo     200  \n",
       "19                    The Big Gundown     200  \n",
       "20                         Black Bird     200  \n",
       "21                               None     307  \n",
       "22                             Nausea     200  \n",
       "23                          Matricide     200  \n",
       "24                            Valerie     200  \n",
       "25                          Margarita     200  \n",
       "26                  Le Jardin d'Hiver     200  \n",
       "27                               None     307  \n",
       "28  Soon As I Get Home(Album Version)     200  \n",
       "29                               None     307  \n",
       "30                   Vamos a la Playa     200  \n",
       "31                           Perfecta     200  \n",
       "32                            Requiem     200  \n",
       "33                    Who Can Compare     200  \n",
       "34         240 Years Before Your Time     200  \n",
       "35                        Rosa Pastel     200  \n",
       "36                               None     200  \n",
       "37          I'm Ready (Album Version)     200  \n",
       "38                   No Other Saviour     200  \n",
       "39                              Hints     200  "
      ]
     },
     "execution_count": 8,
     "metadata": {},
     "output_type": "execute_result"
    }
   ],
   "source": [
    "spark.sql('''\n",
    "            SELECT userID, auth, level, location, page, song, status\n",
    "            FROM user_log_table\n",
    "            WHERE userID = 30\n",
    "            LIMIT 40\n",
    "            '''\n",
    "         ).toPandas()"
   ]
  },
  {
   "cell_type": "code",
   "execution_count": 9,
   "metadata": {},
   "outputs": [
    {
     "name": "stdout",
     "output_type": "stream",
     "text": [
      "+-------+------------------+-----------------+--------------------+--------------------+\n",
      "|summary|     itemInSession|           length|        registration|                  ts|\n",
      "+-------+------------------+-----------------+--------------------+--------------------+\n",
      "|  count|            286500|           228108|              278154|              286500|\n",
      "|   mean|114.41421291448516|249.1171819778458|1.535358834084427...|1.540956889810483...|\n",
      "| stddev|129.76726201140994|99.23517921058361| 3.291321616327586E9|1.5075439608226302E9|\n",
      "|    min|                 0|          0.78322|       1521380675000|       1538352117000|\n",
      "|    max|              1321|       3024.66567|       1543247354000|       1543799476000|\n",
      "+-------+------------------+-----------------+--------------------+--------------------+\n",
      "\n"
     ]
    }
   ],
   "source": [
    "# Show descriptive statistics of the numeric fields\n",
    "user_log.describe(['itemInSession', 'length', 'registration', 'ts']).show()"
   ]
  },
  {
   "cell_type": "code",
   "execution_count": 10,
   "metadata": {},
   "outputs": [
    {
     "data": {
      "text/plain": [
       "[Row(artist=58392, auth=0, firstName=8346, gender=8346, itemInSession=0, lastName=8346, length=58392, level=0, location=8346, method=0, page=0, registration=8346, sessionId=0, song=58392, ts=0, userAgent=8346, userId=0)]"
      ]
     },
     "execution_count": 10,
     "metadata": {},
     "output_type": "execute_result"
    }
   ],
   "source": [
    "# Count number of rows with data missing in dataset for each column\n",
    "spark.sql('''\n",
    "            SELECT COUNT(*)-COUNT(artist) As artist,\n",
    "                COUNT(*)-COUNT(auth) As auth,\n",
    "                COUNT(*)-COUNT(firstName) As firstName,\n",
    "                COUNT(*)-COUNT(gender) As gender,\n",
    "                COUNT(*)-COUNT(itemInSession) As itemInSession,\n",
    "                COUNT(*)-COUNT(lastName) As lastName,\n",
    "                COUNT(*)-COUNT(length) As length,\n",
    "                COUNT(*)-COUNT(level) As level,\n",
    "                COUNT(*)-COUNT(location) As location,\n",
    "                COUNT(*)-COUNT(method) As method,\n",
    "                COUNT(*)-COUNT(page) As page,\n",
    "                COUNT(*)-COUNT(registration) As registration,\n",
    "                COUNT(*)-COUNT(sessionId) As sessionId,\n",
    "                COUNT(*)-COUNT(song) As song,\n",
    "                COUNT(*)-COUNT(ts) As ts,\n",
    "                COUNT(*)-COUNT(userAgent) As userAgent,\n",
    "                COUNT(*)-COUNT(userId) As userId\n",
    "            FROM user_log_table\n",
    "            '''\n",
    "         ).collect()"
   ]
  },
  {
   "cell_type": "code",
   "execution_count": 11,
   "metadata": {},
   "outputs": [
    {
     "name": "stdout",
     "output_type": "stream",
     "text": [
      "+--------+\n",
      "|count(1)|\n",
      "+--------+\n",
      "|  286500|\n",
      "+--------+\n",
      "\n"
     ]
    }
   ],
   "source": [
    "# Total log registers\n",
    "spark.sql('''\n",
    "            SELECT COUNT(*) \n",
    "            FROM user_log_table\n",
    "            '''\n",
    "         ).show()"
   ]
  },
  {
   "cell_type": "markdown",
   "metadata": {},
   "source": [
    "Seems like some rows are missing much more values than others as artist, length and song. Let’s understand more about the interaction types."
   ]
  },
  {
   "cell_type": "code",
   "execution_count": 12,
   "metadata": {},
   "outputs": [
    {
     "data": {
      "text/plain": [
       "[Row(page='Cancel'),\n",
       " Row(page='Submit Downgrade'),\n",
       " Row(page='Thumbs Down'),\n",
       " Row(page='Home'),\n",
       " Row(page='Downgrade'),\n",
       " Row(page='Roll Advert'),\n",
       " Row(page='Logout'),\n",
       " Row(page='Save Settings'),\n",
       " Row(page='Cancellation Confirmation'),\n",
       " Row(page='About'),\n",
       " Row(page='Submit Registration'),\n",
       " Row(page='Settings'),\n",
       " Row(page='Login'),\n",
       " Row(page='Register'),\n",
       " Row(page='Add to Playlist'),\n",
       " Row(page='Add Friend'),\n",
       " Row(page='NextSong'),\n",
       " Row(page='Thumbs Up'),\n",
       " Row(page='Help'),\n",
       " Row(page='Upgrade'),\n",
       " Row(page='Error'),\n",
       " Row(page='Submit Upgrade')]"
      ]
     },
     "execution_count": 12,
     "metadata": {},
     "output_type": "execute_result"
    }
   ],
   "source": [
    "# Displaying all the possible interactions a user could do\n",
    "spark.sql('''\n",
    "            SELECT DISTINCT(page)\n",
    "            FROM user_log_table\n",
    "            '''\n",
    "         ).collect()"
   ]
  },
  {
   "cell_type": "code",
   "execution_count": 13,
   "metadata": {},
   "outputs": [
    {
     "name": "stdout",
     "output_type": "stream",
     "text": [
      "+-----------------------------+\n",
      "|(count(1) - sum(playedSongs))|\n",
      "+-----------------------------+\n",
      "|                        58392|\n",
      "+-----------------------------+\n",
      "\n"
     ]
    }
   ],
   "source": [
    "spark.sql('''\n",
    "            SELECT COUNT(*) - SUM(playedSongs)\n",
    "            FROM (\n",
    "                SELECT userID,\n",
    "                    CASE WHEN page = \"NextSong\" THEN 1 ELSE 0 END AS playedSongs\n",
    "                FROM user_log_table)\n",
    "            '''\n",
    "         ).show()"
   ]
  },
  {
   "cell_type": "markdown",
   "metadata": {},
   "source": [
    "As we can see above, it has 58,392 rows with other types of interactions that don't involve listening to music, which explains the missing values for columns like, artist, song and length."
   ]
  },
  {
   "cell_type": "code",
   "execution_count": 14,
   "metadata": {},
   "outputs": [
    {
     "data": {
      "text/html": [
       "<div>\n",
       "<style scoped>\n",
       "    .dataframe tbody tr th:only-of-type {\n",
       "        vertical-align: middle;\n",
       "    }\n",
       "\n",
       "    .dataframe tbody tr th {\n",
       "        vertical-align: top;\n",
       "    }\n",
       "\n",
       "    .dataframe thead th {\n",
       "        text-align: right;\n",
       "    }\n",
       "</style>\n",
       "<table border=\"1\" class=\"dataframe\">\n",
       "  <thead>\n",
       "    <tr style=\"text-align: right;\">\n",
       "      <th></th>\n",
       "      <th>userID</th>\n",
       "      <th>firstName</th>\n",
       "      <th>lastName</th>\n",
       "      <th>gender</th>\n",
       "      <th>location</th>\n",
       "      <th>userAgent</th>\n",
       "      <th>registration</th>\n",
       "    </tr>\n",
       "  </thead>\n",
       "  <tbody>\n",
       "    <tr>\n",
       "      <th>0</th>\n",
       "      <td></td>\n",
       "      <td>None</td>\n",
       "      <td>None</td>\n",
       "      <td>None</td>\n",
       "      <td>None</td>\n",
       "      <td>None</td>\n",
       "      <td>None</td>\n",
       "    </tr>\n",
       "    <tr>\n",
       "      <th>1</th>\n",
       "      <td></td>\n",
       "      <td>None</td>\n",
       "      <td>None</td>\n",
       "      <td>None</td>\n",
       "      <td>None</td>\n",
       "      <td>None</td>\n",
       "      <td>None</td>\n",
       "    </tr>\n",
       "    <tr>\n",
       "      <th>2</th>\n",
       "      <td></td>\n",
       "      <td>None</td>\n",
       "      <td>None</td>\n",
       "      <td>None</td>\n",
       "      <td>None</td>\n",
       "      <td>None</td>\n",
       "      <td>None</td>\n",
       "    </tr>\n",
       "    <tr>\n",
       "      <th>3</th>\n",
       "      <td></td>\n",
       "      <td>None</td>\n",
       "      <td>None</td>\n",
       "      <td>None</td>\n",
       "      <td>None</td>\n",
       "      <td>None</td>\n",
       "      <td>None</td>\n",
       "    </tr>\n",
       "    <tr>\n",
       "      <th>4</th>\n",
       "      <td></td>\n",
       "      <td>None</td>\n",
       "      <td>None</td>\n",
       "      <td>None</td>\n",
       "      <td>None</td>\n",
       "      <td>None</td>\n",
       "      <td>None</td>\n",
       "    </tr>\n",
       "    <tr>\n",
       "      <th>5</th>\n",
       "      <td></td>\n",
       "      <td>None</td>\n",
       "      <td>None</td>\n",
       "      <td>None</td>\n",
       "      <td>None</td>\n",
       "      <td>None</td>\n",
       "      <td>None</td>\n",
       "    </tr>\n",
       "    <tr>\n",
       "      <th>6</th>\n",
       "      <td></td>\n",
       "      <td>None</td>\n",
       "      <td>None</td>\n",
       "      <td>None</td>\n",
       "      <td>None</td>\n",
       "      <td>None</td>\n",
       "      <td>None</td>\n",
       "    </tr>\n",
       "    <tr>\n",
       "      <th>7</th>\n",
       "      <td></td>\n",
       "      <td>None</td>\n",
       "      <td>None</td>\n",
       "      <td>None</td>\n",
       "      <td>None</td>\n",
       "      <td>None</td>\n",
       "      <td>None</td>\n",
       "    </tr>\n",
       "    <tr>\n",
       "      <th>8</th>\n",
       "      <td></td>\n",
       "      <td>None</td>\n",
       "      <td>None</td>\n",
       "      <td>None</td>\n",
       "      <td>None</td>\n",
       "      <td>None</td>\n",
       "      <td>None</td>\n",
       "    </tr>\n",
       "    <tr>\n",
       "      <th>9</th>\n",
       "      <td></td>\n",
       "      <td>None</td>\n",
       "      <td>None</td>\n",
       "      <td>None</td>\n",
       "      <td>None</td>\n",
       "      <td>None</td>\n",
       "      <td>None</td>\n",
       "    </tr>\n",
       "    <tr>\n",
       "      <th>10</th>\n",
       "      <td></td>\n",
       "      <td>None</td>\n",
       "      <td>None</td>\n",
       "      <td>None</td>\n",
       "      <td>None</td>\n",
       "      <td>None</td>\n",
       "      <td>None</td>\n",
       "    </tr>\n",
       "    <tr>\n",
       "      <th>11</th>\n",
       "      <td></td>\n",
       "      <td>None</td>\n",
       "      <td>None</td>\n",
       "      <td>None</td>\n",
       "      <td>None</td>\n",
       "      <td>None</td>\n",
       "      <td>None</td>\n",
       "    </tr>\n",
       "    <tr>\n",
       "      <th>12</th>\n",
       "      <td></td>\n",
       "      <td>None</td>\n",
       "      <td>None</td>\n",
       "      <td>None</td>\n",
       "      <td>None</td>\n",
       "      <td>None</td>\n",
       "      <td>None</td>\n",
       "    </tr>\n",
       "    <tr>\n",
       "      <th>13</th>\n",
       "      <td></td>\n",
       "      <td>None</td>\n",
       "      <td>None</td>\n",
       "      <td>None</td>\n",
       "      <td>None</td>\n",
       "      <td>None</td>\n",
       "      <td>None</td>\n",
       "    </tr>\n",
       "    <tr>\n",
       "      <th>14</th>\n",
       "      <td></td>\n",
       "      <td>None</td>\n",
       "      <td>None</td>\n",
       "      <td>None</td>\n",
       "      <td>None</td>\n",
       "      <td>None</td>\n",
       "      <td>None</td>\n",
       "    </tr>\n",
       "    <tr>\n",
       "      <th>15</th>\n",
       "      <td></td>\n",
       "      <td>None</td>\n",
       "      <td>None</td>\n",
       "      <td>None</td>\n",
       "      <td>None</td>\n",
       "      <td>None</td>\n",
       "      <td>None</td>\n",
       "    </tr>\n",
       "    <tr>\n",
       "      <th>16</th>\n",
       "      <td></td>\n",
       "      <td>None</td>\n",
       "      <td>None</td>\n",
       "      <td>None</td>\n",
       "      <td>None</td>\n",
       "      <td>None</td>\n",
       "      <td>None</td>\n",
       "    </tr>\n",
       "    <tr>\n",
       "      <th>17</th>\n",
       "      <td></td>\n",
       "      <td>None</td>\n",
       "      <td>None</td>\n",
       "      <td>None</td>\n",
       "      <td>None</td>\n",
       "      <td>None</td>\n",
       "      <td>None</td>\n",
       "    </tr>\n",
       "    <tr>\n",
       "      <th>18</th>\n",
       "      <td></td>\n",
       "      <td>None</td>\n",
       "      <td>None</td>\n",
       "      <td>None</td>\n",
       "      <td>None</td>\n",
       "      <td>None</td>\n",
       "      <td>None</td>\n",
       "    </tr>\n",
       "    <tr>\n",
       "      <th>19</th>\n",
       "      <td></td>\n",
       "      <td>None</td>\n",
       "      <td>None</td>\n",
       "      <td>None</td>\n",
       "      <td>None</td>\n",
       "      <td>None</td>\n",
       "      <td>None</td>\n",
       "    </tr>\n",
       "  </tbody>\n",
       "</table>\n",
       "</div>"
      ],
      "text/plain": [
       "   userID firstName lastName gender location userAgent registration\n",
       "0              None     None   None     None      None         None\n",
       "1              None     None   None     None      None         None\n",
       "2              None     None   None     None      None         None\n",
       "3              None     None   None     None      None         None\n",
       "4              None     None   None     None      None         None\n",
       "5              None     None   None     None      None         None\n",
       "6              None     None   None     None      None         None\n",
       "7              None     None   None     None      None         None\n",
       "8              None     None   None     None      None         None\n",
       "9              None     None   None     None      None         None\n",
       "10             None     None   None     None      None         None\n",
       "11             None     None   None     None      None         None\n",
       "12             None     None   None     None      None         None\n",
       "13             None     None   None     None      None         None\n",
       "14             None     None   None     None      None         None\n",
       "15             None     None   None     None      None         None\n",
       "16             None     None   None     None      None         None\n",
       "17             None     None   None     None      None         None\n",
       "18             None     None   None     None      None         None\n",
       "19             None     None   None     None      None         None"
      ]
     },
     "execution_count": 14,
     "metadata": {},
     "output_type": "execute_result"
    }
   ],
   "source": [
    "# Understanding the log of Guest users\n",
    "spark.sql('''\n",
    "            SELECT userID, firstName, lastName, gender, location, userAgent, registration\n",
    "            FROM user_log_table\n",
    "            WHERE auth = \"Guest\"\n",
    "            LIMIT 20\n",
    "            '''\n",
    "         ).toPandas()"
   ]
  },
  {
   "cell_type": "code",
   "execution_count": 15,
   "metadata": {},
   "outputs": [
    {
     "name": "stdout",
     "output_type": "stream",
     "text": [
      "+----------+\n",
      "|      auth|\n",
      "+----------+\n",
      "|Logged Out|\n",
      "| Cancelled|\n",
      "|     Guest|\n",
      "| Logged In|\n",
      "+----------+\n",
      "\n"
     ]
    }
   ],
   "source": [
    "# Display all types of auth\n",
    "spark.sql('''\n",
    "            SELECT DISTINCT(auth) \n",
    "            FROM user_log_table\n",
    "            '''\n",
    "         ).show()"
   ]
  },
  {
   "cell_type": "code",
   "execution_count": 16,
   "metadata": {},
   "outputs": [
    {
     "name": "stdout",
     "output_type": "stream",
     "text": [
      "+-------------------+\n",
      "|               page|\n",
      "+-------------------+\n",
      "|               Home|\n",
      "|              About|\n",
      "|Submit Registration|\n",
      "|           Register|\n",
      "|               Help|\n",
      "|              Error|\n",
      "+-------------------+\n",
      "\n"
     ]
    }
   ],
   "source": [
    "# Display all pages allowed to access by Guest users\n",
    "spark.sql('''\n",
    "            SELECT DISTINCT(page) \n",
    "            FROM user_log_table\n",
    "            WHERE auth = \"Guest\"\n",
    "            '''\n",
    "         ).show()"
   ]
  },
  {
   "cell_type": "code",
   "execution_count": 17,
   "metadata": {},
   "outputs": [
    {
     "name": "stdout",
     "output_type": "stream",
     "text": [
      "+-----+\n",
      "| page|\n",
      "+-----+\n",
      "| Home|\n",
      "|About|\n",
      "|Login|\n",
      "| Help|\n",
      "|Error|\n",
      "+-----+\n",
      "\n"
     ]
    }
   ],
   "source": [
    "# Display all pages allowed to access by Logged out users\n",
    "spark.sql('''\n",
    "            SELECT DISTINCT(page) \n",
    "            FROM user_log_table\n",
    "            WHERE auth = \"Logged Out\"\n",
    "            '''\n",
    "         ).show()"
   ]
  },
  {
   "cell_type": "code",
   "execution_count": 18,
   "metadata": {},
   "outputs": [
    {
     "name": "stdout",
     "output_type": "stream",
     "text": [
      "+--------+\n",
      "|count(1)|\n",
      "+--------+\n",
      "|    8346|\n",
      "+--------+\n",
      "\n"
     ]
    }
   ],
   "source": [
    "spark.sql('''\n",
    "            SELECT COUNT(*) \n",
    "            FROM user_log_table\n",
    "            WHERE auth = \"Guest\" OR auth = \"Logged Out\"\n",
    "            '''\n",
    "         ).show()"
   ]
  },
  {
   "cell_type": "code",
   "execution_count": 19,
   "metadata": {},
   "outputs": [
    {
     "data": {
      "text/html": [
       "<div>\n",
       "<style scoped>\n",
       "    .dataframe tbody tr th:only-of-type {\n",
       "        vertical-align: middle;\n",
       "    }\n",
       "\n",
       "    .dataframe tbody tr th {\n",
       "        vertical-align: top;\n",
       "    }\n",
       "\n",
       "    .dataframe thead th {\n",
       "        text-align: right;\n",
       "    }\n",
       "</style>\n",
       "<table border=\"1\" class=\"dataframe\">\n",
       "  <thead>\n",
       "    <tr style=\"text-align: right;\">\n",
       "      <th></th>\n",
       "      <th>userID</th>\n",
       "      <th>firstName</th>\n",
       "      <th>lastName</th>\n",
       "      <th>gender</th>\n",
       "      <th>location</th>\n",
       "      <th>userAgent</th>\n",
       "      <th>registration</th>\n",
       "    </tr>\n",
       "  </thead>\n",
       "  <tbody>\n",
       "    <tr>\n",
       "      <th>0</th>\n",
       "      <td></td>\n",
       "      <td>None</td>\n",
       "      <td>None</td>\n",
       "      <td>None</td>\n",
       "      <td>None</td>\n",
       "      <td>None</td>\n",
       "      <td>None</td>\n",
       "    </tr>\n",
       "    <tr>\n",
       "      <th>1</th>\n",
       "      <td></td>\n",
       "      <td>None</td>\n",
       "      <td>None</td>\n",
       "      <td>None</td>\n",
       "      <td>None</td>\n",
       "      <td>None</td>\n",
       "      <td>None</td>\n",
       "    </tr>\n",
       "    <tr>\n",
       "      <th>2</th>\n",
       "      <td></td>\n",
       "      <td>None</td>\n",
       "      <td>None</td>\n",
       "      <td>None</td>\n",
       "      <td>None</td>\n",
       "      <td>None</td>\n",
       "      <td>None</td>\n",
       "    </tr>\n",
       "    <tr>\n",
       "      <th>3</th>\n",
       "      <td></td>\n",
       "      <td>None</td>\n",
       "      <td>None</td>\n",
       "      <td>None</td>\n",
       "      <td>None</td>\n",
       "      <td>None</td>\n",
       "      <td>None</td>\n",
       "    </tr>\n",
       "    <tr>\n",
       "      <th>4</th>\n",
       "      <td></td>\n",
       "      <td>None</td>\n",
       "      <td>None</td>\n",
       "      <td>None</td>\n",
       "      <td>None</td>\n",
       "      <td>None</td>\n",
       "      <td>None</td>\n",
       "    </tr>\n",
       "    <tr>\n",
       "      <th>5</th>\n",
       "      <td></td>\n",
       "      <td>None</td>\n",
       "      <td>None</td>\n",
       "      <td>None</td>\n",
       "      <td>None</td>\n",
       "      <td>None</td>\n",
       "      <td>None</td>\n",
       "    </tr>\n",
       "    <tr>\n",
       "      <th>6</th>\n",
       "      <td></td>\n",
       "      <td>None</td>\n",
       "      <td>None</td>\n",
       "      <td>None</td>\n",
       "      <td>None</td>\n",
       "      <td>None</td>\n",
       "      <td>None</td>\n",
       "    </tr>\n",
       "    <tr>\n",
       "      <th>7</th>\n",
       "      <td></td>\n",
       "      <td>None</td>\n",
       "      <td>None</td>\n",
       "      <td>None</td>\n",
       "      <td>None</td>\n",
       "      <td>None</td>\n",
       "      <td>None</td>\n",
       "    </tr>\n",
       "    <tr>\n",
       "      <th>8</th>\n",
       "      <td></td>\n",
       "      <td>None</td>\n",
       "      <td>None</td>\n",
       "      <td>None</td>\n",
       "      <td>None</td>\n",
       "      <td>None</td>\n",
       "      <td>None</td>\n",
       "    </tr>\n",
       "    <tr>\n",
       "      <th>9</th>\n",
       "      <td></td>\n",
       "      <td>None</td>\n",
       "      <td>None</td>\n",
       "      <td>None</td>\n",
       "      <td>None</td>\n",
       "      <td>None</td>\n",
       "      <td>None</td>\n",
       "    </tr>\n",
       "  </tbody>\n",
       "</table>\n",
       "</div>"
      ],
      "text/plain": [
       "  userID firstName lastName gender location userAgent registration\n",
       "0             None     None   None     None      None         None\n",
       "1             None     None   None     None      None         None\n",
       "2             None     None   None     None      None         None\n",
       "3             None     None   None     None      None         None\n",
       "4             None     None   None     None      None         None\n",
       "5             None     None   None     None      None         None\n",
       "6             None     None   None     None      None         None\n",
       "7             None     None   None     None      None         None\n",
       "8             None     None   None     None      None         None\n",
       "9             None     None   None     None      None         None"
      ]
     },
     "execution_count": 19,
     "metadata": {},
     "output_type": "execute_result"
    }
   ],
   "source": [
    "spark.sql('''\n",
    "            SELECT userID, firstName, lastName, gender, location, userAgent, registration \n",
    "            FROM user_log_table\n",
    "            WHERE auth = \"Logged Out\"\n",
    "            LIMIT 10\n",
    "            '''\n",
    "         ).toPandas()"
   ]
  },
  {
   "cell_type": "markdown",
   "metadata": {},
   "source": [
    "Seems like guests and logged out users are very limited to interacting with the app, and the total of log rows match exactly with the missing values for fields such as firstName, lastName, gender, userAgent and location. We can also see that these authentication types have the userID field empty. Let's define churn:"
   ]
  },
  {
   "cell_type": "code",
   "execution_count": 20,
   "metadata": {},
   "outputs": [],
   "source": [
    "is_churn = spark.sql('''\n",
    "                    SELECT userID, SUM(isChurn) AS isChurn\n",
    "                    FROM (\n",
    "                        SELECT userID,\n",
    "                            CASE WHEN page = \"Cancellation Confirmation\" THEN 1 ELSE 0 END AS isChurn\n",
    "                        FROM user_log_table\n",
    "                        WHERE userID <> ''\n",
    "                        )\n",
    "                    GROUP BY 1\n",
    "                ''')"
   ]
  },
  {
   "cell_type": "code",
   "execution_count": 21,
   "metadata": {},
   "outputs": [
    {
     "data": {
      "text/html": [
       "<div>\n",
       "<style scoped>\n",
       "    .dataframe tbody tr th:only-of-type {\n",
       "        vertical-align: middle;\n",
       "    }\n",
       "\n",
       "    .dataframe tbody tr th {\n",
       "        vertical-align: top;\n",
       "    }\n",
       "\n",
       "    .dataframe thead th {\n",
       "        text-align: right;\n",
       "    }\n",
       "</style>\n",
       "<table border=\"1\" class=\"dataframe\">\n",
       "  <thead>\n",
       "    <tr style=\"text-align: right;\">\n",
       "      <th></th>\n",
       "      <th>userID</th>\n",
       "      <th>isChurn</th>\n",
       "    </tr>\n",
       "  </thead>\n",
       "  <tbody>\n",
       "    <tr>\n",
       "      <th>0</th>\n",
       "      <td>100010</td>\n",
       "      <td>0</td>\n",
       "    </tr>\n",
       "    <tr>\n",
       "      <th>1</th>\n",
       "      <td>200002</td>\n",
       "      <td>0</td>\n",
       "    </tr>\n",
       "    <tr>\n",
       "      <th>2</th>\n",
       "      <td>125</td>\n",
       "      <td>1</td>\n",
       "    </tr>\n",
       "    <tr>\n",
       "      <th>3</th>\n",
       "      <td>51</td>\n",
       "      <td>1</td>\n",
       "    </tr>\n",
       "    <tr>\n",
       "      <th>4</th>\n",
       "      <td>124</td>\n",
       "      <td>0</td>\n",
       "    </tr>\n",
       "  </tbody>\n",
       "</table>\n",
       "</div>"
      ],
      "text/plain": [
       "   userID  isChurn\n",
       "0  100010        0\n",
       "1  200002        0\n",
       "2     125        1\n",
       "3      51        1\n",
       "4     124        0"
      ]
     },
     "execution_count": 21,
     "metadata": {},
     "output_type": "execute_result"
    }
   ],
   "source": [
    "is_churn.toPandas().head()"
   ]
  },
  {
   "cell_type": "markdown",
   "metadata": {},
   "source": [
    "### Explore Data\n",
    "Let's do some exploratory data analysis to observe the behavior for users who stayed vs users who churned."
   ]
  },
  {
   "cell_type": "code",
   "execution_count": 22,
   "metadata": {},
   "outputs": [
    {
     "name": "stdout",
     "output_type": "stream",
     "text": [
      "+----------------------+\n",
      "|count(DISTINCT userID)|\n",
      "+----------------------+\n",
      "|                   226|\n",
      "+----------------------+\n",
      "\n"
     ]
    }
   ],
   "source": [
    "# Total of unique users\n",
    "spark.sql('''\n",
    "            SELECT COUNT(DISTINCT(userID)) \n",
    "            FROM user_log_table\n",
    "            '''\n",
    "         ).show()"
   ]
  },
  {
   "cell_type": "markdown",
   "metadata": {},
   "source": [
    "The userID field is empty for Guest users, and we can see that this type of user can't use the full services available. So we should clear the data set, dropping all records without userId and sessionId, since one identifies the user and the other is used by HTTP protocol to network communications, being this way extremely necessary to provide services for the logged users."
   ]
  },
  {
   "cell_type": "code",
   "execution_count": 23,
   "metadata": {},
   "outputs": [
    {
     "name": "stdout",
     "output_type": "stream",
     "text": [
      "+--------+\n",
      "|count(1)|\n",
      "+--------+\n",
      "|  286500|\n",
      "+--------+\n",
      "\n"
     ]
    }
   ],
   "source": [
    "# Total registers before cleaning\n",
    "spark.sql('''\n",
    "            SELECT COUNT(*) \n",
    "            FROM user_log_table\n",
    "            '''\n",
    "         ).show()"
   ]
  },
  {
   "cell_type": "code",
   "execution_count": 24,
   "metadata": {},
   "outputs": [
    {
     "name": "stdout",
     "output_type": "stream",
     "text": [
      "+--------+\n",
      "|count(1)|\n",
      "+--------+\n",
      "|  278154|\n",
      "+--------+\n",
      "\n"
     ]
    }
   ],
   "source": [
    "# Total registers after cleaning\n",
    "spark.sql('''\n",
    "            SELECT COUNT(*) \n",
    "            FROM user_log_table\n",
    "            WHERE userID <> ''\n",
    "            '''\n",
    "         ).show()"
   ]
  },
  {
   "cell_type": "code",
   "execution_count": 25,
   "metadata": {},
   "outputs": [],
   "source": [
    "valid_log = spark.sql('''\n",
    "                        SELECT * \n",
    "                        FROM user_log_table\n",
    "                        WHERE userID <> ''\n",
    "                        '''\n",
    "                     )\n",
    "valid_log.createOrReplaceTempView('clean_user_log_table')"
   ]
  },
  {
   "cell_type": "code",
   "execution_count": 26,
   "metadata": {},
   "outputs": [
    {
     "name": "stdout",
     "output_type": "stream",
     "text": [
      "+--------+\n",
      "|count(1)|\n",
      "+--------+\n",
      "|      52|\n",
      "+--------+\n",
      "\n"
     ]
    }
   ],
   "source": [
    "# How many users canceled the streaming music service in the period?\n",
    "is_churn.createOrReplaceTempView('churn_user_table')\n",
    "spark.sql('''\n",
    "            SELECT COUNT(*)\n",
    "            FROM churn_user_table\n",
    "            WHERE isChurn = 1\n",
    "            '''\n",
    "         ).show()"
   ]
  },
  {
   "cell_type": "code",
   "execution_count": 27,
   "metadata": {},
   "outputs": [
    {
     "name": "stdout",
     "output_type": "stream",
     "text": [
      "+--------+\n",
      "|count(1)|\n",
      "+--------+\n",
      "|     225|\n",
      "+--------+\n",
      "\n"
     ]
    }
   ],
   "source": [
    "# Total distinct users in the period\n",
    "spark.sql('''\n",
    "            SELECT COUNT(*)\n",
    "            FROM churn_user_table\n",
    "            '''\n",
    "         ).show()"
   ]
  },
  {
   "cell_type": "code",
   "execution_count": 28,
   "metadata": {},
   "outputs": [
    {
     "name": "stdout",
     "output_type": "stream",
     "text": [
      "+--------+\n",
      "|count(1)|\n",
      "+--------+\n",
      "|       5|\n",
      "+--------+\n",
      "\n"
     ]
    }
   ],
   "source": [
    "# Total new users in the period\n",
    "spark.sql('''\n",
    "            SELECT COUNT(*)\n",
    "            FROM user_log_table\n",
    "            WHERE page = \"Submit Registration\"\n",
    "            '''\n",
    "         ).show()"
   ]
  },
  {
   "cell_type": "markdown",
   "metadata": {},
   "source": [
    "Sparkify lost much more users per day than it gained in the period. Let's see this behavior across the days."
   ]
  },
  {
   "cell_type": "code",
   "execution_count": 29,
   "metadata": {},
   "outputs": [],
   "source": [
    "# Convert timestamp field in datetime\n",
    "user_log = user_log.withColumn('occurred_at', from_unixtime((col('ts')/1000), 'yyyy-MM-dd HH:mm:ss'))\n",
    "user_log.createOrReplaceTempView('user_log_table')\n",
    "\n",
    "new_x_churn = spark.sql('''\n",
    "            SELECT DATE_TRUNC(\"day\", occurred_at) AS day,\n",
    "                SUM(CASE WHEN page = \"Submit Registration\" THEN 1 ELSE 0 END) AS newUsers,\n",
    "                SUM(CASE WHEN page = \"Cancellation Confirmation\" THEN 1 ELSE 0 END) AS churnUsers\n",
    "            FROM user_log_table\n",
    "            GROUP BY 1\n",
    "            ORDER BY 1\n",
    "            '''\n",
    "         ).toPandas()"
   ]
  },
  {
   "cell_type": "code",
   "execution_count": 30,
   "metadata": {},
   "outputs": [
    {
     "data": {
      "image/png": "[encoded data removed]",
      "text/plain": [
       "<matplotlib.figure.Figure at 0x7f62bbd33a90>"
      ]
     },
     "metadata": {
      "needs_background": "light"
     },
     "output_type": "display_data"
    }
   ],
   "source": [
    "plt.plot(new_x_churn['day'], new_x_churn['churnUsers'], label = \"Churned users\")\n",
    "plt.plot(new_x_churn['day'], new_x_churn['newUsers'], label = \"New users\")\n",
    "plt.title('Gain x Loss')\n",
    "plt.ylabel('Number of users')\n",
    "plt.xticks(rotation=90)\n",
    "plt.legend()\n",
    "plt.show()"
   ]
  },
  {
   "cell_type": "code",
   "execution_count": 31,
   "metadata": {},
   "outputs": [],
   "source": [
    "# Convert timestamp field in datetime\n",
    "valid_log = valid_log.withColumn('occurred_at', from_unixtime((col('ts')/1000), 'yyyy-MM-dd HH:mm:ss'))\n",
    "valid_log.createOrReplaceTempView('clean_user_log_table')"
   ]
  },
  {
   "cell_type": "code",
   "execution_count": 32,
   "metadata": {},
   "outputs": [
    {
     "name": "stdout",
     "output_type": "stream",
     "text": [
      "+-------------------+-------------------+\n",
      "|   min(occurred_at)|   max(occurred_at)|\n",
      "+-------------------+-------------------+\n",
      "|2018-10-01 00:01:57|2018-12-03 01:11:16|\n",
      "+-------------------+-------------------+\n",
      "\n"
     ]
    }
   ],
   "source": [
    "# What period does the data cover?\n",
    "spark.sql('''\n",
    "            SELECT MIN(occurred_at), MAX(occurred_at)\n",
    "            FROM clean_user_log_table\n",
    "            '''\n",
    "         ).show()"
   ]
  },
  {
   "cell_type": "code",
   "execution_count": 33,
   "metadata": {},
   "outputs": [
    {
     "data": {
      "text/html": [
       "<div>\n",
       "<style scoped>\n",
       "    .dataframe tbody tr th:only-of-type {\n",
       "        vertical-align: middle;\n",
       "    }\n",
       "\n",
       "    .dataframe tbody tr th {\n",
       "        vertical-align: top;\n",
       "    }\n",
       "\n",
       "    .dataframe thead th {\n",
       "        text-align: right;\n",
       "    }\n",
       "</style>\n",
       "<table border=\"1\" class=\"dataframe\">\n",
       "  <thead>\n",
       "    <tr style=\"text-align: right;\">\n",
       "      <th></th>\n",
       "      <th>userID</th>\n",
       "      <th>firstName</th>\n",
       "      <th>sessionID</th>\n",
       "      <th>timestamp</th>\n",
       "      <th>gender</th>\n",
       "      <th>level</th>\n",
       "      <th>page</th>\n",
       "      <th>userAgent</th>\n",
       "    </tr>\n",
       "  </thead>\n",
       "  <tbody>\n",
       "    <tr>\n",
       "      <th>0</th>\n",
       "      <td>30</td>\n",
       "      <td>Colin</td>\n",
       "      <td>29</td>\n",
       "      <td>1538352117000</td>\n",
       "      <td>M</td>\n",
       "      <td>paid</td>\n",
       "      <td>NextSong</td>\n",
       "      <td>Mozilla/5.0 (Windows NT 6.1; WOW64; rv:31.0) G...</td>\n",
       "    </tr>\n",
       "    <tr>\n",
       "      <th>1</th>\n",
       "      <td>9</td>\n",
       "      <td>Micah</td>\n",
       "      <td>8</td>\n",
       "      <td>1538352180000</td>\n",
       "      <td>M</td>\n",
       "      <td>free</td>\n",
       "      <td>NextSong</td>\n",
       "      <td>\"Mozilla/5.0 (Windows NT 6.1; WOW64) AppleWebK...</td>\n",
       "    </tr>\n",
       "    <tr>\n",
       "      <th>2</th>\n",
       "      <td>30</td>\n",
       "      <td>Colin</td>\n",
       "      <td>29</td>\n",
       "      <td>1538352394000</td>\n",
       "      <td>M</td>\n",
       "      <td>paid</td>\n",
       "      <td>NextSong</td>\n",
       "      <td>Mozilla/5.0 (Windows NT 6.1; WOW64; rv:31.0) G...</td>\n",
       "    </tr>\n",
       "    <tr>\n",
       "      <th>3</th>\n",
       "      <td>9</td>\n",
       "      <td>Micah</td>\n",
       "      <td>8</td>\n",
       "      <td>1538352416000</td>\n",
       "      <td>M</td>\n",
       "      <td>free</td>\n",
       "      <td>NextSong</td>\n",
       "      <td>\"Mozilla/5.0 (Windows NT 6.1; WOW64) AppleWebK...</td>\n",
       "    </tr>\n",
       "    <tr>\n",
       "      <th>4</th>\n",
       "      <td>30</td>\n",
       "      <td>Colin</td>\n",
       "      <td>29</td>\n",
       "      <td>1538352676000</td>\n",
       "      <td>M</td>\n",
       "      <td>paid</td>\n",
       "      <td>NextSong</td>\n",
       "      <td>Mozilla/5.0 (Windows NT 6.1; WOW64; rv:31.0) G...</td>\n",
       "    </tr>\n",
       "    <tr>\n",
       "      <th>5</th>\n",
       "      <td>9</td>\n",
       "      <td>Micah</td>\n",
       "      <td>8</td>\n",
       "      <td>1538352678000</td>\n",
       "      <td>M</td>\n",
       "      <td>free</td>\n",
       "      <td>NextSong</td>\n",
       "      <td>\"Mozilla/5.0 (Windows NT 6.1; WOW64) AppleWebK...</td>\n",
       "    </tr>\n",
       "    <tr>\n",
       "      <th>6</th>\n",
       "      <td>9</td>\n",
       "      <td>Micah</td>\n",
       "      <td>8</td>\n",
       "      <td>1538352886000</td>\n",
       "      <td>M</td>\n",
       "      <td>free</td>\n",
       "      <td>NextSong</td>\n",
       "      <td>\"Mozilla/5.0 (Windows NT 6.1; WOW64) AppleWebK...</td>\n",
       "    </tr>\n",
       "    <tr>\n",
       "      <th>7</th>\n",
       "      <td>30</td>\n",
       "      <td>Colin</td>\n",
       "      <td>29</td>\n",
       "      <td>1538352899000</td>\n",
       "      <td>M</td>\n",
       "      <td>paid</td>\n",
       "      <td>NextSong</td>\n",
       "      <td>Mozilla/5.0 (Windows NT 6.1; WOW64; rv:31.0) G...</td>\n",
       "    </tr>\n",
       "    <tr>\n",
       "      <th>8</th>\n",
       "      <td>30</td>\n",
       "      <td>Colin</td>\n",
       "      <td>29</td>\n",
       "      <td>1538352905000</td>\n",
       "      <td>M</td>\n",
       "      <td>paid</td>\n",
       "      <td>Add to Playlist</td>\n",
       "      <td>Mozilla/5.0 (Windows NT 6.1; WOW64; rv:31.0) G...</td>\n",
       "    </tr>\n",
       "    <tr>\n",
       "      <th>9</th>\n",
       "      <td>30</td>\n",
       "      <td>Colin</td>\n",
       "      <td>29</td>\n",
       "      <td>1538353084000</td>\n",
       "      <td>M</td>\n",
       "      <td>paid</td>\n",
       "      <td>NextSong</td>\n",
       "      <td>Mozilla/5.0 (Windows NT 6.1; WOW64; rv:31.0) G...</td>\n",
       "    </tr>\n",
       "    <tr>\n",
       "      <th>10</th>\n",
       "      <td>9</td>\n",
       "      <td>Micah</td>\n",
       "      <td>8</td>\n",
       "      <td>1538353146000</td>\n",
       "      <td>M</td>\n",
       "      <td>free</td>\n",
       "      <td>NextSong</td>\n",
       "      <td>\"Mozilla/5.0 (Windows NT 6.1; WOW64) AppleWebK...</td>\n",
       "    </tr>\n",
       "    <tr>\n",
       "      <th>11</th>\n",
       "      <td>9</td>\n",
       "      <td>Micah</td>\n",
       "      <td>8</td>\n",
       "      <td>1538353150000</td>\n",
       "      <td>M</td>\n",
       "      <td>free</td>\n",
       "      <td>Roll Advert</td>\n",
       "      <td>\"Mozilla/5.0 (Windows NT 6.1; WOW64) AppleWebK...</td>\n",
       "    </tr>\n",
       "    <tr>\n",
       "      <th>12</th>\n",
       "      <td>30</td>\n",
       "      <td>Colin</td>\n",
       "      <td>29</td>\n",
       "      <td>1538353218000</td>\n",
       "      <td>M</td>\n",
       "      <td>paid</td>\n",
       "      <td>NextSong</td>\n",
       "      <td>Mozilla/5.0 (Windows NT 6.1; WOW64; rv:31.0) G...</td>\n",
       "    </tr>\n",
       "    <tr>\n",
       "      <th>13</th>\n",
       "      <td>9</td>\n",
       "      <td>Micah</td>\n",
       "      <td>8</td>\n",
       "      <td>1538353375000</td>\n",
       "      <td>M</td>\n",
       "      <td>free</td>\n",
       "      <td>NextSong</td>\n",
       "      <td>\"Mozilla/5.0 (Windows NT 6.1; WOW64) AppleWebK...</td>\n",
       "    </tr>\n",
       "    <tr>\n",
       "      <th>14</th>\n",
       "      <td>9</td>\n",
       "      <td>Micah</td>\n",
       "      <td>8</td>\n",
       "      <td>1538353376000</td>\n",
       "      <td>M</td>\n",
       "      <td>free</td>\n",
       "      <td>Thumbs Up</td>\n",
       "      <td>\"Mozilla/5.0 (Windows NT 6.1; WOW64) AppleWebK...</td>\n",
       "    </tr>\n",
       "    <tr>\n",
       "      <th>15</th>\n",
       "      <td>30</td>\n",
       "      <td>Colin</td>\n",
       "      <td>29</td>\n",
       "      <td>1538353441000</td>\n",
       "      <td>M</td>\n",
       "      <td>paid</td>\n",
       "      <td>NextSong</td>\n",
       "      <td>Mozilla/5.0 (Windows NT 6.1; WOW64; rv:31.0) G...</td>\n",
       "    </tr>\n",
       "    <tr>\n",
       "      <th>16</th>\n",
       "      <td>9</td>\n",
       "      <td>Micah</td>\n",
       "      <td>8</td>\n",
       "      <td>1538353576000</td>\n",
       "      <td>M</td>\n",
       "      <td>free</td>\n",
       "      <td>NextSong</td>\n",
       "      <td>\"Mozilla/5.0 (Windows NT 6.1; WOW64) AppleWebK...</td>\n",
       "    </tr>\n",
       "    <tr>\n",
       "      <th>17</th>\n",
       "      <td>74</td>\n",
       "      <td>Ashlynn</td>\n",
       "      <td>217</td>\n",
       "      <td>1538353668000</td>\n",
       "      <td>F</td>\n",
       "      <td>free</td>\n",
       "      <td>NextSong</td>\n",
       "      <td>\"Mozilla/5.0 (Macintosh; Intel Mac OS X 10_9_4...</td>\n",
       "    </tr>\n",
       "    <tr>\n",
       "      <th>18</th>\n",
       "      <td>30</td>\n",
       "      <td>Colin</td>\n",
       "      <td>29</td>\n",
       "      <td>1538353687000</td>\n",
       "      <td>M</td>\n",
       "      <td>paid</td>\n",
       "      <td>NextSong</td>\n",
       "      <td>Mozilla/5.0 (Windows NT 6.1; WOW64; rv:31.0) G...</td>\n",
       "    </tr>\n",
       "    <tr>\n",
       "      <th>19</th>\n",
       "      <td>9</td>\n",
       "      <td>Micah</td>\n",
       "      <td>8</td>\n",
       "      <td>1538353744000</td>\n",
       "      <td>M</td>\n",
       "      <td>free</td>\n",
       "      <td>NextSong</td>\n",
       "      <td>\"Mozilla/5.0 (Windows NT 6.1; WOW64) AppleWebK...</td>\n",
       "    </tr>\n",
       "    <tr>\n",
       "      <th>20</th>\n",
       "      <td>74</td>\n",
       "      <td>Ashlynn</td>\n",
       "      <td>217</td>\n",
       "      <td>1538353834000</td>\n",
       "      <td>F</td>\n",
       "      <td>free</td>\n",
       "      <td>NextSong</td>\n",
       "      <td>\"Mozilla/5.0 (Macintosh; Intel Mac OS X 10_9_4...</td>\n",
       "    </tr>\n",
       "    <tr>\n",
       "      <th>21</th>\n",
       "      <td>30</td>\n",
       "      <td>Colin</td>\n",
       "      <td>29</td>\n",
       "      <td>1538353909000</td>\n",
       "      <td>M</td>\n",
       "      <td>paid</td>\n",
       "      <td>NextSong</td>\n",
       "      <td>Mozilla/5.0 (Windows NT 6.1; WOW64; rv:31.0) G...</td>\n",
       "    </tr>\n",
       "    <tr>\n",
       "      <th>22</th>\n",
       "      <td>54</td>\n",
       "      <td>Alexi</td>\n",
       "      <td>53</td>\n",
       "      <td>1538353930000</td>\n",
       "      <td>F</td>\n",
       "      <td>paid</td>\n",
       "      <td>NextSong</td>\n",
       "      <td>Mozilla/5.0 (Windows NT 6.1; WOW64; rv:32.0) G...</td>\n",
       "    </tr>\n",
       "    <tr>\n",
       "      <th>23</th>\n",
       "      <td>9</td>\n",
       "      <td>Micah</td>\n",
       "      <td>8</td>\n",
       "      <td>1538353973000</td>\n",
       "      <td>M</td>\n",
       "      <td>free</td>\n",
       "      <td>NextSong</td>\n",
       "      <td>\"Mozilla/5.0 (Windows NT 6.1; WOW64) AppleWebK...</td>\n",
       "    </tr>\n",
       "    <tr>\n",
       "      <th>24</th>\n",
       "      <td>74</td>\n",
       "      <td>Ashlynn</td>\n",
       "      <td>217</td>\n",
       "      <td>1538354117000</td>\n",
       "      <td>F</td>\n",
       "      <td>free</td>\n",
       "      <td>NextSong</td>\n",
       "      <td>\"Mozilla/5.0 (Macintosh; Intel Mac OS X 10_9_4...</td>\n",
       "    </tr>\n",
       "    <tr>\n",
       "      <th>25</th>\n",
       "      <td>30</td>\n",
       "      <td>Colin</td>\n",
       "      <td>29</td>\n",
       "      <td>1538354132000</td>\n",
       "      <td>M</td>\n",
       "      <td>paid</td>\n",
       "      <td>NextSong</td>\n",
       "      <td>Mozilla/5.0 (Windows NT 6.1; WOW64; rv:31.0) G...</td>\n",
       "    </tr>\n",
       "    <tr>\n",
       "      <th>26</th>\n",
       "      <td>54</td>\n",
       "      <td>Alexi</td>\n",
       "      <td>53</td>\n",
       "      <td>1538354180000</td>\n",
       "      <td>F</td>\n",
       "      <td>paid</td>\n",
       "      <td>NextSong</td>\n",
       "      <td>Mozilla/5.0 (Windows NT 6.1; WOW64; rv:32.0) G...</td>\n",
       "    </tr>\n",
       "    <tr>\n",
       "      <th>27</th>\n",
       "      <td>9</td>\n",
       "      <td>Micah</td>\n",
       "      <td>8</td>\n",
       "      <td>1538354204000</td>\n",
       "      <td>M</td>\n",
       "      <td>free</td>\n",
       "      <td>NextSong</td>\n",
       "      <td>\"Mozilla/5.0 (Windows NT 6.1; WOW64) AppleWebK...</td>\n",
       "    </tr>\n",
       "    <tr>\n",
       "      <th>28</th>\n",
       "      <td>74</td>\n",
       "      <td>Ashlynn</td>\n",
       "      <td>217</td>\n",
       "      <td>1538354291000</td>\n",
       "      <td>F</td>\n",
       "      <td>free</td>\n",
       "      <td>NextSong</td>\n",
       "      <td>\"Mozilla/5.0 (Macintosh; Intel Mac OS X 10_9_4...</td>\n",
       "    </tr>\n",
       "    <tr>\n",
       "      <th>29</th>\n",
       "      <td>30</td>\n",
       "      <td>Colin</td>\n",
       "      <td>29</td>\n",
       "      <td>1538354365000</td>\n",
       "      <td>M</td>\n",
       "      <td>paid</td>\n",
       "      <td>NextSong</td>\n",
       "      <td>Mozilla/5.0 (Windows NT 6.1; WOW64; rv:31.0) G...</td>\n",
       "    </tr>\n",
       "  </tbody>\n",
       "</table>\n",
       "</div>"
      ],
      "text/plain": [
       "   userID firstName  sessionID      timestamp gender level             page  \\\n",
       "0      30     Colin         29  1538352117000      M  paid         NextSong   \n",
       "1       9     Micah          8  1538352180000      M  free         NextSong   \n",
       "2      30     Colin         29  1538352394000      M  paid         NextSong   \n",
       "3       9     Micah          8  1538352416000      M  free         NextSong   \n",
       "4      30     Colin         29  1538352676000      M  paid         NextSong   \n",
       "5       9     Micah          8  1538352678000      M  free         NextSong   \n",
       "6       9     Micah          8  1538352886000      M  free         NextSong   \n",
       "7      30     Colin         29  1538352899000      M  paid         NextSong   \n",
       "8      30     Colin         29  1538352905000      M  paid  Add to Playlist   \n",
       "9      30     Colin         29  1538353084000      M  paid         NextSong   \n",
       "10      9     Micah          8  1538353146000      M  free         NextSong   \n",
       "11      9     Micah          8  1538353150000      M  free      Roll Advert   \n",
       "12     30     Colin         29  1538353218000      M  paid         NextSong   \n",
       "13      9     Micah          8  1538353375000      M  free         NextSong   \n",
       "14      9     Micah          8  1538353376000      M  free        Thumbs Up   \n",
       "15     30     Colin         29  1538353441000      M  paid         NextSong   \n",
       "16      9     Micah          8  1538353576000      M  free         NextSong   \n",
       "17     74   Ashlynn        217  1538353668000      F  free         NextSong   \n",
       "18     30     Colin         29  1538353687000      M  paid         NextSong   \n",
       "19      9     Micah          8  1538353744000      M  free         NextSong   \n",
       "20     74   Ashlynn        217  1538353834000      F  free         NextSong   \n",
       "21     30     Colin         29  1538353909000      M  paid         NextSong   \n",
       "22     54     Alexi         53  1538353930000      F  paid         NextSong   \n",
       "23      9     Micah          8  1538353973000      M  free         NextSong   \n",
       "24     74   Ashlynn        217  1538354117000      F  free         NextSong   \n",
       "25     30     Colin         29  1538354132000      M  paid         NextSong   \n",
       "26     54     Alexi         53  1538354180000      F  paid         NextSong   \n",
       "27      9     Micah          8  1538354204000      M  free         NextSong   \n",
       "28     74   Ashlynn        217  1538354291000      F  free         NextSong   \n",
       "29     30     Colin         29  1538354365000      M  paid         NextSong   \n",
       "\n",
       "                                            userAgent  \n",
       "0   Mozilla/5.0 (Windows NT 6.1; WOW64; rv:31.0) G...  \n",
       "1   \"Mozilla/5.0 (Windows NT 6.1; WOW64) AppleWebK...  \n",
       "2   Mozilla/5.0 (Windows NT 6.1; WOW64; rv:31.0) G...  \n",
       "3   \"Mozilla/5.0 (Windows NT 6.1; WOW64) AppleWebK...  \n",
       "4   Mozilla/5.0 (Windows NT 6.1; WOW64; rv:31.0) G...  \n",
       "5   \"Mozilla/5.0 (Windows NT 6.1; WOW64) AppleWebK...  \n",
       "6   \"Mozilla/5.0 (Windows NT 6.1; WOW64) AppleWebK...  \n",
       "7   Mozilla/5.0 (Windows NT 6.1; WOW64; rv:31.0) G...  \n",
       "8   Mozilla/5.0 (Windows NT 6.1; WOW64; rv:31.0) G...  \n",
       "9   Mozilla/5.0 (Windows NT 6.1; WOW64; rv:31.0) G...  \n",
       "10  \"Mozilla/5.0 (Windows NT 6.1; WOW64) AppleWebK...  \n",
       "11  \"Mozilla/5.0 (Windows NT 6.1; WOW64) AppleWebK...  \n",
       "12  Mozilla/5.0 (Windows NT 6.1; WOW64; rv:31.0) G...  \n",
       "13  \"Mozilla/5.0 (Windows NT 6.1; WOW64) AppleWebK...  \n",
       "14  \"Mozilla/5.0 (Windows NT 6.1; WOW64) AppleWebK...  \n",
       "15  Mozilla/5.0 (Windows NT 6.1; WOW64; rv:31.0) G...  \n",
       "16  \"Mozilla/5.0 (Windows NT 6.1; WOW64) AppleWebK...  \n",
       "17  \"Mozilla/5.0 (Macintosh; Intel Mac OS X 10_9_4...  \n",
       "18  Mozilla/5.0 (Windows NT 6.1; WOW64; rv:31.0) G...  \n",
       "19  \"Mozilla/5.0 (Windows NT 6.1; WOW64) AppleWebK...  \n",
       "20  \"Mozilla/5.0 (Macintosh; Intel Mac OS X 10_9_4...  \n",
       "21  Mozilla/5.0 (Windows NT 6.1; WOW64; rv:31.0) G...  \n",
       "22  Mozilla/5.0 (Windows NT 6.1; WOW64; rv:32.0) G...  \n",
       "23  \"Mozilla/5.0 (Windows NT 6.1; WOW64) AppleWebK...  \n",
       "24  \"Mozilla/5.0 (Macintosh; Intel Mac OS X 10_9_4...  \n",
       "25  Mozilla/5.0 (Windows NT 6.1; WOW64; rv:31.0) G...  \n",
       "26  Mozilla/5.0 (Windows NT 6.1; WOW64; rv:32.0) G...  \n",
       "27  \"Mozilla/5.0 (Windows NT 6.1; WOW64) AppleWebK...  \n",
       "28  \"Mozilla/5.0 (Macintosh; Intel Mac OS X 10_9_4...  \n",
       "29  Mozilla/5.0 (Windows NT 6.1; WOW64; rv:31.0) G...  "
      ]
     },
     "execution_count": 33,
     "metadata": {},
     "output_type": "execute_result"
    }
   ],
   "source": [
    "spark.sql('''\n",
    "            SELECT userID, firstName, sessionID, ts as timestamp, gender, level, page, userAgent\n",
    "            FROM clean_user_log_table\n",
    "            LIMIT 30\n",
    "            ''').toPandas()"
   ]
  },
  {
   "cell_type": "code",
   "execution_count": 34,
   "metadata": {},
   "outputs": [
    {
     "name": "stdout",
     "output_type": "stream",
     "text": [
      "+-----+\n",
      "|level|\n",
      "+-----+\n",
      "| free|\n",
      "| paid|\n",
      "+-----+\n",
      "\n"
     ]
    }
   ],
   "source": [
    "spark.sql('''\n",
    "            SELECT DISTINCT level\n",
    "            FROM clean_user_log_table\n",
    "            '''\n",
    "         ).show()"
   ]
  },
  {
   "cell_type": "markdown",
   "metadata": {},
   "source": [
    "How many active free and paid users do we have by day? Did the amount of paid users grow across the time?"
   ]
  },
  {
   "cell_type": "code",
   "execution_count": 35,
   "metadata": {},
   "outputs": [],
   "source": [
    "paid_users = spark.sql('''\n",
    "            SELECT DATE_TRUNC(\"day\", occurred_at) AS day,\n",
    "                COUNT(DISTINCT userID) AS paidUsers\n",
    "            FROM clean_user_log_table\n",
    "            WHERE level = \"paid\"\n",
    "            GROUP BY 1\n",
    "            ORDER BY 1\n",
    "            '''\n",
    "         ).toPandas()\n",
    "\n",
    "free_users = spark.sql('''\n",
    "            SELECT DATE_TRUNC(\"day\", occurred_at) AS day,\n",
    "                COUNT(DISTINCT userID) AS freeUsers\n",
    "            FROM clean_user_log_table\n",
    "            WHERE level = \"free\"\n",
    "            GROUP BY 1\n",
    "            ORDER BY 1\n",
    "            '''\n",
    "         ).toPandas()"
   ]
  },
  {
   "cell_type": "code",
   "execution_count": 36,
   "metadata": {},
   "outputs": [
    {
     "data": {
      "image/png": "[encoded data removed]",
      "text/plain": [
       "<matplotlib.figure.Figure at 0x7f62b9c5a860>"
      ]
     },
     "metadata": {
      "needs_background": "light"
     },
     "output_type": "display_data"
    }
   ],
   "source": [
    "# plotting the curves for active users in the app for free and paid ones by each day\n",
    "plt.plot(paid_users['day'], paid_users['paidUsers'], label = \"Paid users\")\n",
    "plt.plot(free_users['day'], free_users['freeUsers'], label = \"Free users\")\n",
    "plt.title('Active users by day for level')\n",
    "plt.ylabel('Active users')\n",
    "plt.xticks(rotation=90)\n",
    "plt.legend()\n",
    "plt.show()"
   ]
  },
  {
   "cell_type": "markdown",
   "metadata": {},
   "source": [
    "The number of active free users declines over time in the app. Could these free users be becoming paid users?"
   ]
  },
  {
   "cell_type": "code",
   "execution_count": 37,
   "metadata": {},
   "outputs": [],
   "source": [
    "upgrade_amt = spark.sql('''\n",
    "            SELECT DATE_TRUNC('day', occurred_at) AS day,\n",
    "                COUNT(DISTINCT userID) AS upgrade_amt\n",
    "            FROM clean_user_log_table\n",
    "            WHERE page = \"Submit Upgrade\"\n",
    "            GROUP BY 1\n",
    "            ORDER BY 1\n",
    "            '''\n",
    "         ).toPandas()\n",
    "\n",
    "downgrade_amt = spark.sql('''\n",
    "            SELECT DATE_TRUNC('day', occurred_at) AS day,\n",
    "                COUNT(DISTINCT userID) AS downgrade_amt\n",
    "            FROM clean_user_log_table\n",
    "            WHERE page = \"Submit Downgrade\"\n",
    "            GROUP BY 1\n",
    "            ORDER BY 1\n",
    "            '''\n",
    "         ).toPandas()"
   ]
  },
  {
   "cell_type": "code",
   "execution_count": 38,
   "metadata": {},
   "outputs": [
    {
     "data": {
      "image/png": "[encoded data removed]",
      "text/plain": [
       "<matplotlib.figure.Figure at 0x7f62b9bb5eb8>"
      ]
     },
     "metadata": {
      "needs_background": "light"
     },
     "output_type": "display_data"
    }
   ],
   "source": [
    "# plotting the curves for upgrade and downgrade plans by each day\n",
    "plt.plot(upgrade_amt['day'], upgrade_amt['upgrade_amt'], label = \"Upgrades amount\")\n",
    "plt.plot(downgrade_amt['day'], downgrade_amt['downgrade_amt'], label = \"Downgrades amount\")\n",
    "plt.title('Changing plans by day')\n",
    "plt.ylabel('Users who changed plans')\n",
    "plt.xticks(rotation=90)\n",
    "plt.legend()\n",
    "plt.show()"
   ]
  },
  {
   "cell_type": "markdown",
   "metadata": {},
   "source": [
    "The number of plans upgraded  by day is very expressive until near October 29, which explains the higher number of paid users compared to free ones close to this date and beyond (showed in the previous plot). The number of upgrades is much higher than the downgrades, which is great too. Considering the two groups we have: users who canceled the streaming music service and users who stayed. How many of the users are free and paid by each of these groups?"
   ]
  },
  {
   "cell_type": "code",
   "execution_count": 39,
   "metadata": {},
   "outputs": [],
   "source": [
    "level_churn = spark.sql('''\n",
    "            SELECT DISTINCT(a.userID), b.lastAccess, a.level, c.isChurn\n",
    "            FROM clean_user_log_table AS a\n",
    "            RIGHT JOIN (\n",
    "                SELECT userID,\n",
    "                    MAX(occurred_at) lastAccess\n",
    "                FROM clean_user_log_table\n",
    "                GROUP BY 1\n",
    "            ) AS b\n",
    "            ON a.userID = b.userID AND a.occurred_at = b.lastAccess\n",
    "            JOIN churn_user_table c\n",
    "            ON c.userID = a.userID\n",
    "            ORDER BY 1\n",
    "            '''\n",
    "         )"
   ]
  },
  {
   "cell_type": "code",
   "execution_count": 40,
   "metadata": {},
   "outputs": [
    {
     "data": {
      "text/html": [
       "<div>\n",
       "<style scoped>\n",
       "    .dataframe tbody tr th:only-of-type {\n",
       "        vertical-align: middle;\n",
       "    }\n",
       "\n",
       "    .dataframe tbody tr th {\n",
       "        vertical-align: top;\n",
       "    }\n",
       "\n",
       "    .dataframe thead th {\n",
       "        text-align: right;\n",
       "    }\n",
       "</style>\n",
       "<table border=\"1\" class=\"dataframe\">\n",
       "  <thead>\n",
       "    <tr style=\"text-align: right;\">\n",
       "      <th></th>\n",
       "      <th>userID</th>\n",
       "      <th>lastAccess</th>\n",
       "      <th>level</th>\n",
       "      <th>isChurn</th>\n",
       "    </tr>\n",
       "  </thead>\n",
       "  <tbody>\n",
       "    <tr>\n",
       "      <th>0</th>\n",
       "      <td>10</td>\n",
       "      <td>2018-11-19 12:49:48</td>\n",
       "      <td>paid</td>\n",
       "      <td>0</td>\n",
       "    </tr>\n",
       "    <tr>\n",
       "      <th>1</th>\n",
       "      <td>100</td>\n",
       "      <td>2018-11-30 14:15:49</td>\n",
       "      <td>paid</td>\n",
       "      <td>0</td>\n",
       "    </tr>\n",
       "    <tr>\n",
       "      <th>2</th>\n",
       "      <td>100001</td>\n",
       "      <td>2018-10-02 16:36:45</td>\n",
       "      <td>free</td>\n",
       "      <td>1</td>\n",
       "    </tr>\n",
       "    <tr>\n",
       "      <th>3</th>\n",
       "      <td>100002</td>\n",
       "      <td>2018-12-03 01:11:16</td>\n",
       "      <td>paid</td>\n",
       "      <td>0</td>\n",
       "    </tr>\n",
       "    <tr>\n",
       "      <th>4</th>\n",
       "      <td>100003</td>\n",
       "      <td>2018-10-11 16:19:41</td>\n",
       "      <td>free</td>\n",
       "      <td>1</td>\n",
       "    </tr>\n",
       "    <tr>\n",
       "      <th>5</th>\n",
       "      <td>100004</td>\n",
       "      <td>2018-11-29 02:37:45</td>\n",
       "      <td>paid</td>\n",
       "      <td>0</td>\n",
       "    </tr>\n",
       "    <tr>\n",
       "      <th>6</th>\n",
       "      <td>100005</td>\n",
       "      <td>2018-10-19 17:57:05</td>\n",
       "      <td>free</td>\n",
       "      <td>1</td>\n",
       "    </tr>\n",
       "    <tr>\n",
       "      <th>7</th>\n",
       "      <td>100006</td>\n",
       "      <td>2018-10-05 15:24:30</td>\n",
       "      <td>free</td>\n",
       "      <td>1</td>\n",
       "    </tr>\n",
       "    <tr>\n",
       "      <th>8</th>\n",
       "      <td>100007</td>\n",
       "      <td>2018-11-29 11:45:09</td>\n",
       "      <td>paid</td>\n",
       "      <td>1</td>\n",
       "    </tr>\n",
       "    <tr>\n",
       "      <th>9</th>\n",
       "      <td>100008</td>\n",
       "      <td>2018-11-27 16:13:39</td>\n",
       "      <td>free</td>\n",
       "      <td>0</td>\n",
       "    </tr>\n",
       "    <tr>\n",
       "      <th>10</th>\n",
       "      <td>100009</td>\n",
       "      <td>2018-10-27 03:31:44</td>\n",
       "      <td>free</td>\n",
       "      <td>1</td>\n",
       "    </tr>\n",
       "    <tr>\n",
       "      <th>11</th>\n",
       "      <td>100010</td>\n",
       "      <td>2018-11-21 18:12:32</td>\n",
       "      <td>free</td>\n",
       "      <td>0</td>\n",
       "    </tr>\n",
       "    <tr>\n",
       "      <th>12</th>\n",
       "      <td>100011</td>\n",
       "      <td>2018-10-01 18:04:45</td>\n",
       "      <td>free</td>\n",
       "      <td>1</td>\n",
       "    </tr>\n",
       "    <tr>\n",
       "      <th>13</th>\n",
       "      <td>100012</td>\n",
       "      <td>2018-11-01 19:35:00</td>\n",
       "      <td>free</td>\n",
       "      <td>1</td>\n",
       "    </tr>\n",
       "    <tr>\n",
       "      <th>14</th>\n",
       "      <td>100013</td>\n",
       "      <td>2018-11-02 18:53:36</td>\n",
       "      <td>paid</td>\n",
       "      <td>1</td>\n",
       "    </tr>\n",
       "    <tr>\n",
       "      <th>15</th>\n",
       "      <td>100014</td>\n",
       "      <td>2018-11-20 19:04:09</td>\n",
       "      <td>paid</td>\n",
       "      <td>1</td>\n",
       "    </tr>\n",
       "    <tr>\n",
       "      <th>16</th>\n",
       "      <td>100015</td>\n",
       "      <td>2018-11-24 15:35:53</td>\n",
       "      <td>paid</td>\n",
       "      <td>1</td>\n",
       "    </tr>\n",
       "    <tr>\n",
       "      <th>17</th>\n",
       "      <td>100016</td>\n",
       "      <td>2018-11-27 16:20:47</td>\n",
       "      <td>free</td>\n",
       "      <td>0</td>\n",
       "    </tr>\n",
       "    <tr>\n",
       "      <th>18</th>\n",
       "      <td>100017</td>\n",
       "      <td>2018-10-20 19:14:07</td>\n",
       "      <td>free</td>\n",
       "      <td>1</td>\n",
       "    </tr>\n",
       "    <tr>\n",
       "      <th>19</th>\n",
       "      <td>100018</td>\n",
       "      <td>2018-11-28 04:12:40</td>\n",
       "      <td>free</td>\n",
       "      <td>0</td>\n",
       "    </tr>\n",
       "  </tbody>\n",
       "</table>\n",
       "</div>"
      ],
      "text/plain": [
       "    userID           lastAccess level  isChurn\n",
       "0       10  2018-11-19 12:49:48  paid        0\n",
       "1      100  2018-11-30 14:15:49  paid        0\n",
       "2   100001  2018-10-02 16:36:45  free        1\n",
       "3   100002  2018-12-03 01:11:16  paid        0\n",
       "4   100003  2018-10-11 16:19:41  free        1\n",
       "5   100004  2018-11-29 02:37:45  paid        0\n",
       "6   100005  2018-10-19 17:57:05  free        1\n",
       "7   100006  2018-10-05 15:24:30  free        1\n",
       "8   100007  2018-11-29 11:45:09  paid        1\n",
       "9   100008  2018-11-27 16:13:39  free        0\n",
       "10  100009  2018-10-27 03:31:44  free        1\n",
       "11  100010  2018-11-21 18:12:32  free        0\n",
       "12  100011  2018-10-01 18:04:45  free        1\n",
       "13  100012  2018-11-01 19:35:00  free        1\n",
       "14  100013  2018-11-02 18:53:36  paid        1\n",
       "15  100014  2018-11-20 19:04:09  paid        1\n",
       "16  100015  2018-11-24 15:35:53  paid        1\n",
       "17  100016  2018-11-27 16:20:47  free        0\n",
       "18  100017  2018-10-20 19:14:07  free        1\n",
       "19  100018  2018-11-28 04:12:40  free        0"
      ]
     },
     "execution_count": 40,
     "metadata": {},
     "output_type": "execute_result"
    }
   ],
   "source": [
    "level_churn.toPandas().head(20)"
   ]
  },
  {
   "cell_type": "code",
   "execution_count": 41,
   "metadata": {},
   "outputs": [
    {
     "data": {
      "text/html": [
       "<div>\n",
       "<style scoped>\n",
       "    .dataframe tbody tr th:only-of-type {\n",
       "        vertical-align: middle;\n",
       "    }\n",
       "\n",
       "    .dataframe tbody tr th {\n",
       "        vertical-align: top;\n",
       "    }\n",
       "\n",
       "    .dataframe thead th {\n",
       "        text-align: right;\n",
       "    }\n",
       "</style>\n",
       "<table border=\"1\" class=\"dataframe\">\n",
       "  <thead>\n",
       "    <tr style=\"text-align: right;\">\n",
       "      <th></th>\n",
       "      <th>isChurn</th>\n",
       "      <th>paid</th>\n",
       "      <th>free</th>\n",
       "    </tr>\n",
       "  </thead>\n",
       "  <tbody>\n",
       "    <tr>\n",
       "      <th>0</th>\n",
       "      <td>0</td>\n",
       "      <td>114</td>\n",
       "      <td>59</td>\n",
       "    </tr>\n",
       "    <tr>\n",
       "      <th>1</th>\n",
       "      <td>1</td>\n",
       "      <td>31</td>\n",
       "      <td>21</td>\n",
       "    </tr>\n",
       "  </tbody>\n",
       "</table>\n",
       "</div>"
      ],
      "text/plain": [
       "   isChurn  paid  free\n",
       "0        0   114    59\n",
       "1        1    31    21"
      ]
     },
     "execution_count": 41,
     "metadata": {},
     "output_type": "execute_result"
    }
   ],
   "source": [
    "# Counting how many users paid and free are in the two groups?\n",
    "level_churn.createOrReplaceTempView('level_churn_table')\n",
    "level_df = spark.sql('''\n",
    "            SELECT isChurn, SUM(paid) AS paid, SUM(free) as free\n",
    "            FROM (\n",
    "                SELECT userID, isChurn,\n",
    "                        (CASE WHEN level = \"paid\" THEN 1 ELSE 0 END) AS paid,                    \n",
    "                        (CASE WHEN level = \"free\" THEN 1 ELSE 0 END) AS free\n",
    "                FROM level_churn_table)\n",
    "            GROUP BY 1\n",
    "            '''\n",
    "         ).toPandas()\n",
    "level_df"
   ]
  },
  {
   "cell_type": "code",
   "execution_count": 42,
   "metadata": {},
   "outputs": [
    {
     "data": {
      "text/html": [
       "<div>\n",
       "<style scoped>\n",
       "    .dataframe tbody tr th:only-of-type {\n",
       "        vertical-align: middle;\n",
       "    }\n",
       "\n",
       "    .dataframe tbody tr th {\n",
       "        vertical-align: top;\n",
       "    }\n",
       "\n",
       "    .dataframe thead th {\n",
       "        text-align: right;\n",
       "    }\n",
       "</style>\n",
       "<table border=\"1\" class=\"dataframe\">\n",
       "  <thead>\n",
       "    <tr style=\"text-align: right;\">\n",
       "      <th></th>\n",
       "      <th>paid</th>\n",
       "      <th>free</th>\n",
       "    </tr>\n",
       "  </thead>\n",
       "  <tbody>\n",
       "    <tr>\n",
       "      <th>Stayed</th>\n",
       "      <td>78.62069</td>\n",
       "      <td>73.75</td>\n",
       "    </tr>\n",
       "    <tr>\n",
       "      <th>Churned</th>\n",
       "      <td>21.37931</td>\n",
       "      <td>26.25</td>\n",
       "    </tr>\n",
       "  </tbody>\n",
       "</table>\n",
       "</div>"
      ],
      "text/plain": [
       "             paid   free\n",
       "Stayed   78.62069  73.75\n",
       "Churned  21.37931  26.25"
      ]
     },
     "execution_count": 42,
     "metadata": {},
     "output_type": "execute_result"
    }
   ],
   "source": [
    "# Converting theses values in percentage\n",
    "level_df['paid'] = level_df['paid'] * 100 / np.sum(level_df['paid'])\n",
    "level_df['free'] = level_df['free'] * 100 / np.sum(level_df['free'])\n",
    "level_df.drop('isChurn', axis=1, inplace=True)\n",
    "level_df.set_index(pd.Index(['Stayed', 'Churned']), inplace=True)\n",
    "level_df"
   ]
  },
  {
   "cell_type": "code",
   "execution_count": 43,
   "metadata": {},
   "outputs": [
    {
     "data": {
      "image/png": "[encoded data removed]",
      "text/plain": [
       "<matplotlib.figure.Figure at 0x7f62b9b66c88>"
      ]
     },
     "metadata": {
      "needs_background": "light"
     },
     "output_type": "display_data"
    }
   ],
   "source": [
    "level_df.transpose().plot(kind='bar', title='Distribution by level')\n",
    "plt.ylabel('Tier Proportion (in %)');"
   ]
  },
  {
   "cell_type": "markdown",
   "metadata": {},
   "source": [
    "# Feature Engineering\n",
    "\n",
    "Let’s try out some measures to understand how the behaviour of users is, and add some of them to our data model. First, we can see that free users are a bit more susceptible to churn than paid ones. Could the advertising average by session be related to it? First, let's use this feature in our data model!"
   ]
  },
  {
   "cell_type": "code",
   "execution_count": 44,
   "metadata": {},
   "outputs": [],
   "source": [
    "model_data = spark.sql('''\n",
    "                            SELECT userID, level, isChurn\n",
    "                            FROM level_churn_table\n",
    "                        '''\n",
    "                      )\n",
    "model_data.createOrReplaceTempView('model_data')"
   ]
  },
  {
   "cell_type": "code",
   "execution_count": 45,
   "metadata": {},
   "outputs": [
    {
     "name": "stdout",
     "output_type": "stream",
     "text": [
      "+------+-----------+-----+-------+\n",
      "|userID|advertising|level|isChurn|\n",
      "+------+-----------+-----+-------+\n",
      "|100022|        115| free|      1|\n",
      "|100015|         69| paid|      1|\n",
      "|200020|         69| free|      1|\n",
      "|    87|         50| paid|      1|\n",
      "|    54|         47| paid|      1|\n",
      "|100009|         42| free|      1|\n",
      "|100013|         39| paid|      1|\n",
      "|100012|         38| free|      1|\n",
      "|200018|         32| free|      1|\n",
      "|100025|         30| free|      1|\n",
      "|100021|         30| free|      1|\n",
      "|   121|         28| paid|      1|\n",
      "|200024|         27| paid|      1|\n",
      "|200011|         27| free|      1|\n",
      "|    28|         26| paid|      1|\n",
      "|    53|         25| paid|      1|\n",
      "|    29|         22| paid|      1|\n",
      "|200015|         22| free|      1|\n",
      "|    12|         21| paid|      1|\n",
      "|200016|         18| free|      1|\n",
      "+------+-----------+-----+-------+\n",
      "only showing top 20 rows\n",
      "\n"
     ]
    }
   ],
   "source": [
    "spark.sql('''\n",
    "            SELECT a.userID, a.advertising, b.level, b.isChurn\n",
    "            FROM (\n",
    "                SELECT userID,\n",
    "                        SUM(CASE WHEN page = \"Roll Advert\" THEN 1 ELSE 0 END) AS advertising\n",
    "                FROM clean_user_log_table\n",
    "                GROUP BY 1\n",
    "                ) AS a\n",
    "            JOIN level_churn_table AS b\n",
    "            ON a.userID = b.userID\n",
    "            ORDER BY 4 DESC, 2 DESC\n",
    "            '''\n",
    "         ).show()"
   ]
  },
  {
   "cell_type": "markdown",
   "metadata": {},
   "source": [
    "Since a user could downgrade or upgrade the service, the same user could have two phases in the log: the free and paid, whereas the “canceled confirmation” could happen in one of these phases. So, let’s separate the answer in these two phases: free and paid."
   ]
  },
  {
   "cell_type": "code",
   "execution_count": 46,
   "metadata": {},
   "outputs": [],
   "source": [
    "free_advertising = spark.sql('''\n",
    "            SELECT userID, AVG(advertising) avgFreeAdvertising, \n",
    "                    MAX(lastSessionDate) lastFreeAccess, SUM(isChurn) isChurn\n",
    "            FROM (\n",
    "                SELECT userID, sessionID,\n",
    "                     SUM(CASE WHEN page = \"Roll Advert\" THEN 1 ELSE 0 END) AS advertising,\n",
    "                     MAX(occurred_at) lastSessionDate,\n",
    "                     SUM(CASE WHEN page = \"Cancellation Confirmation\" THEN 1 ELSE 0 END) AS isChurn\n",
    "                FROM clean_user_log_table\n",
    "                WHERE level = \"free\"\n",
    "                GROUP BY 1, 2\n",
    "                )\n",
    "            GROUP BY 1\n",
    "            ORDER BY 3 DESC, 2 DESC\n",
    "            ''')"
   ]
  },
  {
   "cell_type": "code",
   "execution_count": 47,
   "metadata": {},
   "outputs": [
    {
     "data": {
      "image/png": "[encoded data removed]",
      "text/plain": [
       "<matplotlib.figure.Figure at 0x7f62b9380f98>"
      ]
     },
     "metadata": {
      "needs_background": "light"
     },
     "output_type": "display_data"
    }
   ],
   "source": [
    "# visualize the distribution of advertising average by session of free users for both groups\n",
    "sns.boxplot(y=\"avgFreeAdvertising\", x=\"isChurn\", data=free_advertising.toPandas())\n",
    "plt.title('Advertisement average by session of free users')\n",
    "plt.ylabel('Advertisement average')\n",
    "plt.show()"
   ]
  },
  {
   "cell_type": "code",
   "execution_count": 48,
   "metadata": {},
   "outputs": [],
   "source": [
    "paid_advertising = spark.sql('''\n",
    "            SELECT userID, AVG(advertising) avgPaidAdvertising, \n",
    "                    MAX(lastSessionDate) lastPaidAccess, SUM(isChurn) isChurn\n",
    "            FROM (\n",
    "                SELECT userID, sessionID,\n",
    "                     SUM(CASE WHEN page = \"Roll Advert\" THEN 1 ELSE 0 END) AS advertising,\n",
    "                     MAX(occurred_at) lastSessionDate,\n",
    "                     SUM(CASE WHEN page = \"Cancellation Confirmation\" THEN 1 ELSE 0 END) AS isChurn\n",
    "                FROM clean_user_log_table\n",
    "                WHERE level = \"paid\"\n",
    "                GROUP BY 1, 2\n",
    "                )\n",
    "            GROUP BY 1\n",
    "            ORDER BY 3 DESC, 2 DESC\n",
    "            ''')"
   ]
  },
  {
   "cell_type": "code",
   "execution_count": 49,
   "metadata": {},
   "outputs": [
    {
     "data": {
      "image/png": "[encoded data removed]",
      "text/plain": [
       "<matplotlib.figure.Figure at 0x7f62b93278d0>"
      ]
     },
     "metadata": {
      "needs_background": "light"
     },
     "output_type": "display_data"
    }
   ],
   "source": [
    "# visualize the distribution of advertising average by session of paid users for both groups\n",
    "sns.boxplot(y=\"avgPaidAdvertising\", x=\"isChurn\", data=paid_advertising.toPandas())\n",
    "plt.title('Advertisement average by session of paid users')\n",
    "plt.ylabel('Advertisement average')\n",
    "plt.show()"
   ]
  },
  {
   "cell_type": "markdown",
   "metadata": {},
   "source": [
    "Before adding this measure to our model data, it’s necessary to treat it to get just the advertising for the last period level, i. e, if the user was free and upgraded to a paid account, we have to use the advertising average just for the paid period."
   ]
  },
  {
   "cell_type": "code",
   "execution_count": 50,
   "metadata": {},
   "outputs": [],
   "source": [
    "free_advertising.createOrReplaceTempView('free_advertising')\n",
    "paid_advertising.createOrReplaceTempView('paid_advertising')\n",
    "advertising = spark.sql('''\n",
    "            SELECT \n",
    "                (CASE WHEN p.userID IS NOT NULL THEN p.userID ELSE f.userID END) AS userID, \n",
    "                (CASE WHEN lastPaidAccess IS NULL THEN avgFreeAdvertising\n",
    "                    WHEN lastFreeAccess IS NULL THEN avgPaidAdvertising\n",
    "                    WHEN lastPaidAccess > lastFreeAccess THEN avgPaidAdvertising \n",
    "                    ELSE avgFreeAdvertising END) AS advertising\n",
    "            FROM paid_advertising AS p\n",
    "            FULL OUTER JOIN free_advertising AS f\n",
    "            ON p.userID = f.userID\n",
    "            ORDER BY 1\n",
    "            ''').toPandas()"
   ]
  },
  {
   "cell_type": "code",
   "execution_count": 51,
   "metadata": {},
   "outputs": [],
   "source": [
    "model_data = model_data.toPandas()\n",
    "model_data = model_data.set_index('userID')\n",
    "advertising = model_data.join(advertising.set_index('userID'))"
   ]
  },
  {
   "cell_type": "code",
   "execution_count": 52,
   "metadata": {},
   "outputs": [
    {
     "data": {
      "image/png": "[encoded data removed]",
      "text/plain": [
       "<matplotlib.figure.Figure at 0x7f62b9222358>"
      ]
     },
     "metadata": {
      "needs_background": "light"
     },
     "output_type": "display_data"
    }
   ],
   "source": [
    "# visualize the distribution of advertising average by session for both groups\n",
    "sns.boxplot(y=\"advertising\", x=\"isChurn\", data=advertising)\n",
    "plt.title('Advertisement average by session')\n",
    "plt.ylabel('Advertisement average')\n",
    "plt.show()"
   ]
  },
  {
   "cell_type": "markdown",
   "metadata": {},
   "source": [
    "Now with the advertisement average isolated, it’s cleaner the effect of advertisement on churned users. Let’s add this measure to our data model and see the distribution for thumbs up and thumbs down average by session."
   ]
  },
  {
   "cell_type": "code",
   "execution_count": 53,
   "metadata": {},
   "outputs": [],
   "source": [
    "model_data = advertising"
   ]
  },
  {
   "cell_type": "code",
   "execution_count": 54,
   "metadata": {},
   "outputs": [],
   "source": [
    "thumbs_up = spark.sql('''\n",
    "                SELECT userID, AVG(thumbsUpAmt) avgThumbsUp, SUM(isChurn) isChurn\n",
    "                FROM (\n",
    "                    SELECT userID, sessionID,\n",
    "                         SUM(CASE WHEN page = \"Thumbs Up\" THEN 1 ELSE 0 END) AS thumbsUpAmt,\n",
    "                         SUM(CASE WHEN page = \"Cancellation Confirmation\" THEN 1 ELSE 0 END) AS isChurn\n",
    "                    FROM clean_user_log_table\n",
    "                    GROUP BY 1, 2\n",
    "                    )\n",
    "                GROUP BY 1\n",
    "                ORDER BY 3 DESC, 2 DESC\n",
    "            '''\n",
    "        ).toPandas()"
   ]
  },
  {
   "cell_type": "code",
   "execution_count": 55,
   "metadata": {},
   "outputs": [
    {
     "data": {
      "image/png": "[encoded data removed]",
      "text/plain": [
       "<matplotlib.figure.Figure at 0x7f62b92cf5f8>"
      ]
     },
     "metadata": {
      "needs_background": "light"
     },
     "output_type": "display_data"
    }
   ],
   "source": [
    "# visualize the distribution of thumbs up average per session by user\n",
    "sns.boxplot(y=\"avgThumbsUp\", x=\"isChurn\", data=thumbs_up)\n",
    "plt.title('Thumbs up average per session by user')\n",
    "plt.ylabel('Thumbs up average')\n",
    "plt.show()"
   ]
  },
  {
   "cell_type": "code",
   "execution_count": 56,
   "metadata": {},
   "outputs": [],
   "source": [
    "model_data = model_data.join(thumbs_up[['userID', 'avgThumbsUp']].set_index('userID'))"
   ]
  },
  {
   "cell_type": "code",
   "execution_count": 57,
   "metadata": {},
   "outputs": [],
   "source": [
    "thumbs_down = spark.sql('''\n",
    "                SELECT userID, AVG(thumbsDownAmt) avgThumbsDown, SUM(isChurn) isChurn\n",
    "                FROM (\n",
    "                    SELECT userID, sessionID,\n",
    "                         SUM(CASE WHEN page = \"Thumbs Down\" THEN 1 ELSE 0 END) AS thumbsDownAmt,\n",
    "                         SUM(CASE WHEN page = \"Cancellation Confirmation\" THEN 1 ELSE 0 END) AS isChurn\n",
    "                    FROM clean_user_log_table\n",
    "                    GROUP BY 1, 2\n",
    "                    )\n",
    "                GROUP BY 1\n",
    "                ORDER BY 3 DESC, 2 DESC\n",
    "            '''\n",
    "        ).toPandas()"
   ]
  },
  {
   "cell_type": "code",
   "execution_count": 58,
   "metadata": {},
   "outputs": [
    {
     "data": {
      "image/png": "[encoded data removed]",
      "text/plain": [
       "<matplotlib.figure.Figure at 0x7f62b9327eb8>"
      ]
     },
     "metadata": {
      "needs_background": "light"
     },
     "output_type": "display_data"
    }
   ],
   "source": [
    "# visualize the distribution of thumbs down average per session by user\n",
    "sns.boxplot(y=\"avgThumbsDown\", x=\"isChurn\", data=thumbs_down)\n",
    "plt.title('Thumbs down average per session by user')\n",
    "plt.ylabel('Thumbs down average')\n",
    "plt.show()"
   ]
  },
  {
   "cell_type": "code",
   "execution_count": 59,
   "metadata": {},
   "outputs": [],
   "source": [
    "model_data = model_data.join(thumbs_down[['userID', 'avgThumbsDown']].set_index('userID'))"
   ]
  },
  {
   "cell_type": "markdown",
   "metadata": {},
   "source": [
    "If we assume that users who really like this streaming music service and his song recommendations, would accumulate a Thumbs up proportion much greater than Thumbs down. Wouldn't you think?"
   ]
  },
  {
   "cell_type": "code",
   "execution_count": 60,
   "metadata": {},
   "outputs": [],
   "source": [
    "proportion_thumbsDown = spark.sql('''\n",
    "                SELECT userID, (thumbsDownAmt / (thumbsUpAmt + thumbsDownAmt)) thumbsDownProportion, isChurn\n",
    "                FROM (\n",
    "                    SELECT userID,\n",
    "                         SUM(CASE WHEN page = \"Thumbs Up\" THEN 1 ELSE 0 END) AS thumbsUpAmt,\n",
    "                         SUM(CASE WHEN page = \"Thumbs Down\" THEN 1 ELSE 0 END) AS thumbsDownAmt,\n",
    "                         SUM(CASE WHEN page = \"Cancellation Confirmation\" THEN 1 ELSE 0 END) AS isChurn\n",
    "                    FROM clean_user_log_table\n",
    "                    GROUP BY 1\n",
    "                    )\n",
    "                ORDER BY 3 DESC, 2 DESC\n",
    "            '''\n",
    "        ).toPandas()"
   ]
  },
  {
   "cell_type": "code",
   "execution_count": 61,
   "metadata": {},
   "outputs": [
    {
     "data": {
      "image/png": "[encoded data removed]",
      "text/plain": [
       "<matplotlib.figure.Figure at 0x7f62b9bdd2e8>"
      ]
     },
     "metadata": {
      "needs_background": "light"
     },
     "output_type": "display_data"
    }
   ],
   "source": [
    "# visualize the distribution of thumbs down proportion by both groups\n",
    "sns.boxplot(y=\"thumbsDownProportion\", x=\"isChurn\", data=proportion_thumbsDown)\n",
    "plt.title('Distribution for thumbs down proportion')\n",
    "plt.ylabel('Thumbs down proportion')\n",
    "plt.show()"
   ]
  },
  {
   "cell_type": "code",
   "execution_count": 62,
   "metadata": {},
   "outputs": [],
   "source": [
    "model_data = model_data.join(proportion_thumbsDown[['userID', 'thumbsDownProportion']].set_index('userID'))"
   ]
  },
  {
   "cell_type": "markdown",
   "metadata": {},
   "source": [
    "Let's analyze the average songs played per session."
   ]
  },
  {
   "cell_type": "code",
   "execution_count": 63,
   "metadata": {},
   "outputs": [],
   "source": [
    "num_songs_by_session = spark.sql('''\n",
    "            SELECT userID, AVG(numSongs) avgNumSongs, SUM(isChurn) isChurn\n",
    "            FROM (\n",
    "                SELECT userID, sessionID,\n",
    "                    SUM(CASE WHEN page = \"NextSong\" THEN 1 ELSE 0 END) AS numSongs,\n",
    "                    SUM(CASE WHEN page = \"Cancellation Confirmation\" THEN 1 ELSE 0 END) AS isChurn\n",
    "                FROM clean_user_log_table\n",
    "                GROUP BY 1, 2)\n",
    "            GROUP BY 1\n",
    "            ORDER BY 3, 2 DESC\n",
    "            '''\n",
    "         ).toPandas()"
   ]
  },
  {
   "cell_type": "code",
   "execution_count": 64,
   "metadata": {},
   "outputs": [
    {
     "data": {
      "image/png": "[encoded data removed]",
      "text/plain": [
       "<matplotlib.figure.Figure at 0x7f62b96154a8>"
      ]
     },
     "metadata": {
      "needs_background": "light"
     },
     "output_type": "display_data"
    }
   ],
   "source": [
    "# visualize the distribution of average songs played per session by both groups\n",
    "sns.boxplot(y=\"avgNumSongs\", x=\"isChurn\", data=num_songs_by_session)\n",
    "plt.title('Distribution average songs played per session')\n",
    "plt.ylabel('Average songs played')\n",
    "plt.show()"
   ]
  },
  {
   "cell_type": "code",
   "execution_count": 65,
   "metadata": {},
   "outputs": [],
   "source": [
    "model_data = model_data.join(num_songs_by_session[['userID', 'avgNumSongs']].set_index('userID'))"
   ]
  },
  {
   "cell_type": "markdown",
   "metadata": {},
   "source": [
    "Another good measure could be the average time spent per session. The hypothesis is that users who spend more time per session in the system tend to be more satisfied users and less prone to churn."
   ]
  },
  {
   "cell_type": "code",
   "execution_count": 66,
   "metadata": {},
   "outputs": [],
   "source": [
    "session_duration = spark.sql('''\n",
    "            SELECT userID, avg(session_duration) avgSessionDuration, SUM(isChurn) isChurn\n",
    "            FROM (\n",
    "                SELECT userID, sessionID, MIN(occurred_at) initial_time, MAX(occurred_at) final_time,\n",
    "                    (UNIX_TIMESTAMP(MAX(occurred_at)) - UNIX_TIMESTAMP(MIN(occurred_at))) session_duration,\n",
    "                    SUM(CASE WHEN page = \"Cancellation Confirmation\" THEN 1 ELSE 0 END) AS isChurn\n",
    "                FROM clean_user_log_table\n",
    "                GROUP BY 1, 2\n",
    "                )\n",
    "            GROUP BY 1\n",
    "            ORDER BY 3, 2 DESC\n",
    "            '''\n",
    "         ).toPandas()"
   ]
  },
  {
   "cell_type": "code",
   "execution_count": 67,
   "metadata": {},
   "outputs": [
    {
     "data": {
      "image/png": "[encoded data removed]",
      "text/plain": [
       "<matplotlib.figure.Figure at 0x7f62b9354588>"
      ]
     },
     "metadata": {
      "needs_background": "light"
     },
     "output_type": "display_data"
    }
   ],
   "source": [
    "# visualize the distribution of session duration for both groups\n",
    "sns.boxplot(y=\"avgSessionDuration\", x=\"isChurn\", data=session_duration)\n",
    "plt.title('Distribution of session duration')\n",
    "plt.ylabel('Session duration')\n",
    "plt.show()"
   ]
  },
  {
   "cell_type": "code",
   "execution_count": 68,
   "metadata": {},
   "outputs": [],
   "source": [
    "model_data = model_data.join(session_duration[['userID', 'avgSessionDuration']].set_index('userID'))"
   ]
  },
  {
   "cell_type": "markdown",
   "metadata": {},
   "source": [
    "Let’s analyze the “Add Playlist” and \"Add Friend\" events. The hypothesis is that users who add more songs to a playlists or add more friends by each session tend to be less prone to not churn."
   ]
  },
  {
   "cell_type": "code",
   "execution_count": 69,
   "metadata": {},
   "outputs": [],
   "source": [
    "num_playlist_addition_by_session = spark.sql('''\n",
    "            SELECT userID, AVG(numPlaylistAddition) avgNumPlaylistAddition, SUM(isChurn) isChurn\n",
    "            FROM (\n",
    "                SELECT userID, sessionID,\n",
    "                    SUM(CASE WHEN page = \"Add to Playlist\" THEN 1 ELSE 0 END) AS numPlaylistAddition,\n",
    "                    SUM(CASE WHEN page = \"Cancellation Confirmation\" THEN 1 ELSE 0 END) AS isChurn\n",
    "                FROM clean_user_log_table\n",
    "                GROUP BY 1, 2)\n",
    "            GROUP BY 1\n",
    "            ORDER BY 3 DESC, 2 DESC\n",
    "            '''\n",
    "         ).toPandas()"
   ]
  },
  {
   "cell_type": "code",
   "execution_count": 70,
   "metadata": {},
   "outputs": [
    {
     "data": {
      "image/png": "[encoded data removed]",
      "text/plain": [
       "<matplotlib.figure.Figure at 0x7f62b9305390>"
      ]
     },
     "metadata": {
      "needs_background": "light"
     },
     "output_type": "display_data"
    }
   ],
   "source": [
    "# visualize the distribution of average songs added to playlist per session by both groups\n",
    "sns.boxplot(y=\"avgNumPlaylistAddition\", x=\"isChurn\", data=num_playlist_addition_by_session)\n",
    "plt.title('Distribution of average songs added to playlist per session')\n",
    "plt.ylabel('Average songs added to playlist')\n",
    "plt.show()"
   ]
  },
  {
   "cell_type": "code",
   "execution_count": 71,
   "metadata": {},
   "outputs": [],
   "source": [
    "model_data = model_data.join(num_playlist_addition_by_session[['userID', 'avgNumPlaylistAddition']].set_index('userID'))"
   ]
  },
  {
   "cell_type": "code",
   "execution_count": 72,
   "metadata": {},
   "outputs": [],
   "source": [
    "num_friends_added_by_session = spark.sql('''\n",
    "            SELECT userID, AVG(numFriendsAdded) avgNumFriendsAdded, SUM(isChurn) isChurn\n",
    "            FROM (\n",
    "                SELECT userID, sessionID,\n",
    "                    SUM(CASE WHEN page = \"Add Friend\" THEN 1 ELSE 0 END) AS numFriendsAdded,\n",
    "                    SUM(CASE WHEN page = \"Cancellation Confirmation\" THEN 1 ELSE 0 END) AS isChurn\n",
    "                FROM clean_user_log_table\n",
    "                GROUP BY 1, 2)\n",
    "            GROUP BY 1\n",
    "            ORDER BY 3 DESC, 2 DESC\n",
    "            '''\n",
    "         ).toPandas()"
   ]
  },
  {
   "cell_type": "code",
   "execution_count": 73,
   "metadata": {},
   "outputs": [
    {
     "data": {
      "image/png": "[encoded data removed]",
      "text/plain": [
       "<matplotlib.figure.Figure at 0x7f62b92d6748>"
      ]
     },
     "metadata": {
      "needs_background": "light"
     },
     "output_type": "display_data"
    }
   ],
   "source": [
    "# visualize the distribution of average friends added per session by both groups\n",
    "sns.boxplot(y=\"avgNumFriendsAdded\", x=\"isChurn\", data=num_friends_added_by_session)\n",
    "plt.title('Distribution of average friends added by session')\n",
    "plt.ylabel('Average friends added')\n",
    "plt.show()"
   ]
  },
  {
   "cell_type": "code",
   "execution_count": 74,
   "metadata": {},
   "outputs": [],
   "source": [
    "model_data = model_data.join(num_friends_added_by_session[['userID', 'avgNumFriendsAdded']].set_index('userID'))"
   ]
  },
  {
   "cell_type": "markdown",
   "metadata": {},
   "source": [
    "Another measure that could be the average time between one session and another."
   ]
  },
  {
   "cell_type": "code",
   "execution_count": 75,
   "metadata": {},
   "outputs": [],
   "source": [
    "session_duration = spark.sql('''\n",
    "            SELECT userID, AVG(timeBetweenSessions) avgTimeBetweenSessions, SUM(isChurn) isChurn\n",
    "            FROM (\n",
    "                SELECT userID, sessionID, initial_time, final_time, isChurn,\n",
    "                    UNIX_TIMESTAMP(LEAD(initial_time) OVER (PARTITION BY userID ORDER BY initial_time)) - UNIX_TIMESTAMP(final_time) AS timeBetweenSessions\n",
    "                FROM (\n",
    "                    SELECT userID, sessionID, MIN(occurred_at) initial_time, MAX(occurred_at) final_time,\n",
    "                        SUM(CASE WHEN page = \"Cancellation Confirmation\" THEN 1 ELSE 0 END) AS isChurn\n",
    "                    FROM clean_user_log_table\n",
    "                    GROUP BY 1, 2\n",
    "                    )\n",
    "                ORDER BY 1, 3\n",
    "                )\n",
    "            GROUP BY 1\n",
    "            ORDER BY 3, 2 DESC\n",
    "            '''\n",
    "         ).toPandas()"
   ]
  },
  {
   "cell_type": "code",
   "execution_count": 76,
   "metadata": {},
   "outputs": [
    {
     "data": {
      "image/png": "[encoded data removed]",
      "text/plain": [
       "<matplotlib.figure.Figure at 0x7f62b9bbcda0>"
      ]
     },
     "metadata": {
      "needs_background": "light"
     },
     "output_type": "display_data"
    }
   ],
   "source": [
    "# visualize the distribution of average time between two sessions by both groups\n",
    "sns.boxplot(y=\"avgTimeBetweenSessions\", x=\"isChurn\", data=session_duration)\n",
    "plt.title('Distribution of average time between two sessions')\n",
    "plt.ylabel('Average time between two sessions')\n",
    "plt.show()"
   ]
  },
  {
   "cell_type": "code",
   "execution_count": 77,
   "metadata": {},
   "outputs": [],
   "source": [
    "model_data = model_data.join(session_duration[['userID', 'avgTimeBetweenSessions']].set_index('userID'))"
   ]
  },
  {
   "cell_type": "code",
   "execution_count": 78,
   "metadata": {},
   "outputs": [
    {
     "data": {
      "text/html": [
       "<div>\n",
       "<style scoped>\n",
       "    .dataframe tbody tr th:only-of-type {\n",
       "        vertical-align: middle;\n",
       "    }\n",
       "\n",
       "    .dataframe tbody tr th {\n",
       "        vertical-align: top;\n",
       "    }\n",
       "\n",
       "    .dataframe thead th {\n",
       "        text-align: right;\n",
       "    }\n",
       "</style>\n",
       "<table border=\"1\" class=\"dataframe\">\n",
       "  <thead>\n",
       "    <tr style=\"text-align: right;\">\n",
       "      <th></th>\n",
       "      <th>gender</th>\n",
       "    </tr>\n",
       "  </thead>\n",
       "  <tbody>\n",
       "    <tr>\n",
       "      <th>0</th>\n",
       "      <td>F</td>\n",
       "    </tr>\n",
       "    <tr>\n",
       "      <th>1</th>\n",
       "      <td>M</td>\n",
       "    </tr>\n",
       "  </tbody>\n",
       "</table>\n",
       "</div>"
      ],
      "text/plain": [
       "  gender\n",
       "0      F\n",
       "1      M"
      ]
     },
     "execution_count": 78,
     "metadata": {},
     "output_type": "execute_result"
    }
   ],
   "source": [
    "spark.sql('''\n",
    "            SELECT DISTINCT(gender)\n",
    "            FROM clean_user_log_table\n",
    "            '''\n",
    "         ).toPandas()"
   ]
  },
  {
   "cell_type": "markdown",
   "metadata": {},
   "source": [
    "Let’s analyze how genres relate to churn."
   ]
  },
  {
   "cell_type": "code",
   "execution_count": 79,
   "metadata": {},
   "outputs": [
    {
     "data": {
      "text/html": [
       "<div>\n",
       "<style scoped>\n",
       "    .dataframe tbody tr th:only-of-type {\n",
       "        vertical-align: middle;\n",
       "    }\n",
       "\n",
       "    .dataframe tbody tr th {\n",
       "        vertical-align: top;\n",
       "    }\n",
       "\n",
       "    .dataframe thead th {\n",
       "        text-align: right;\n",
       "    }\n",
       "</style>\n",
       "<table border=\"1\" class=\"dataframe\">\n",
       "  <thead>\n",
       "    <tr style=\"text-align: right;\">\n",
       "      <th></th>\n",
       "      <th>isChurn</th>\n",
       "      <th>male</th>\n",
       "      <th>female</th>\n",
       "    </tr>\n",
       "  </thead>\n",
       "  <tbody>\n",
       "    <tr>\n",
       "      <th>0</th>\n",
       "      <td>0</td>\n",
       "      <td>89</td>\n",
       "      <td>84</td>\n",
       "    </tr>\n",
       "    <tr>\n",
       "      <th>1</th>\n",
       "      <td>1</td>\n",
       "      <td>32</td>\n",
       "      <td>20</td>\n",
       "    </tr>\n",
       "  </tbody>\n",
       "</table>\n",
       "</div>"
      ],
      "text/plain": [
       "   isChurn  male  female\n",
       "0        0    89      84\n",
       "1        1    32      20"
      ]
     },
     "execution_count": 79,
     "metadata": {},
     "output_type": "execute_result"
    }
   ],
   "source": [
    "# Counting how many users paid and free are in the two groups?\n",
    "genre_df = spark.sql('''\n",
    "            SELECT isChurn, SUM(isMale) AS male, COUNT(*) - SUM(isMale) AS female\n",
    "            FROM (\n",
    "                SELECT userID,\n",
    "                        CASE WHEN gender = \"M\" THEN 1 ELSE 0 END isMale,\n",
    "                        SUM(CASE WHEN page = \"Cancellation Confirmation\" THEN 1 ELSE 0 END) AS isChurn\n",
    "                FROM clean_user_log_table\n",
    "                GROUP BY 1, 2\n",
    "            )\n",
    "            GROUP BY 1\n",
    "            '''\n",
    "         ).toPandas()\n",
    "genre_df"
   ]
  },
  {
   "cell_type": "code",
   "execution_count": 80,
   "metadata": {},
   "outputs": [
    {
     "data": {
      "text/html": [
       "<div>\n",
       "<style scoped>\n",
       "    .dataframe tbody tr th:only-of-type {\n",
       "        vertical-align: middle;\n",
       "    }\n",
       "\n",
       "    .dataframe tbody tr th {\n",
       "        vertical-align: top;\n",
       "    }\n",
       "\n",
       "    .dataframe thead th {\n",
       "        text-align: right;\n",
       "    }\n",
       "</style>\n",
       "<table border=\"1\" class=\"dataframe\">\n",
       "  <thead>\n",
       "    <tr style=\"text-align: right;\">\n",
       "      <th></th>\n",
       "      <th>male</th>\n",
       "      <th>female</th>\n",
       "    </tr>\n",
       "  </thead>\n",
       "  <tbody>\n",
       "    <tr>\n",
       "      <th>Stayed</th>\n",
       "      <td>73.553719</td>\n",
       "      <td>80.769231</td>\n",
       "    </tr>\n",
       "    <tr>\n",
       "      <th>Churned</th>\n",
       "      <td>26.446281</td>\n",
       "      <td>19.230769</td>\n",
       "    </tr>\n",
       "  </tbody>\n",
       "</table>\n",
       "</div>"
      ],
      "text/plain": [
       "              male     female\n",
       "Stayed   73.553719  80.769231\n",
       "Churned  26.446281  19.230769"
      ]
     },
     "execution_count": 80,
     "metadata": {},
     "output_type": "execute_result"
    }
   ],
   "source": [
    "# Converting theses values in percentage\n",
    "genre_df['male'] = genre_df['male'] * 100 / np.sum(genre_df['male'])\n",
    "genre_df['female'] = genre_df['female'] * 100 / np.sum(genre_df['female'])\n",
    "genre_df.drop('isChurn', axis=1, inplace=True)\n",
    "genre_df.set_index(pd.Index(['Stayed', 'Churned']), inplace=True)\n",
    "genre_df"
   ]
  },
  {
   "cell_type": "code",
   "execution_count": 81,
   "metadata": {},
   "outputs": [
    {
     "data": {
      "image/png": "[encoded data removed]",
      "text/plain": [
       "<matplotlib.figure.Figure at 0x7f62b90f1e10>"
      ]
     },
     "metadata": {
      "needs_background": "light"
     },
     "output_type": "display_data"
    }
   ],
   "source": [
    "genre_df.transpose().plot(kind='bar', title='Distribution by gender')\n",
    "plt.ylabel('Tier Proportion (in %)');"
   ]
  },
  {
   "cell_type": "code",
   "execution_count": 82,
   "metadata": {},
   "outputs": [],
   "source": [
    "genre = spark.sql('''\n",
    "                SELECT userID,\n",
    "                        gender,\n",
    "                        SUM(CASE WHEN page = \"Cancellation Confirmation\" THEN 1 ELSE 0 END) AS isChurn\n",
    "                FROM clean_user_log_table\n",
    "                GROUP BY 1, 2\n",
    "            '''\n",
    "         ).toPandas()"
   ]
  },
  {
   "cell_type": "code",
   "execution_count": 83,
   "metadata": {},
   "outputs": [],
   "source": [
    "model_data = model_data.join(genre[['userID', 'gender']].set_index('userID'))"
   ]
  },
  {
   "cell_type": "code",
   "execution_count": 84,
   "metadata": {},
   "outputs": [
    {
     "data": {
      "text/plain": [
       "[Row(userAgent='\"Mozilla/5.0 (Macintosh; Intel Mac OS X 10_8_5) AppleWebKit/537.36 (KHTML, like Gecko) Chrome/36.0.1985.143 Safari/537.36\"'),\n",
       " Row(userAgent='\"Mozilla/5.0 (Windows NT 5.1) AppleWebKit/537.36 (KHTML, like Gecko) Chrome/36.0.1985.143 Safari/537.36\"'),\n",
       " Row(userAgent='Mozilla/5.0 (X11; Ubuntu; Linux i686; rv:31.0) Gecko/20100101 Firefox/31.0'),\n",
       " Row(userAgent='\"Mozilla/5.0 (Macintosh; Intel Mac OS X 10_9_4) AppleWebKit/537.36 (KHTML, like Gecko) Chrome/36.0.1985.125 Safari/537.36\"'),\n",
       " Row(userAgent='\"Mozilla/5.0 (Macintosh; Intel Mac OS X 10_9_4) AppleWebKit/537.36 (KHTML, like Gecko) Chrome/35.0.1916.153 Safari/537.36\"'),\n",
       " Row(userAgent='Mozilla/5.0 (Macintosh; Intel Mac OS X 10.7; rv:31.0) Gecko/20100101 Firefox/31.0'),\n",
       " Row(userAgent='Mozilla/5.0 (Windows NT 6.1; WOW64; rv:30.0) Gecko/20100101 Firefox/30.0'),\n",
       " Row(userAgent='Mozilla/5.0 (Windows NT 6.3; WOW64; rv:31.0) Gecko/20100101 Firefox/31.0'),\n",
       " Row(userAgent='Mozilla/5.0 (compatible; MSIE 9.0; Windows NT 6.1; WOW64; Trident/5.0)'),\n",
       " Row(userAgent='\"Mozilla/5.0 (Windows NT 6.3; WOW64) AppleWebKit/537.36 (KHTML, like Gecko) Chrome/36.0.1985.143 Safari/537.36\"'),\n",
       " Row(userAgent='Mozilla/5.0 (Macintosh; Intel Mac OS X 10.9; rv:31.0) Gecko/20100101 Firefox/31.0'),\n",
       " Row(userAgent='\"Mozilla/5.0 (Windows NT 5.1) AppleWebKit/537.36 (KHTML, like Gecko) Chrome/36.0.1985.125 Safari/537.36\"'),\n",
       " Row(userAgent='\"Mozilla/5.0 (iPhone; CPU iPhone OS 7_1_1 like Mac OS X) AppleWebKit/537.51.2 (KHTML, like Gecko) Version/7.0 Mobile/11D201 Safari/9537.53\"'),\n",
       " Row(userAgent='\"Mozilla/5.0 (Windows NT 6.1; WOW64) AppleWebKit/537.36 (KHTML, like Gecko) Chrome/36.0.1985.125 Safari/537.36\"'),\n",
       " Row(userAgent='Mozilla/5.0 (Windows NT 6.1; WOW64; rv:31.0) Gecko/20100101 Firefox/31.0'),\n",
       " Row(userAgent='Mozilla/5.0 (compatible; MSIE 9.0; Windows NT 6.1; Trident/5.0)'),\n",
       " Row(userAgent='Mozilla/5.0 (compatible; MSIE 10.0; Windows NT 6.1; WOW64; Trident/6.0)'),\n",
       " Row(userAgent='\"Mozilla/5.0 (Macintosh; Intel Mac OS X 10_8_5) AppleWebKit/537.36 (KHTML, like Gecko) Chrome/37.0.2062.94 Safari/537.36\"'),\n",
       " Row(userAgent='\"Mozilla/5.0 (Macintosh; Intel Mac OS X 10_9_2) AppleWebKit/537.75.14 (KHTML, like Gecko) Version/7.0.3 Safari/537.75.14\"'),\n",
       " Row(userAgent='\"Mozilla/5.0 (Windows NT 6.1; WOW64) AppleWebKit/537.36 (KHTML, like Gecko) Chrome/37.0.2062.103 Safari/537.36\"'),\n",
       " Row(userAgent='\"Mozilla/5.0 (Windows NT 6.2; WOW64) AppleWebKit/537.36 (KHTML, like Gecko) Chrome/36.0.1985.125 Safari/537.36\"'),\n",
       " Row(userAgent='\"Mozilla/5.0 (iPad; CPU OS 7_1_2 like Mac OS X) AppleWebKit/537.51.2 (KHTML, like Gecko) Version/7.0 Mobile/11D257 Safari/9537.53\"'),\n",
       " Row(userAgent='\"Mozilla/5.0 (Macintosh; Intel Mac OS X 10_6_8) AppleWebKit/537.36 (KHTML, like Gecko) Chrome/36.0.1985.143 Safari/537.36\"'),\n",
       " Row(userAgent='Mozilla/5.0 (Windows NT 6.0; rv:31.0) Gecko/20100101 Firefox/31.0'),\n",
       " Row(userAgent='\"Mozilla/5.0 (Macintosh; Intel Mac OS X 10_9_4) AppleWebKit/537.36 (KHTML, like Gecko) Chrome/36.0.1985.143 Safari/537.36\"'),\n",
       " Row(userAgent='\"Mozilla/5.0 (Macintosh; Intel Mac OS X 10_7_5) AppleWebKit/537.36 (KHTML, like Gecko) Chrome/36.0.1985.125 Safari/537.36\"'),\n",
       " Row(userAgent='\"Mozilla/5.0 (Windows NT 6.1) AppleWebKit/537.36 (KHTML, like Gecko) Chrome/36.0.1985.125 Safari/537.36\"'),\n",
       " Row(userAgent='\"Mozilla/5.0 (Windows NT 6.2; WOW64) AppleWebKit/537.36 (KHTML, like Gecko) Chrome/36.0.1985.143 Safari/537.36\"'),\n",
       " Row(userAgent='Mozilla/5.0 (Macintosh; Intel Mac OS X 10.6; rv:31.0) Gecko/20100101 Firefox/31.0'),\n",
       " Row(userAgent='\"Mozilla/5.0 (Macintosh; Intel Mac OS X 10_9_3) AppleWebKit/537.76.4 (KHTML, like Gecko) Version/7.0.4 Safari/537.76.4\"'),\n",
       " Row(userAgent='Mozilla/5.0 (X11; Linux x86_64; rv:31.0) Gecko/20100101 Firefox/31.0'),\n",
       " Row(userAgent='\"Mozilla/5.0 (Macintosh; Intel Mac OS X 10_9_4) AppleWebKit/537.78.2 (KHTML, like Gecko) Version/7.0.6 Safari/537.78.2\"'),\n",
       " Row(userAgent='\"Mozilla/5.0 (Macintosh; Intel Mac OS X 10_7_5) AppleWebKit/537.77.4 (KHTML, like Gecko) Version/6.1.5 Safari/537.77.4\"'),\n",
       " Row(userAgent='\"Mozilla/5.0 (Macintosh; Intel Mac OS X 10_10) AppleWebKit/600.1.8 (KHTML, like Gecko) Version/8.0 Safari/600.1.8\"'),\n",
       " Row(userAgent='\"Mozilla/5.0 (Windows NT 6.1; WOW64) AppleWebKit/537.36 (KHTML, like Gecko) Chrome/35.0.1916.153 Safari/537.36\"'),\n",
       " Row(userAgent='\"Mozilla/5.0 (X11; Linux x86_64) AppleWebKit/537.36 (KHTML, like Gecko) Chrome/36.0.1985.143 Safari/537.36\"'),\n",
       " Row(userAgent='\"Mozilla/5.0 (Windows NT 6.1) AppleWebKit/537.36 (KHTML, like Gecko) Chrome/36.0.1985.143 Safari/537.36\"'),\n",
       " Row(userAgent='Mozilla/5.0 (X11; Ubuntu; Linux x86_64; rv:31.0) Gecko/20100101 Firefox/31.0'),\n",
       " Row(userAgent='\"Mozilla/5.0 (iPad; CPU OS 7_1_1 like Mac OS X) AppleWebKit/537.51.2 (KHTML, like Gecko) Version/7.0 Mobile/11D201 Safari/9537.53\"'),\n",
       " Row(userAgent='\"Mozilla/5.0 (Macintosh; Intel Mac OS X 10_10) AppleWebKit/600.1.3 (KHTML, like Gecko) Version/8.0 Safari/600.1.3\"'),\n",
       " Row(userAgent='Mozilla/5.0 (Windows NT 6.2; WOW64; rv:31.0) Gecko/20100101 Firefox/31.0'),\n",
       " Row(userAgent='\"Mozilla/5.0 (Macintosh; Intel Mac OS X 10_9_4) AppleWebKit/537.77.4 (KHTML, like Gecko) Version/7.0.5 Safari/537.77.4\"'),\n",
       " Row(userAgent='\"Mozilla/5.0 (Windows NT 6.3; WOW64) AppleWebKit/537.36 (KHTML, like Gecko) Chrome/36.0.1985.125 Safari/537.36\"'),\n",
       " Row(userAgent='Mozilla/5.0 (Windows NT 6.1; WOW64; rv:24.0) Gecko/20100101 Firefox/24.0'),\n",
       " Row(userAgent='Mozilla/5.0 (Windows NT 6.1; WOW64; rv:32.0) Gecko/20100101 Firefox/32.0'),\n",
       " Row(userAgent='\"Mozilla/5.0 (Macintosh; Intel Mac OS X 10_9_2) AppleWebKit/537.74.9 (KHTML, like Gecko) Version/7.0.2 Safari/537.74.9\"'),\n",
       " Row(userAgent='\"Mozilla/5.0 (iPhone; CPU iPhone OS 7_1_2 like Mac OS X) AppleWebKit/537.51.2 (KHTML, like Gecko) Version/7.0 Mobile/11D257 Safari/9537.53\"'),\n",
       " Row(userAgent='\"Mozilla/5.0 (X11; Linux x86_64) AppleWebKit/537.36 (KHTML, like Gecko) Chrome/36.0.1985.125 Safari/537.36\"'),\n",
       " Row(userAgent='\"Mozilla/5.0 (Macintosh; Intel Mac OS X 10_9_2) AppleWebKit/537.36 (KHTML, like Gecko) Chrome/36.0.1985.125 Safari/537.36\"'),\n",
       " Row(userAgent='\"Mozilla/5.0 (Windows NT 6.1; WOW64) AppleWebKit/537.36 (KHTML, like Gecko) Chrome/37.0.2062.94 Safari/537.36\"'),\n",
       " Row(userAgent='\"Mozilla/5.0 (Macintosh; Intel Mac OS X 10_9_4) AppleWebKit/537.36 (KHTML, like Gecko) Chrome/37.0.2062.94 Safari/537.36\"'),\n",
       " Row(userAgent='\"Mozilla/5.0 (iPhone; CPU iPhone OS 7_1 like Mac OS X) AppleWebKit/537.51.2 (KHTML, like Gecko) Version/7.0 Mobile/11D167 Safari/9537.53\"'),\n",
       " Row(userAgent='\"Mozilla/5.0 (Windows NT 6.1; WOW64) AppleWebKit/537.36 (KHTML, like Gecko) Chrome/36.0.1985.143 Safari/537.36\"'),\n",
       " Row(userAgent='Mozilla/5.0 (Macintosh; Intel Mac OS X 10.8; rv:31.0) Gecko/20100101 Firefox/31.0'),\n",
       " Row(userAgent='Mozilla/5.0 (Windows NT 6.1; WOW64; Trident/7.0; rv:11.0) like Gecko'),\n",
       " Row(userAgent='Mozilla/5.0 (Windows NT 6.1; rv:31.0) Gecko/20100101 Firefox/31.0')]"
      ]
     },
     "execution_count": 84,
     "metadata": {},
     "output_type": "execute_result"
    }
   ],
   "source": [
    "spark.sql('''\n",
    "            SELECT DISTINCT(userAgent)\n",
    "            FROM clean_user_log_table\n",
    "            '''\n",
    "         ).collect()"
   ]
  },
  {
   "cell_type": "markdown",
   "metadata": {},
   "source": [
    "User agent is a way to find information about the browser and device Operational System the user is using. So taking in consideration that web apps should be prepared to work with different browsers, we should cross this info with the churn element to see how they are related. Chrome and Safari always appear together with AppleWebKit, so let’s use AppleWebKit to refer to these web browsers. Firefox appears to Linux, Windows and Macintosh. AppleWebKit appears to all OS and Trident appears just to Windows. So, we have 9 different classes."
   ]
  },
  {
   "cell_type": "code",
   "execution_count": 85,
   "metadata": {},
   "outputs": [],
   "source": [
    "user_agent = spark.sql('''\n",
    "            SELECT isChurn,\n",
    "                    SUM(Windows_Firefox) Windows_Firefox,\n",
    "                    SUM(Linux_Firefox) Linux_Firefox,\n",
    "                    SUM(Macintosh_Firefox) Macintosh_Firefox,\n",
    "                    SUM(Macintosh_AppleWebKit) Macintosh_AppleWebKit,\n",
    "                    SUM(Linux_AppleWebKit) Linux_AppleWebKit,\n",
    "                    SUM(Windows_AppleWebKit) Windows_AppleWebKit,\n",
    "                    SUM(iPhone_AppleWebKit) iPhone_AppleWebKit,\n",
    "                    SUM(iPad_AppleWebKit) iPad_AppleWebKit,\n",
    "                    SUM(Windows_Trident) Windows_Trident\n",
    "            FROM (         \n",
    "                SELECT userID,\n",
    "                    AVG(CASE WHEN userAgent LIKE \"%Windows%Firefox%\" THEN 1 ELSE 0 END) AS Windows_Firefox,\n",
    "                    AVG(CASE WHEN userAgent LIKE \"%Linux%Firefox%\" THEN 1 ELSE 0 END) AS Linux_Firefox,\n",
    "                    AVG(CASE WHEN userAgent LIKE \"%Macintosh%Firefox%\" THEN 1 ELSE 0 END) AS Macintosh_Firefox,\n",
    "                    AVG(CASE WHEN userAgent LIKE \"%Macintosh%AppleWebKit%\" THEN 1 ELSE 0 END) AS Macintosh_AppleWebKit,\n",
    "                    AVG(CASE WHEN userAgent LIKE \"%Windows%AppleWebKit%\" THEN 1 ELSE 0 END) AS Windows_AppleWebKit,\n",
    "                    AVG(CASE WHEN userAgent LIKE \"%Linux%AppleWebKit%\" THEN 1 ELSE 0 END) AS Linux_AppleWebKit,\n",
    "                    AVG(CASE WHEN userAgent LIKE \"%iPhone%AppleWebKit%\" THEN 1 ELSE 0 END) AS iPhone_AppleWebKit,\n",
    "                    AVG(CASE WHEN userAgent LIKE \"%iPad%AppleWebKit%\" THEN 1 ELSE 0 END) AS iPad_AppleWebKit,\n",
    "                    AVG(CASE WHEN userAgent LIKE \"%Trident%\" THEN 1 ELSE 0 END) AS Windows_Trident,\n",
    "                    SUM(CASE WHEN page = \"Cancellation Confirmation\" THEN 1 ELSE 0 END) AS isChurn\n",
    "                FROM clean_user_log_table\n",
    "                GROUP BY 1)\n",
    "            GROUP BY 1\n",
    "            '''\n",
    "         ).toPandas()"
   ]
  },
  {
   "cell_type": "code",
   "execution_count": 86,
   "metadata": {},
   "outputs": [
    {
     "data": {
      "text/html": [
       "<div>\n",
       "<style scoped>\n",
       "    .dataframe tbody tr th:only-of-type {\n",
       "        vertical-align: middle;\n",
       "    }\n",
       "\n",
       "    .dataframe tbody tr th {\n",
       "        vertical-align: top;\n",
       "    }\n",
       "\n",
       "    .dataframe thead th {\n",
       "        text-align: right;\n",
       "    }\n",
       "</style>\n",
       "<table border=\"1\" class=\"dataframe\">\n",
       "  <thead>\n",
       "    <tr style=\"text-align: right;\">\n",
       "      <th></th>\n",
       "      <th>Stayed</th>\n",
       "      <th>Churned</th>\n",
       "    </tr>\n",
       "  </thead>\n",
       "  <tbody>\n",
       "    <tr>\n",
       "      <th>Windows_Firefox</th>\n",
       "      <td>70.967742</td>\n",
       "      <td>29.032258</td>\n",
       "    </tr>\n",
       "    <tr>\n",
       "      <th>Linux_Firefox</th>\n",
       "      <td>33.333333</td>\n",
       "      <td>66.666667</td>\n",
       "    </tr>\n",
       "    <tr>\n",
       "      <th>Macintosh_Firefox</th>\n",
       "      <td>76.923077</td>\n",
       "      <td>23.076923</td>\n",
       "    </tr>\n",
       "    <tr>\n",
       "      <th>Macintosh_AppleWebKit</th>\n",
       "      <td>78.082192</td>\n",
       "      <td>21.917808</td>\n",
       "    </tr>\n",
       "    <tr>\n",
       "      <th>Linux_AppleWebKit</th>\n",
       "      <td>83.333333</td>\n",
       "      <td>16.666667</td>\n",
       "    </tr>\n",
       "    <tr>\n",
       "      <th>Windows_AppleWebKit</th>\n",
       "      <td>79.411765</td>\n",
       "      <td>20.588235</td>\n",
       "    </tr>\n",
       "    <tr>\n",
       "      <th>iPhone_AppleWebKit</th>\n",
       "      <td>69.230769</td>\n",
       "      <td>30.769231</td>\n",
       "    </tr>\n",
       "    <tr>\n",
       "      <th>iPad_AppleWebKit</th>\n",
       "      <td>100.000000</td>\n",
       "      <td>0.000000</td>\n",
       "    </tr>\n",
       "    <tr>\n",
       "      <th>Windows_Trident</th>\n",
       "      <td>91.666667</td>\n",
       "      <td>8.333333</td>\n",
       "    </tr>\n",
       "  </tbody>\n",
       "</table>\n",
       "</div>"
      ],
      "text/plain": [
       "                           Stayed    Churned\n",
       "Windows_Firefox         70.967742  29.032258\n",
       "Linux_Firefox           33.333333  66.666667\n",
       "Macintosh_Firefox       76.923077  23.076923\n",
       "Macintosh_AppleWebKit   78.082192  21.917808\n",
       "Linux_AppleWebKit       83.333333  16.666667\n",
       "Windows_AppleWebKit     79.411765  20.588235\n",
       "iPhone_AppleWebKit      69.230769  30.769231\n",
       "iPad_AppleWebKit       100.000000   0.000000\n",
       "Windows_Trident         91.666667   8.333333"
      ]
     },
     "execution_count": 86,
     "metadata": {},
     "output_type": "execute_result"
    }
   ],
   "source": [
    "for column in user_agent.columns.tolist():\n",
    "    user_agent[column] = user_agent[column] * 100 / np.sum(user_agent[column])\n",
    "\n",
    "user_agent.drop('isChurn', axis=1, inplace=True)\n",
    "user_agent.set_index(pd.Index(['Stayed', 'Churned']), inplace=True)\n",
    "user_agent.transpose()"
   ]
  },
  {
   "cell_type": "code",
   "execution_count": 87,
   "metadata": {},
   "outputs": [
    {
     "data": {
      "image/png": "[encoded data removed]",
      "text/plain": [
       "<matplotlib.figure.Figure at 0x7f62b901d128>"
      ]
     },
     "metadata": {
      "needs_background": "light"
     },
     "output_type": "display_data"
    }
   ],
   "source": [
    "user_agent.transpose().plot(kind='bar', title='Distribution by User Agent')\n",
    "plt.ylabel('Tier Proportion (in %)');"
   ]
  },
  {
   "cell_type": "code",
   "execution_count": 88,
   "metadata": {},
   "outputs": [],
   "source": [
    "user_agent = spark.sql('''\n",
    "            SELECT userID,\n",
    "                CASE WHEN userAgent LIKE \"%Windows%Firefox%\" THEN \"Windows_Firefox\"\n",
    "                     WHEN userAgent LIKE \"%Linux%Firefox%\" THEN \"Linux_Firefox\"\n",
    "                     WHEN userAgent LIKE \"%Macintosh%Firefox%\" THEN \"Macintosh_Firefox\"\n",
    "                     WHEN userAgent LIKE \"%Macintosh%AppleWebKit%\" THEN \"Macintosh_AppleWebKit\"\n",
    "                     WHEN userAgent LIKE \"%Windows%AppleWebKit%\" THEN \"Windows_AppleWebKit\"\n",
    "                     WHEN userAgent LIKE \"%Linux%AppleWebKit%\" THEN \"Linux_AppleWebKit\"\n",
    "                     WHEN userAgent LIKE \"%iPhone%AppleWebKit%\" THEN \"iPhone_AppleWebKit\"\n",
    "                     WHEN userAgent LIKE \"%iPad%AppleWebKit%\" THEN \"iPad_AppleWebKit\"\n",
    "                     ELSE \"Windows_Trident\" END AS userAgent,\n",
    "                SUM(CASE WHEN page = \"Cancellation Confirmation\" THEN 1 ELSE 0 END) AS isChurn\n",
    "            FROM clean_user_log_table\n",
    "            GROUP BY 1, 2\n",
    "            '''\n",
    "         ).toPandas()"
   ]
  },
  {
   "cell_type": "code",
   "execution_count": 89,
   "metadata": {},
   "outputs": [],
   "source": [
    "model_data = model_data.join(user_agent[['userID', 'userAgent']].set_index('userID'))"
   ]
  },
  {
   "cell_type": "markdown",
   "metadata": {},
   "source": [
    "The average time between two songs played could be a relevant measure."
   ]
  },
  {
   "cell_type": "code",
   "execution_count": 90,
   "metadata": {},
   "outputs": [],
   "source": [
    "time_between_songs = spark.sql('''\n",
    "                SELECT a.userID, a.avgTimeDiffBetweenSongs, b.isChurn\n",
    "                FROM (\n",
    "                    SELECT userID,\n",
    "                        AVG(UNIX_TIMESTAMP(nextSongTime) - UNIX_TIMESTAMP(songTime)) AS avgTimeDiffBetweenSongs\n",
    "                    FROM (\n",
    "                        SELECT userID, occurred_at AS songTime,\n",
    "                            LEAD(occurred_at) OVER (PARTITION BY userID ORDER BY occurred_at) AS nextSongTime\n",
    "                        FROM (\n",
    "                            SELECT userID, occurred_at,\n",
    "                                (CASE WHEN page = \"NextSong\" THEN 1 ELSE 0 END) AS song\n",
    "                            FROM clean_user_log_table)\n",
    "                        WHERE song = 1)\n",
    "                    GROUP BY 1) AS a\n",
    "                JOIN churn_user_table AS b\n",
    "                ON a.userID = b.userID\n",
    "                ORDER BY 3, 2 DESC\n",
    "            '''\n",
    "         ).toPandas()"
   ]
  },
  {
   "cell_type": "code",
   "execution_count": 91,
   "metadata": {},
   "outputs": [
    {
     "data": {
      "image/png": "[encoded data removed]",
      "text/plain": [
       "<matplotlib.figure.Figure at 0x7f62b8fba710>"
      ]
     },
     "metadata": {
      "needs_background": "light"
     },
     "output_type": "display_data"
    }
   ],
   "source": [
    "# visualize the distribution of average time between two sessions by both groups\n",
    "sns.boxplot(y=\"avgTimeDiffBetweenSongs\", x=\"isChurn\", data=time_between_songs)\n",
    "plt.title('Distribution of average item by session')\n",
    "plt.ylabel('Average item by session')\n",
    "plt.show()"
   ]
  },
  {
   "cell_type": "code",
   "execution_count": 92,
   "metadata": {},
   "outputs": [],
   "source": [
    "model_data = model_data.join(time_between_songs[['userID', 'avgTimeDiffBetweenSongs']].set_index('userID'))"
   ]
  },
  {
   "cell_type": "code",
   "execution_count": 93,
   "metadata": {},
   "outputs": [
    {
     "data": {
      "text/html": [
       "<div>\n",
       "<style scoped>\n",
       "    .dataframe tbody tr th:only-of-type {\n",
       "        vertical-align: middle;\n",
       "    }\n",
       "\n",
       "    .dataframe tbody tr th {\n",
       "        vertical-align: top;\n",
       "    }\n",
       "\n",
       "    .dataframe thead th {\n",
       "        text-align: right;\n",
       "    }\n",
       "</style>\n",
       "<table border=\"1\" class=\"dataframe\">\n",
       "  <thead>\n",
       "    <tr style=\"text-align: right;\">\n",
       "      <th></th>\n",
       "      <th>level</th>\n",
       "      <th>isChurn</th>\n",
       "      <th>advertising</th>\n",
       "      <th>avgThumbsUp</th>\n",
       "      <th>avgThumbsDown</th>\n",
       "      <th>thumbsDownProportion</th>\n",
       "      <th>avgNumSongs</th>\n",
       "      <th>avgSessionDuration</th>\n",
       "      <th>avgNumPlaylistAddition</th>\n",
       "      <th>avgNumFriendsAdded</th>\n",
       "      <th>avgTimeBetweenSessions</th>\n",
       "      <th>gender</th>\n",
       "      <th>userAgent</th>\n",
       "      <th>avgTimeDiffBetweenSongs</th>\n",
       "    </tr>\n",
       "    <tr>\n",
       "      <th>userID</th>\n",
       "      <th></th>\n",
       "      <th></th>\n",
       "      <th></th>\n",
       "      <th></th>\n",
       "      <th></th>\n",
       "      <th></th>\n",
       "      <th></th>\n",
       "      <th></th>\n",
       "      <th></th>\n",
       "      <th></th>\n",
       "      <th></th>\n",
       "      <th></th>\n",
       "      <th></th>\n",
       "      <th></th>\n",
       "    </tr>\n",
       "  </thead>\n",
       "  <tbody>\n",
       "    <tr>\n",
       "      <th>10</th>\n",
       "      <td>paid</td>\n",
       "      <td>0</td>\n",
       "      <td>0.166667</td>\n",
       "      <td>6.166667</td>\n",
       "      <td>0.666667</td>\n",
       "      <td>0.097561</td>\n",
       "      <td>112.166667</td>\n",
       "      <td>27584.833333</td>\n",
       "      <td>1.500000</td>\n",
       "      <td>2.00</td>\n",
       "      <td>7.002118e+05</td>\n",
       "      <td>M</td>\n",
       "      <td>Macintosh_AppleWebKit</td>\n",
       "      <td>5456.150298</td>\n",
       "    </tr>\n",
       "    <tr>\n",
       "      <th>100</th>\n",
       "      <td>paid</td>\n",
       "      <td>0</td>\n",
       "      <td>0.137931</td>\n",
       "      <td>4.228571</td>\n",
       "      <td>0.771429</td>\n",
       "      <td>0.154286</td>\n",
       "      <td>76.628571</td>\n",
       "      <td>18991.142857</td>\n",
       "      <td>1.742857</td>\n",
       "      <td>1.40</td>\n",
       "      <td>1.302940e+05</td>\n",
       "      <td>M</td>\n",
       "      <td>Windows_Firefox</td>\n",
       "      <td>1900.292055</td>\n",
       "    </tr>\n",
       "    <tr>\n",
       "      <th>100001</th>\n",
       "      <td>free</td>\n",
       "      <td>1</td>\n",
       "      <td>3.500000</td>\n",
       "      <td>2.000000</td>\n",
       "      <td>0.500000</td>\n",
       "      <td>0.200000</td>\n",
       "      <td>33.250000</td>\n",
       "      <td>8889.500000</td>\n",
       "      <td>0.750000</td>\n",
       "      <td>0.50</td>\n",
       "      <td>2.871433e+04</td>\n",
       "      <td>F</td>\n",
       "      <td>Macintosh_AppleWebKit</td>\n",
       "      <td>920.628788</td>\n",
       "    </tr>\n",
       "    <tr>\n",
       "      <th>100002</th>\n",
       "      <td>paid</td>\n",
       "      <td>0</td>\n",
       "      <td>0.750000</td>\n",
       "      <td>1.250000</td>\n",
       "      <td>0.000000</td>\n",
       "      <td>0.000000</td>\n",
       "      <td>48.750000</td>\n",
       "      <td>12071.000000</td>\n",
       "      <td>1.250000</td>\n",
       "      <td>0.25</td>\n",
       "      <td>1.570582e+06</td>\n",
       "      <td>F</td>\n",
       "      <td>Windows_Firefox</td>\n",
       "      <td>24536.195876</td>\n",
       "    </tr>\n",
       "    <tr>\n",
       "      <th>100003</th>\n",
       "      <td>free</td>\n",
       "      <td>1</td>\n",
       "      <td>4.500000</td>\n",
       "      <td>1.500000</td>\n",
       "      <td>0.000000</td>\n",
       "      <td>0.000000</td>\n",
       "      <td>25.500000</td>\n",
       "      <td>5947.000000</td>\n",
       "      <td>1.000000</td>\n",
       "      <td>0.00</td>\n",
       "      <td>1.624670e+05</td>\n",
       "      <td>F</td>\n",
       "      <td>Windows_Firefox</td>\n",
       "      <td>3487.100000</td>\n",
       "    </tr>\n",
       "  </tbody>\n",
       "</table>\n",
       "</div>"
      ],
      "text/plain": [
       "       level  isChurn  advertising  avgThumbsUp  avgThumbsDown  \\\n",
       "userID                                                           \n",
       "10      paid        0     0.166667     6.166667       0.666667   \n",
       "100     paid        0     0.137931     4.228571       0.771429   \n",
       "100001  free        1     3.500000     2.000000       0.500000   \n",
       "100002  paid        0     0.750000     1.250000       0.000000   \n",
       "100003  free        1     4.500000     1.500000       0.000000   \n",
       "\n",
       "        thumbsDownProportion  avgNumSongs  avgSessionDuration  \\\n",
       "userID                                                          \n",
       "10                  0.097561   112.166667        27584.833333   \n",
       "100                 0.154286    76.628571        18991.142857   \n",
       "100001              0.200000    33.250000         8889.500000   \n",
       "100002              0.000000    48.750000        12071.000000   \n",
       "100003              0.000000    25.500000         5947.000000   \n",
       "\n",
       "        avgNumPlaylistAddition  avgNumFriendsAdded  avgTimeBetweenSessions  \\\n",
       "userID                                                                       \n",
       "10                    1.500000                2.00            7.002118e+05   \n",
       "100                   1.742857                1.40            1.302940e+05   \n",
       "100001                0.750000                0.50            2.871433e+04   \n",
       "100002                1.250000                0.25            1.570582e+06   \n",
       "100003                1.000000                0.00            1.624670e+05   \n",
       "\n",
       "       gender              userAgent  avgTimeDiffBetweenSongs  \n",
       "userID                                                         \n",
       "10          M  Macintosh_AppleWebKit              5456.150298  \n",
       "100         M        Windows_Firefox              1900.292055  \n",
       "100001      F  Macintosh_AppleWebKit               920.628788  \n",
       "100002      F        Windows_Firefox             24536.195876  \n",
       "100003      F        Windows_Firefox              3487.100000  "
      ]
     },
     "execution_count": 93,
     "metadata": {},
     "output_type": "execute_result"
    }
   ],
   "source": [
    "model_data.head()"
   ]
  },
  {
   "cell_type": "code",
   "execution_count": 94,
   "metadata": {},
   "outputs": [
    {
     "data": {
      "text/html": [
       "<div>\n",
       "<style scoped>\n",
       "    .dataframe tbody tr th:only-of-type {\n",
       "        vertical-align: middle;\n",
       "    }\n",
       "\n",
       "    .dataframe tbody tr th {\n",
       "        vertical-align: top;\n",
       "    }\n",
       "\n",
       "    .dataframe thead th {\n",
       "        text-align: right;\n",
       "    }\n",
       "</style>\n",
       "<table border=\"1\" class=\"dataframe\">\n",
       "  <thead>\n",
       "    <tr style=\"text-align: right;\">\n",
       "      <th></th>\n",
       "      <th>isChurn</th>\n",
       "      <th>advertising</th>\n",
       "      <th>avgThumbsUp</th>\n",
       "      <th>avgThumbsDown</th>\n",
       "      <th>thumbsDownProportion</th>\n",
       "      <th>avgNumSongs</th>\n",
       "      <th>avgSessionDuration</th>\n",
       "      <th>avgNumPlaylistAddition</th>\n",
       "      <th>avgNumFriendsAdded</th>\n",
       "      <th>avgTimeBetweenSessions</th>\n",
       "      <th>avgTimeDiffBetweenSongs</th>\n",
       "    </tr>\n",
       "  </thead>\n",
       "  <tbody>\n",
       "    <tr>\n",
       "      <th>count</th>\n",
       "      <td>225.000000</td>\n",
       "      <td>225.000000</td>\n",
       "      <td>225.000000</td>\n",
       "      <td>225.000000</td>\n",
       "      <td>221.000000</td>\n",
       "      <td>225.000000</td>\n",
       "      <td>225.000000</td>\n",
       "      <td>225.000000</td>\n",
       "      <td>225.000000</td>\n",
       "      <td>2.100000e+02</td>\n",
       "      <td>225.000000</td>\n",
       "    </tr>\n",
       "    <tr>\n",
       "      <th>mean</th>\n",
       "      <td>0.231111</td>\n",
       "      <td>1.247396</td>\n",
       "      <td>3.735060</td>\n",
       "      <td>0.765844</td>\n",
       "      <td>0.176896</td>\n",
       "      <td>69.002331</td>\n",
       "      <td>17289.959044</td>\n",
       "      <td>1.929065</td>\n",
       "      <td>1.373669</td>\n",
       "      <td>4.689066e+05</td>\n",
       "      <td>8961.479990</td>\n",
       "    </tr>\n",
       "    <tr>\n",
       "      <th>std</th>\n",
       "      <td>0.422483</td>\n",
       "      <td>2.114283</td>\n",
       "      <td>2.325835</td>\n",
       "      <td>0.589862</td>\n",
       "      <td>0.121938</td>\n",
       "      <td>42.320954</td>\n",
       "      <td>10610.546683</td>\n",
       "      <td>1.277232</td>\n",
       "      <td>0.940729</td>\n",
       "      <td>4.678903e+05</td>\n",
       "      <td>15309.850365</td>\n",
       "    </tr>\n",
       "    <tr>\n",
       "      <th>min</th>\n",
       "      <td>0.000000</td>\n",
       "      <td>0.000000</td>\n",
       "      <td>0.000000</td>\n",
       "      <td>0.000000</td>\n",
       "      <td>0.000000</td>\n",
       "      <td>3.000000</td>\n",
       "      <td>420.000000</td>\n",
       "      <td>0.000000</td>\n",
       "      <td>0.000000</td>\n",
       "      <td>2.871433e+04</td>\n",
       "      <td>209.000000</td>\n",
       "    </tr>\n",
       "    <tr>\n",
       "      <th>25%</th>\n",
       "      <td>0.000000</td>\n",
       "      <td>0.000000</td>\n",
       "      <td>2.000000</td>\n",
       "      <td>0.375000</td>\n",
       "      <td>0.105263</td>\n",
       "      <td>35.857143</td>\n",
       "      <td>9682.625000</td>\n",
       "      <td>1.000000</td>\n",
       "      <td>0.750000</td>\n",
       "      <td>2.054402e+05</td>\n",
       "      <td>2385.431104</td>\n",
       "    </tr>\n",
       "    <tr>\n",
       "      <th>50%</th>\n",
       "      <td>0.000000</td>\n",
       "      <td>0.166667</td>\n",
       "      <td>3.500000</td>\n",
       "      <td>0.666667</td>\n",
       "      <td>0.156250</td>\n",
       "      <td>64.200000</td>\n",
       "      <td>15924.250000</td>\n",
       "      <td>1.800000</td>\n",
       "      <td>1.250000</td>\n",
       "      <td>3.190955e+05</td>\n",
       "      <td>4011.485577</td>\n",
       "    </tr>\n",
       "    <tr>\n",
       "      <th>75%</th>\n",
       "      <td>0.000000</td>\n",
       "      <td>2.000000</td>\n",
       "      <td>5.000000</td>\n",
       "      <td>1.000000</td>\n",
       "      <td>0.215517</td>\n",
       "      <td>91.714286</td>\n",
       "      <td>22889.000000</td>\n",
       "      <td>2.617647</td>\n",
       "      <td>1.800000</td>\n",
       "      <td>5.976158e+05</td>\n",
       "      <td>10227.346405</td>\n",
       "    </tr>\n",
       "    <tr>\n",
       "      <th>max</th>\n",
       "      <td>1.000000</td>\n",
       "      <td>14.000000</td>\n",
       "      <td>13.777778</td>\n",
       "      <td>3.466667</td>\n",
       "      <td>1.000000</td>\n",
       "      <td>286.666667</td>\n",
       "      <td>70794.000000</td>\n",
       "      <td>8.000000</td>\n",
       "      <td>4.666667</td>\n",
       "      <td>3.831080e+06</td>\n",
       "      <td>137097.464286</td>\n",
       "    </tr>\n",
       "  </tbody>\n",
       "</table>\n",
       "</div>"
      ],
      "text/plain": [
       "          isChurn  advertising  avgThumbsUp  avgThumbsDown  \\\n",
       "count  225.000000   225.000000   225.000000     225.000000   \n",
       "mean     0.231111     1.247396     3.735060       0.765844   \n",
       "std      0.422483     2.114283     2.325835       0.589862   \n",
       "min      0.000000     0.000000     0.000000       0.000000   \n",
       "25%      0.000000     0.000000     2.000000       0.375000   \n",
       "50%      0.000000     0.166667     3.500000       0.666667   \n",
       "75%      0.000000     2.000000     5.000000       1.000000   \n",
       "max      1.000000    14.000000    13.777778       3.466667   \n",
       "\n",
       "       thumbsDownProportion  avgNumSongs  avgSessionDuration  \\\n",
       "count            221.000000   225.000000          225.000000   \n",
       "mean               0.176896    69.002331        17289.959044   \n",
       "std                0.121938    42.320954        10610.546683   \n",
       "min                0.000000     3.000000          420.000000   \n",
       "25%                0.105263    35.857143         9682.625000   \n",
       "50%                0.156250    64.200000        15924.250000   \n",
       "75%                0.215517    91.714286        22889.000000   \n",
       "max                1.000000   286.666667        70794.000000   \n",
       "\n",
       "       avgNumPlaylistAddition  avgNumFriendsAdded  avgTimeBetweenSessions  \\\n",
       "count              225.000000          225.000000            2.100000e+02   \n",
       "mean                 1.929065            1.373669            4.689066e+05   \n",
       "std                  1.277232            0.940729            4.678903e+05   \n",
       "min                  0.000000            0.000000            2.871433e+04   \n",
       "25%                  1.000000            0.750000            2.054402e+05   \n",
       "50%                  1.800000            1.250000            3.190955e+05   \n",
       "75%                  2.617647            1.800000            5.976158e+05   \n",
       "max                  8.000000            4.666667            3.831080e+06   \n",
       "\n",
       "       avgTimeDiffBetweenSongs  \n",
       "count               225.000000  \n",
       "mean               8961.479990  \n",
       "std               15309.850365  \n",
       "min                 209.000000  \n",
       "25%                2385.431104  \n",
       "50%                4011.485577  \n",
       "75%               10227.346405  \n",
       "max              137097.464286  "
      ]
     },
     "execution_count": 94,
     "metadata": {},
     "output_type": "execute_result"
    }
   ],
   "source": [
    "model_data.describe()"
   ]
  },
  {
   "cell_type": "code",
   "execution_count": 95,
   "metadata": {},
   "outputs": [
    {
     "data": {
      "text/plain": [
       "level                       0\n",
       "isChurn                     0\n",
       "advertising                 0\n",
       "avgThumbsUp                 0\n",
       "avgThumbsDown               0\n",
       "thumbsDownProportion        4\n",
       "avgNumSongs                 0\n",
       "avgSessionDuration          0\n",
       "avgNumPlaylistAddition      0\n",
       "avgNumFriendsAdded          0\n",
       "avgTimeBetweenSessions     15\n",
       "gender                      0\n",
       "userAgent                   0\n",
       "avgTimeDiffBetweenSongs     0\n",
       "dtype: int64"
      ]
     },
     "execution_count": 95,
     "metadata": {},
     "output_type": "execute_result"
    }
   ],
   "source": [
    "# Checking for nan values\n",
    "model_data.isna().sum()"
   ]
  },
  {
   "cell_type": "code",
   "execution_count": 96,
   "metadata": {},
   "outputs": [],
   "source": [
    "# Fill nan for 0, since: \n",
    "# 1. Who haven't time between session is a user who have just one session\n",
    "# 2. Who haven't thumbs down proportion is because the user didn't gave any thumbs\n",
    "model_data['avgTimeBetweenSessions'] = model_data['avgTimeBetweenSessions'].fillna(0)\n",
    "model_data['thumbsDownProportion'] = model_data['thumbsDownProportion'].fillna(0)\n",
    "model_data.rename(columns = {'isChurn': 'label'}, inplace = True)\n",
    "\n",
    "# Convert the dataframe\n",
    "model_df = spark.createDataFrame(model_data.values.tolist(), list(model_data.columns))"
   ]
  },
  {
   "cell_type": "code",
   "execution_count": 97,
   "metadata": {},
   "outputs": [],
   "source": [
    "# Building the pipeline to prepare the data to fit, \n",
    "# adding string indexer for categorial columns\n",
    "\n",
    "features = ['level_index',\n",
    "           'gender_index',\n",
    "           'user_agent_index',\n",
    "           'advertising', \n",
    "           'avgThumbsUp',\n",
    "           'avgThumbsDown', \n",
    "           'thumbsDownProportion', \n",
    "           'avgNumSongs', \n",
    "           'avgSessionDuration',\n",
    "           'avgNumPlaylistAddition', \n",
    "           'avgNumFriendsAdded',\n",
    "           'avgTimeBetweenSessions',                                          \n",
    "           'avgTimeDiffBetweenSongs'                                           \n",
    "           ]\n",
    "\n",
    "indexer_gender = StringIndexer(inputCol='gender', outputCol='gender_index')\n",
    "indexer_level = StringIndexer(inputCol='level', outputCol='level_index')\n",
    "indexer_user_agent = StringIndexer(inputCol='userAgent', outputCol='user_agent_index')\n",
    "vec_assembler = VectorAssembler(inputCols=features, outputCol='features')\n",
    "\n",
    "pipeline = Pipeline(stages=[indexer_gender, indexer_level, indexer_user_agent, vec_assembler])\n",
    "treated_data = pipeline.fit(model_df).transform(model_df)"
   ]
  },
  {
   "cell_type": "code",
   "execution_count": 98,
   "metadata": {},
   "outputs": [
    {
     "name": "stdout",
     "output_type": "stream",
     "text": [
      "Number of Sparse vectors: 7\n"
     ]
    }
   ],
   "source": [
    "# Checking for sparse vectors\n",
    "feature_vector = treated_data.select('features').collect()\n",
    "sparseVectors = list(filter(lambda x: type(x[0]) is SparseVector, feature_vector))\n",
    "\n",
    "print('Number of Sparse vectors: {}'.format(len(sparseVectors)))"
   ]
  },
  {
   "cell_type": "code",
   "execution_count": 99,
   "metadata": {},
   "outputs": [],
   "source": [
    "# Let's convert sparse vectors to dense vectors to improve the learning methods\n",
    "data_to_use = treated_data.select('label', 'features')\n",
    "data_to_use = data_to_use.rdd.map(lambda x: Row(label =x[0], features = DenseVector(x[1].toArray())))\n",
    "treated_data = spark.createDataFrame(data_to_use)"
   ]
  },
  {
   "cell_type": "markdown",
   "metadata": {},
   "source": [
    "# Modeling\n",
    "Split the full dataset into train, test, and validation sets. Test out several of the machine learning methods you learned. Evaluate the accuracy of the various models, tuning parameters as necessary. Determine your winning model based on test accuracy and report results on the validation set. Since the churned users are a fairly small subset, I suggest using F1 score as the metric to optimize."
   ]
  },
  {
   "cell_type": "code",
   "execution_count": 100,
   "metadata": {},
   "outputs": [
    {
     "data": {
      "text/plain": [
       "Row(features=DenseVector([0.0, 0.0, 0.0, 0.0, 1.1667, 0.0, 0.0, 23.1667, 5243.8333, 0.8333, 0.5, 440463.0, 16186.4565]), label=0)"
      ]
     },
     "execution_count": 100,
     "metadata": {},
     "output_type": "execute_result"
    }
   ],
   "source": [
    "# Split this data between train and test sets\n",
    "train, test = treated_data.randomSplit([0.8, 0.2], seed=42)\n",
    "train.head()"
   ]
  },
  {
   "cell_type": "code",
   "execution_count": 101,
   "metadata": {},
   "outputs": [],
   "source": [
    "'''\n",
    "Since some of our feature have values in a much greater scale, \n",
    "it's necessary scaling the feature vector.\n",
    "'''\n",
    "min_max_scaler = MinMaxScaler(inputCol='features', outputCol='scaledFeatures')\n",
    "\n",
    "'''\n",
    "As the plan is to use the cross validation to hyper-tune the parameters, \n",
    "scaling the set before cross validation could cause the data leakage. \n",
    "The recommendation is to use a pipeline to scaling the data in a pre processor \n",
    "step, since cross validation divides the train set into two new sets, one to \n",
    "train and other to validate.\n",
    "'''\n",
    "\n",
    "logit = LogisticRegression()\n",
    "pipe_logit = Pipeline(stages=[min_max_scaler, logit])\n",
    "\n",
    "randomForest = RandomForestClassifier(seed=42)\n",
    "pipe_randomForest = Pipeline(stages=[min_max_scaler, randomForest])\n",
    "\n",
    "gbt = GBTClassifier(maxIter=20, seed=42)\n",
    "pipe_gbt = Pipeline(stages=[min_max_scaler, gbt])"
   ]
  },
  {
   "cell_type": "code",
   "execution_count": 102,
   "metadata": {},
   "outputs": [],
   "source": [
    "def evaluate_model(model, test, method):\n",
    "    '''\n",
    "    INPUT:\n",
    "    model - the fitted model to be evaluated\n",
    "    test - the test set to evaluate the model\n",
    "    method - the method chosen to fit the model\n",
    "    \n",
    "    OUTPUT:\n",
    "    metrics - a list with recall, precision and F1 score in this order\n",
    "    \n",
    "    DESCRIPTION:\n",
    "    This function evaluate the model using F1 score, recall and precision, \n",
    "    printing this metrics to discuss the results.\n",
    "    '''\n",
    "    \n",
    "    results = model.transform(test)\n",
    "\n",
    "    evaluator = MulticlassClassificationEvaluator(predictionCol=\"prediction\")\n",
    "    recall = evaluator.evaluate(results, {evaluator.metricName: \"weightedRecall\"})\n",
    "    precision = evaluator.evaluate(results, {evaluator.metricName: \"weightedPrecision\"})\n",
    "    f1_score = evaluator.evaluate(results, {evaluator.metricName: \"f1\"})\n",
    "\n",
    "    print(\"Recall for {} Model is: {}\".format(method, recall))\n",
    "    print(\"Precision for {} Model is: {}\".format(method, precision))\n",
    "    print(\"F1 Score for {} Model is: {}\".format(method, f1_score))\n",
    "    \n",
    "    metrics = [recall, precision, f1_score]\n",
    "    \n",
    "    return metrics"
   ]
  },
  {
   "cell_type": "code",
   "execution_count": 103,
   "metadata": {},
   "outputs": [
    {
     "name": "stdout",
     "output_type": "stream",
     "text": [
      "Recall for Logistic Regression Model is: 0.875\n",
      "Precision for Logistic Regression Model is: 0.860632183908046\n",
      "F1 Score for Logistic Regression Model is: 0.8616071428571429\n"
     ]
    }
   ],
   "source": [
    "model = pipe_logit.fit(train)\n",
    "logit_metrics = evaluate_model(model, test, 'Logistic Regression')"
   ]
  },
  {
   "cell_type": "code",
   "execution_count": 104,
   "metadata": {},
   "outputs": [
    {
     "name": "stdout",
     "output_type": "stream",
     "text": [
      "Recall for Random Forest Classifier Model is: 0.84375\n",
      "Precision for Random Forest Classifier Model is: 0.8569711538461539\n",
      "F1 Score for Random Forest Classifier Model is: 0.8493782161234992\n"
     ]
    }
   ],
   "source": [
    "model = pipe_randomForest.fit(train)\n",
    "random_metrics = evaluate_model(model, test, 'Random Forest Classifier')"
   ]
  },
  {
   "cell_type": "code",
   "execution_count": 105,
   "metadata": {},
   "outputs": [
    {
     "name": "stdout",
     "output_type": "stream",
     "text": [
      "Recall for Gradient Boosted Tree Model is: 0.71875\n",
      "Precision for Gradient Boosted Tree Model is: 0.77734375\n",
      "F1 Score for Gradient Boosted Tree Model is: 0.7429298642533938\n"
     ]
    }
   ],
   "source": [
    "model = pipe_gbt.fit(train)\n",
    "gtb_metrics = evaluate_model(model, test, 'Gradient Boosted Tree')"
   ]
  },
  {
   "cell_type": "code",
   "execution_count": 106,
   "metadata": {},
   "outputs": [
    {
     "data": {
      "text/html": [
       "<div>\n",
       "<style scoped>\n",
       "    .dataframe tbody tr th:only-of-type {\n",
       "        vertical-align: middle;\n",
       "    }\n",
       "\n",
       "    .dataframe tbody tr th {\n",
       "        vertical-align: top;\n",
       "    }\n",
       "\n",
       "    .dataframe thead th {\n",
       "        text-align: right;\n",
       "    }\n",
       "</style>\n",
       "<table border=\"1\" class=\"dataframe\">\n",
       "  <thead>\n",
       "    <tr style=\"text-align: right;\">\n",
       "      <th></th>\n",
       "      <th>recall</th>\n",
       "      <th>precision</th>\n",
       "      <th>F1 score</th>\n",
       "    </tr>\n",
       "  </thead>\n",
       "  <tbody>\n",
       "    <tr>\n",
       "      <th>Logistic Regression</th>\n",
       "      <td>0.87500</td>\n",
       "      <td>0.860632</td>\n",
       "      <td>0.861607</td>\n",
       "    </tr>\n",
       "    <tr>\n",
       "      <th>Random Forest Classifier</th>\n",
       "      <td>0.84375</td>\n",
       "      <td>0.856971</td>\n",
       "      <td>0.849378</td>\n",
       "    </tr>\n",
       "    <tr>\n",
       "      <th>Gradient Boosted Tree</th>\n",
       "      <td>0.71875</td>\n",
       "      <td>0.777344</td>\n",
       "      <td>0.742930</td>\n",
       "    </tr>\n",
       "  </tbody>\n",
       "</table>\n",
       "</div>"
      ],
      "text/plain": [
       "                           recall  precision  F1 score\n",
       "Logistic Regression       0.87500   0.860632  0.861607\n",
       "Random Forest Classifier  0.84375   0.856971  0.849378\n",
       "Gradient Boosted Tree     0.71875   0.777344  0.742930"
      ]
     },
     "execution_count": 106,
     "metadata": {},
     "output_type": "execute_result"
    }
   ],
   "source": [
    "metrics = [logit_metrics, random_metrics, gtb_metrics]\n",
    "index = ['Logistic Regression' ,'Random Forest Classifier', 'Gradient Boosted Tree']\n",
    "pd.DataFrame(metrics, columns=['recall', 'precision', 'F1 score'], index=index)"
   ]
  },
  {
   "cell_type": "markdown",
   "metadata": {},
   "source": [
    "### Hyperparameter tuning "
   ]
  },
  {
   "cell_type": "code",
   "execution_count": 107,
   "metadata": {},
   "outputs": [],
   "source": [
    "def get_results(cv_model, params, method):\n",
    "    '''\n",
    "    INPUT:\n",
    "    cv_model - the fitted model generated by the cross validator method\n",
    "    test - the test set to evaluate the model\n",
    "    method - the method chosen to fit the model\n",
    "    \n",
    "    OUTPUT:\n",
    "    importance - feature importance for the model\n",
    "    \n",
    "    DESCRIPTION:\n",
    "    This function print the best params for a given fitted model,\n",
    "    and return the feature importance for this model. Unfortunately,\n",
    "    Logistic Regression doesn't have the featureImportances attribute.\n",
    "    '''\n",
    "    best_params = cv_model.bestModel.stages[1]\n",
    "    \n",
    "    print('Best params for {}'.format(method))\n",
    "    for param in params:\n",
    "        print('{}: {}'.format(param, best_params.getOrDefault(param)))\n",
    "    \n",
    "    importance = []\n",
    "    if method != 'Logistic Regression':\n",
    "        for i in range(len(best_params.featureImportances)):\n",
    "            importance.append(best_params.featureImportances[i])\n",
    "        \n",
    "    return importance"
   ]
  },
  {
   "cell_type": "markdown",
   "metadata": {},
   "source": [
    "Let's tuning the Logistic Regression model by regularization rate and set the threshold."
   ]
  },
  {
   "cell_type": "code",
   "execution_count": 108,
   "metadata": {},
   "outputs": [
    {
     "name": "stdout",
     "output_type": "stream",
     "text": [
      "Recall for Logistic Regression Model is: 0.875\n",
      "Precision for Logistic Regression Model is: 0.860632183908046\n",
      "F1 Score for Logistic Regression Model is: 0.8616071428571429\n"
     ]
    }
   ],
   "source": [
    "param_grid = ParamGridBuilder() \\\n",
    "    .addGrid(logit.regParam, [0.1, 0.15, 0.2, 0.5]) \\\n",
    "    .build()\n",
    "    \n",
    "cv_logit = CrossValidator(estimator = pipe_logit,\n",
    "                       estimatorParamMaps = param_grid,\n",
    "                       evaluator = MulticlassClassificationEvaluator(),\n",
    "                       numFolds = 3,\n",
    "                       seed = 42\n",
    "                      )\n",
    "cv_model_logit = cv_logit.fit(train)\n",
    "logit_metrics = evaluate_model(cv_model_logit, test, 'Logistic Regression')"
   ]
  },
  {
   "cell_type": "code",
   "execution_count": 109,
   "metadata": {},
   "outputs": [
    {
     "name": "stdout",
     "output_type": "stream",
     "text": [
      "Best params for Logistic Regression\n",
      "regParam: 0.1\n"
     ]
    },
    {
     "data": {
      "text/plain": [
       "[]"
      ]
     },
     "execution_count": 109,
     "metadata": {},
     "output_type": "execute_result"
    }
   ],
   "source": [
    "get_results(cv_model_logit, ['regParam'], 'Logistic Regression')"
   ]
  },
  {
   "cell_type": "markdown",
   "metadata": {},
   "source": [
    "Let's tuning the Random Forest Classifier."
   ]
  },
  {
   "cell_type": "code",
   "execution_count": 110,
   "metadata": {},
   "outputs": [
    {
     "name": "stdout",
     "output_type": "stream",
     "text": [
      "Recall for Random Forest Classifier Model is: 0.90625\n",
      "Precision for Random Forest Classifier Model is: 0.9006696428571429\n",
      "F1 Score for Random Forest Classifier Model is: 0.9018939393939394\n"
     ]
    }
   ],
   "source": [
    "param_grid = ParamGridBuilder() \\\n",
    "    .addGrid(randomForest.numTrees, [15, 30, 45]) \\\n",
    "    .addGrid(randomForest.maxDepth, [10, 15, 20]) \\\n",
    "    .build()\n",
    "\n",
    "cv_rforest = CrossValidator(estimator = pipe_randomForest,\n",
    "                         estimatorParamMaps = param_grid,\n",
    "                         evaluator = MulticlassClassificationEvaluator(),\n",
    "                         numFolds = 3,\n",
    "                         seed = 42\n",
    "                        )\n",
    "cv_model_rforest = cv_rforest.fit(train)\n",
    "random_metrics = evaluate_model(cv_model_rforest, test, 'Random Forest Classifier')"
   ]
  },
  {
   "cell_type": "code",
   "execution_count": 111,
   "metadata": {},
   "outputs": [
    {
     "name": "stdout",
     "output_type": "stream",
     "text": [
      "Best params for Random Forest Classifier\n",
      "numTrees: 30\n",
      "maxDepth: 10\n"
     ]
    }
   ],
   "source": [
    "params = ['numTrees', 'maxDepth']\n",
    "importance_randForest = get_results(cv_model_rforest, params, 'Random Forest Classifier')"
   ]
  },
  {
   "cell_type": "markdown",
   "metadata": {},
   "source": [
    "Let's tuning the Gradient Boosted Tree."
   ]
  },
  {
   "cell_type": "code",
   "execution_count": 112,
   "metadata": {},
   "outputs": [
    {
     "name": "stdout",
     "output_type": "stream",
     "text": [
      "Recall for Gradient Boosted Tree Model is: 0.875\n",
      "Precision for Gradient Boosted Tree Model is: 0.8911290322580645\n",
      "F1 Score for Gradient Boosted Tree Model is: 0.8376436781609196\n"
     ]
    }
   ],
   "source": [
    "paramGrid = ParamGridBuilder() \\\n",
    "            .addGrid(gbt.minInstancesPerNode, [5, 10, 20, 40]) \\\n",
    "            .addGrid(gbt.maxDepth, [10, 15, 20])\\\n",
    "            .build()\n",
    "\n",
    "cv_gbt = CrossValidator(estimator = pipe_gbt,\n",
    "                        estimatorParamMaps = paramGrid,\n",
    "                        evaluator = MulticlassClassificationEvaluator(),\n",
    "                        numFolds = 3,\n",
    "                        seed = 42\n",
    "                       )\n",
    "cv_model_gbt = cv_gbt.fit(train)\n",
    "gtb_metrics = evaluate_model(cv_model_gbt, test, 'Gradient Boosted Tree')"
   ]
  },
  {
   "cell_type": "code",
   "execution_count": 113,
   "metadata": {},
   "outputs": [
    {
     "name": "stdout",
     "output_type": "stream",
     "text": [
      "Best params for Gradient Boosted Tree\n",
      "minInstancesPerNode: 40\n",
      "maxDepth: 10\n"
     ]
    }
   ],
   "source": [
    "params = ['minInstancesPerNode', 'maxDepth']\n",
    "importance_gbt = get_results(cv_model_gbt, params, 'Gradient Boosted Tree')"
   ]
  },
  {
   "cell_type": "code",
   "execution_count": 114,
   "metadata": {},
   "outputs": [
    {
     "data": {
      "text/html": [
       "<div>\n",
       "<style scoped>\n",
       "    .dataframe tbody tr th:only-of-type {\n",
       "        vertical-align: middle;\n",
       "    }\n",
       "\n",
       "    .dataframe tbody tr th {\n",
       "        vertical-align: top;\n",
       "    }\n",
       "\n",
       "    .dataframe thead th {\n",
       "        text-align: right;\n",
       "    }\n",
       "</style>\n",
       "<table border=\"1\" class=\"dataframe\">\n",
       "  <thead>\n",
       "    <tr style=\"text-align: right;\">\n",
       "      <th></th>\n",
       "      <th>recall</th>\n",
       "      <th>precision</th>\n",
       "      <th>F1 score</th>\n",
       "    </tr>\n",
       "  </thead>\n",
       "  <tbody>\n",
       "    <tr>\n",
       "      <th>Logistic Regression</th>\n",
       "      <td>0.87500</td>\n",
       "      <td>0.860632</td>\n",
       "      <td>0.861607</td>\n",
       "    </tr>\n",
       "    <tr>\n",
       "      <th>Random Forest Classifier</th>\n",
       "      <td>0.90625</td>\n",
       "      <td>0.900670</td>\n",
       "      <td>0.901894</td>\n",
       "    </tr>\n",
       "    <tr>\n",
       "      <th>Gradient Boosted Tree</th>\n",
       "      <td>0.87500</td>\n",
       "      <td>0.891129</td>\n",
       "      <td>0.837644</td>\n",
       "    </tr>\n",
       "  </tbody>\n",
       "</table>\n",
       "</div>"
      ],
      "text/plain": [
       "                           recall  precision  F1 score\n",
       "Logistic Regression       0.87500   0.860632  0.861607\n",
       "Random Forest Classifier  0.90625   0.900670  0.901894\n",
       "Gradient Boosted Tree     0.87500   0.891129  0.837644"
      ]
     },
     "execution_count": 114,
     "metadata": {},
     "output_type": "execute_result"
    }
   ],
   "source": [
    "metrics = [logit_metrics, random_metrics, gtb_metrics]\n",
    "index = ['Logistic Regression' ,'Random Forest Classifier', 'Gradient Boosted Tree']\n",
    "pd.DataFrame(metrics, columns=['recall', 'precision', 'F1 score'], index=index)"
   ]
  },
  {
   "cell_type": "code",
   "execution_count": 115,
   "metadata": {},
   "outputs": [],
   "source": [
    "index = ['Random Forest Classifier', 'Gradient Boosted Tree']\n",
    "importance = pd.DataFrame([importance_randForest, importance_gbt], columns=features, index=index)"
   ]
  },
  {
   "cell_type": "code",
   "execution_count": 116,
   "metadata": {},
   "outputs": [
    {
     "data": {
      "text/plain": [
       "<matplotlib.axes._subplots.AxesSubplot at 0x7f62b91d2dd8>"
      ]
     },
     "execution_count": 116,
     "metadata": {},
     "output_type": "execute_result"
    },
    {
     "data": {
      "image/png": "[encoded data removed]",
      "text/plain": [
       "<matplotlib.figure.Figure at 0x7f62b9c06ba8>"
      ]
     },
     "metadata": {
      "needs_background": "light"
     },
     "output_type": "display_data"
    }
   ],
   "source": [
    "importance.transpose().plot(kind='bar', title='Feature importance distribution')"
   ]
  },
  {
   "cell_type": "code",
   "execution_count": null,
   "metadata": {},
   "outputs": [],
   "source": []
  }
 ],
 "metadata": {
  "kernelspec": {
   "display_name": "Python 3",
   "language": "python",
   "name": "python3"
  },
  "language_info": {
   "codemirror_mode": {
    "name": "ipython",
    "version": 3
   },
   "file_extension": ".py",
   "mimetype": "text/x-python",
   "name": "python",
   "nbconvert_exporter": "python",
   "pygments_lexer": "ipython3",
   "version": "3.6.3"
  }
 },
 "nbformat": 4,
 "nbformat_minor": 2
}
